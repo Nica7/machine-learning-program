{
 "cells": [
  {
   "cell_type": "markdown",
   "id": "d1a5bcb8",
   "metadata": {},
   "source": [
    "<font size=\"+5\">#01. Tablas, Graficas & Conceptos Basicos de Programacion</font>"
   ]
  },
  {
   "cell_type": "markdown",
   "id": "61985a1d",
   "metadata": {},
   "source": [
    "<table class=\"tfo-notebook-buttons\" align=\"left\"\n",
    "style='border-spacing: 20px;\n",
    "border-collapse: separate; font-family: -apple-system, BlinkMacSystemFont, \"Segoe UI\", Roboto,\n",
    "Oxygen, Ubuntu, Cantarell, \"Open Sans\", \"Helvetica Neue\", sans-serif; font-size: 15px'\n",
    ">\n",
    "<td style=\"padding-right: 100px;\">\n",
    "<div\n",
    "style=\"\n",
    "  display: flex;\n",
    "  flex-direction: row;\n",
    "  justify-content: center;\n",
    "  align-items: center;\n",
    "  padding: 0px;\n",
    "\"\n",
    ">\n",
    "<img\n",
    "  style=\"\n",
    "    position: static;\n",
    "    width: 33px;\n",
    "    height: 50px;\n",
    "    left: 0px;\n",
    "    top: 0px;\n",
    "  \"\n",
    "  src=\"https://res.cloudinary.com/sotastica-com/image/upload/v1629821503/logo%4072.png\"\n",
    "/>\n",
    "<a\n",
    "  style=\"\n",
    "    flex: none;\n",
    "    order: 1;\n",
    "    flex-grow: 0;\n",
    "    margin: 0px 10px;\n",
    "    font-size: 35px;\n",
    "    display: flex;\n",
    "    flex-direction: row;\n",
    "    justify-content: center;\n",
    "    align-items: center;\n",
    "    padding: 0px;\n",
    "    color: #000;\n",
    "    text-decoration-color: #000;\n",
    "    text-decoration-thickness: 1.5pt;\n",
    "    text-underline-position: under;\n",
    "  \"\n",
    "  target=\"_blank\"\n",
    "  href=\"https://sotastica.com\"\n",
    "  >sotastica</a\n",
    ">\n",
    "</div>\n",
    "</td>\n",
    "<td style=\"vertical-align: middle\">\n",
    "  <img\n",
    "    style=\"vertical-align: middle\"\n",
    "    width=\"36px\"\n",
    "    src=\"https://openmoji.org/php/download_asset.php?type=emoji&emoji_hexcode=E040&emoji_variant=color\"\n",
    "  />\n",
    "  <a\n",
    "    style=\"\n",
    "      color: #61b2e4;\n",
    "      text-decoration-color: #61b2e4;\n",
    "      text-decoration-thickness: 1.5pt;\n",
    "      text-underline-position: under;\n",
    "    \"\n",
    "    target=\"_blank\"\n",
    "    href=\"https://twitter.com/sotastica\"\n",
    "    >Follow me!</a\n",
    "  >\n",
    "</td>\n",
    "<td style=\"vertical-align: middle\">\n",
    "  <img\n",
    "    style=\"vertical-align: middle\"\n",
    "    width=\"36px\"\n",
    "    src=\"https://openmoji.org/php/download_asset.php?type=emoji&emoji_hexcode=E043&emoji_variant=color\"\n",
    "  />\n",
    "  <a\n",
    "    style=\"\n",
    "      color: #000;\n",
    "      text-decoration-color: #000;\n",
    "      text-decoration-thickness: 1.5pt;\n",
    "      text-underline-position: under;\n",
    "    \"\n",
    "    target=\"_blank\"\n",
    "    href=\"https://www.instagram.com/sotastica.com_/\"\n",
    "    >Sígueme</a\n",
    "  >\n",
    "</td>\n",
    "<td style=\"vertical-align: middle\">\n",
    "  <img\n",
    "    style=\"vertical-align: middle\"\n",
    "    width=\"36px\"\n",
    "    src=\"https://openmoji.org/php/download_asset.php?type=emoji&emoji_hexcode=E046&emoji_variant=color\"\n",
    "  />\n",
    "  <a\n",
    "    style=\"\n",
    "      color: #61b2e4;\n",
    "      text-decoration-color: #61b2e4;\n",
    "      text-decoration-thickness: 1.5pt;\n",
    "      text-underline-position: under;\n",
    "    \"\n",
    "    target=\"_blank\"\n",
    "    href=\"https://www.linkedin.com/in/jesusloplar/\"\n",
    "    >Conectamos?</a\n",
    "  >\n",
    "</td>\n",
    "<td style=\"vertical-align: middle\">\n",
    "  <img\n",
    "    style=\"vertical-align: middle\"\n",
    "    width=\"36px\"\n",
    "    src=\"https://openmoji.org/php/download_asset.php?type=emoji&emoji_hexcode=E044&emoji_variant=color\"\n",
    "  />\n",
    "  <a\n",
    "    style=\"\n",
    "      color: #ea5a47;\n",
    "      text-decoration-color: #ea5a47;\n",
    "      text-decoration-thickness: 1.5pt;\n",
    "      text-underline-position: under;\n",
    "    \"\n",
    "    target=\"_blank\"\n",
    "    href=\"https://www.youtube.com/channel/UCovCte2I3loteQE_kRsfQcw\"\n",
    "    >Suscríbete</a\n",
    "  >\n",
    "</td>\n",
    "</table>"
   ]
  },
  {
   "cell_type": "markdown",
   "id": "454a186e",
   "metadata": {},
   "source": [
    "# Definir una variable"
   ]
  },
  {
   "cell_type": "markdown",
   "id": "b867a1ab",
   "metadata": {},
   "source": [
    "> Asignar un `objeto` (numero, letras) a una `variable`."
   ]
  },
  {
   "cell_type": "code",
   "execution_count": null,
   "id": "fc1b8569",
   "metadata": {},
   "outputs": [],
   "source": []
  },
  {
   "cell_type": "markdown",
   "id": "51c33a15",
   "metadata": {},
   "source": [
    "# El Registro"
   ]
  },
  {
   "cell_type": "markdown",
   "id": "303be3d5",
   "metadata": {},
   "source": [
    "> Lugar donde Python va a buscar las palabras que escribimos."
   ]
  },
  {
   "cell_type": "code",
   "execution_count": null,
   "id": "9f024bf7",
   "metadata": {},
   "outputs": [],
   "source": []
  },
  {
   "cell_type": "markdown",
   "id": "4d4785b9",
   "metadata": {},
   "source": [
    "# Uso de Funciones"
   ]
  },
  {
   "cell_type": "markdown",
   "id": "c585da04",
   "metadata": {},
   "source": [
    "## Funciones Predefinidas en Python (_Built-in_ Functions)"
   ]
  },
  {
   "cell_type": "markdown",
   "id": "1a90594a",
   "metadata": {},
   "source": [
    "> https://docs.python.org/3/library/functions.html"
   ]
  },
  {
   "cell_type": "code",
   "execution_count": null,
   "id": "946f5ad4",
   "metadata": {},
   "outputs": [],
   "source": []
  },
  {
   "cell_type": "markdown",
   "id": "5c37facf",
   "metadata": {},
   "source": [
    "## La Disciplina. Necesidad & Solución"
   ]
  },
  {
   "cell_type": "markdown",
   "id": "a1c5c906",
   "metadata": {},
   "source": [
    "> Aplicar la siguiente lógica cuando **busques soluciones en Internet**:\n",
    ">\n",
    "> 1. **Necesidad**: ¿Cómo hacer un gráfico de barras?\n",
    "> 2. **Solución**: ¿Cuál es la `función()` que me hace un gráfico de barras?\n",
    ">\n",
    "> De todas las letras que pueden haber en una página web, nosotros nos centraremos en **detectar paréntesis `()`** porque nos indican la presencia de una función."
   ]
  },
  {
   "cell_type": "markdown",
   "id": "3fd9e140",
   "metadata": {},
   "source": [
    "## Funciones Externas"
   ]
  },
  {
   "cell_type": "markdown",
   "id": "2fe0c4d8",
   "metadata": {},
   "source": [
    "> Descarga [estos datos](https://raw.githubusercontent.com/jesusloplar/data/main/uso_internet_espana.csv).\n",
    "> Aplica la disciplina para buscar ayuda en Internet."
   ]
  },
  {
   "cell_type": "code",
   "execution_count": null,
   "id": "191c7952",
   "metadata": {},
   "outputs": [],
   "source": []
  },
  {
   "cell_type": "markdown",
   "id": "93f9be36",
   "metadata": {},
   "source": [
    "## Elementos de la Programación"
   ]
  },
  {
   "cell_type": "markdown",
   "id": "97446795",
   "metadata": {},
   "source": [
    "> - `Librería`: donde se encuentran las funciones.\n",
    ">   - `Función`: recurso de la programación para repetir un proceso con **menos líneas de código**.\n",
    ">   - `Parámetro`: se usa para **configurar** el proceso de la función.\n",
    ">     - `Objeto`: **estructuras de datos** donde se almacena la información que vamos procesando. Diferentes tipos de objetos:\n",
    ">       - `Listas`\n",
    ">       - `Series`\n",
    ">       - `DataFrame`"
   ]
  },
  {
   "cell_type": "markdown",
   "id": "0cd88692",
   "metadata": {},
   "source": [
    "## Sintaxis"
   ]
  },
  {
   "cell_type": "markdown",
   "id": "e8bde81a",
   "metadata": {},
   "source": [
    "**¿Qué sucede al Ejecutar una Función?**\n",
    "\n",
    "> ¿En qué orden lee Python el código?\n",
    "> - De izquierda a derecha.\n",
    "> - De arriba abajo.\n",
    "> ¿Qué orden sigue el código anterior?\n",
    "> ¿Cuáles son los elementos de la programación que se usan?"
   ]
  },
  {
   "cell_type": "code",
   "execution_count": null,
   "id": "e0e87f92",
   "metadata": {},
   "outputs": [],
   "source": []
  },
  {
   "cell_type": "markdown",
   "id": "25043b40",
   "metadata": {},
   "source": [
    "## Funciones dentro de Objetos"
   ]
  },
  {
   "cell_type": "markdown",
   "id": "759ef094",
   "metadata": {},
   "source": [
    "> - El `perro` que `ladra()`: `perro.ladra()`\n",
    "> - El `gato` que `maulla()`: `gato.maulla()`\n",
    "> - El `DataFrame` que `mean()`: `DataFrame.mean()`"
   ]
  },
  {
   "cell_type": "code",
   "execution_count": null,
   "id": "92865790",
   "metadata": {},
   "outputs": [],
   "source": []
  },
  {
   "cell_type": "markdown",
   "id": "cbb6191a",
   "metadata": {},
   "source": [
    "# Acceder a `Objetos`"
   ]
  },
  {
   "cell_type": "markdown",
   "id": "dbcc1173",
   "metadata": {},
   "source": [
    "> Los objetos son **estructuras de datos** que contienen información. \n",
    "> ¿Qué `sintaxis` usamos para acceder a ellos?"
   ]
  },
  {
   "cell_type": "markdown",
   "id": "e6a0fefc",
   "metadata": {},
   "source": [
    "## Notación de Puntos `.`"
   ]
  },
  {
   "cell_type": "code",
   "execution_count": null,
   "id": "ecfd7d5e",
   "metadata": {},
   "outputs": [],
   "source": []
  },
  {
   "cell_type": "markdown",
   "id": "f2545c2c",
   "metadata": {},
   "source": [
    "## Corchetes `[]`"
   ]
  },
  {
   "cell_type": "code",
   "execution_count": null,
   "id": "6b920208",
   "metadata": {},
   "outputs": [],
   "source": []
  },
  {
   "cell_type": "markdown",
   "id": "5c0a4eca",
   "metadata": {},
   "source": [
    "# Manipulación de Tablas con `DataFrames`"
   ]
  },
  {
   "cell_type": "markdown",
   "id": "172db2ea",
   "metadata": {},
   "source": [
    "> ¿Qué podemos hacer con el objeto `DataFrame`?"
   ]
  },
  {
   "cell_type": "markdown",
   "id": "558574b4",
   "metadata": {},
   "source": [
    "## Contar número de personas que hay en cada categoría de estudio"
   ]
  },
  {
   "cell_type": "code",
   "execution_count": null,
   "id": "04bc03cb",
   "metadata": {},
   "outputs": [],
   "source": []
  },
  {
   "cell_type": "markdown",
   "id": "96033d33",
   "metadata": {},
   "source": [
    "## Edad media de los que usan internet y los que no usan internet"
   ]
  },
  {
   "cell_type": "code",
   "execution_count": null,
   "id": "93886533",
   "metadata": {},
   "outputs": [],
   "source": []
  },
  {
   "cell_type": "markdown",
   "id": "3f52efb6",
   "metadata": {},
   "source": [
    "## Edad media de los que usan internet y los que no usan internet según el sexo"
   ]
  },
  {
   "cell_type": "code",
   "execution_count": null,
   "id": "2af5a6e1",
   "metadata": {},
   "outputs": [],
   "source": []
  },
  {
   "cell_type": "markdown",
   "id": "5301d5e1",
   "metadata": {},
   "source": [
    "# Cargamos Otros Datos"
   ]
  },
  {
   "cell_type": "markdown",
   "id": "af72ec97",
   "metadata": {},
   "source": [
    "> Cargamos este [archivo csv](https://raw.githubusercontent.com/mwaskom/seaborn-data/master/tips.csv).\n",
    "> ¿Qué significa `csv`?\n",
    "> ¿Por qué no usar un `Excel` donde se ve todo más claro?"
   ]
  },
  {
   "cell_type": "code",
   "execution_count": null,
   "id": "7118de32",
   "metadata": {},
   "outputs": [],
   "source": []
  },
  {
   "cell_type": "markdown",
   "id": "3d2b2094",
   "metadata": {},
   "source": [
    "# Gráficas con `Matplotlib`"
   ]
  },
  {
   "cell_type": "markdown",
   "id": "e5f5220f",
   "metadata": {},
   "source": [
    "> Scatterplot"
   ]
  },
  {
   "cell_type": "code",
   "execution_count": null,
   "id": "f69b1bd1",
   "metadata": {},
   "outputs": [],
   "source": []
  },
  {
   "cell_type": "markdown",
   "id": "d2645549",
   "metadata": {},
   "source": [
    "# Gráficas con `Seaborn`"
   ]
  },
  {
   "cell_type": "markdown",
   "id": "80751d03",
   "metadata": {},
   "source": [
    "> Scatterplot"
   ]
  },
  {
   "cell_type": "code",
   "execution_count": null,
   "id": "5ebf1a5b",
   "metadata": {},
   "outputs": [],
   "source": []
  },
  {
   "cell_type": "markdown",
   "id": "04834e07",
   "metadata": {},
   "source": [
    "# Gráficas con `Plotly`"
   ]
  },
  {
   "cell_type": "markdown",
   "id": "11e0bd62",
   "metadata": {},
   "source": [
    "> Scatterplot"
   ]
  },
  {
   "cell_type": "code",
   "execution_count": null,
   "id": "ff0483c1",
   "metadata": {},
   "outputs": [],
   "source": []
  },
  {
   "cell_type": "markdown",
   "id": "1ebf301f",
   "metadata": {},
   "source": [
    "# Otros Tipos de Gráficas"
   ]
  },
  {
   "cell_type": "markdown",
   "id": "4d8eac12",
   "metadata": {},
   "source": [
    "## Histogramas"
   ]
  },
  {
   "cell_type": "code",
   "execution_count": null,
   "id": "4c04b8b1",
   "metadata": {},
   "outputs": [],
   "source": []
  },
  {
   "cell_type": "markdown",
   "id": "7de58c52",
   "metadata": {},
   "source": [
    "## Boxplot"
   ]
  },
  {
   "cell_type": "code",
   "execution_count": null,
   "id": "11244730",
   "metadata": {},
   "outputs": [],
   "source": []
  },
  {
   "cell_type": "markdown",
   "id": "66a5c09f",
   "metadata": {},
   "source": [
    "## Barras"
   ]
  },
  {
   "cell_type": "code",
   "execution_count": null,
   "id": "a8cc3628",
   "metadata": {},
   "outputs": [],
   "source": []
  },
  {
   "cell_type": "markdown",
   "id": "f2172c5c",
   "metadata": {},
   "source": [
    "## Pie"
   ]
  },
  {
   "cell_type": "code",
   "execution_count": null,
   "id": "815d4f94",
   "metadata": {},
   "outputs": [],
   "source": []
  },
  {
   "cell_type": "markdown",
   "id": "a0de6956",
   "metadata": {},
   "source": [
    "## Mapas"
   ]
  },
  {
   "cell_type": "code",
   "execution_count": null,
   "id": "ad13cabd",
   "metadata": {},
   "outputs": [],
   "source": []
  }
 ],
 "metadata": {
  "authors": [
   {
    "name": "Jesús López @sotastica"
   }
  ]
 },
 "nbformat": 4,
 "nbformat_minor": 5
}
