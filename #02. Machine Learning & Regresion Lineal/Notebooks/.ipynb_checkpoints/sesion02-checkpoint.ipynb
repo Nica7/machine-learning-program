{
 "cells": [
  {
   "cell_type": "markdown",
   "id": "a57bbd4f",
   "metadata": {},
   "source": [
    "<font size=\"+5\">#02. Machine Learning & Regresion Lineal</font>"
   ]
  },
  {
   "cell_type": "markdown",
   "id": "6323d2f4",
   "metadata": {},
   "source": [
    "<ul>\n",
    "    <li>Resolver dudas → Pregunta en <img src=\"https://discord.com/assets/f9bb9c4af2b9c32a2c5ee0014661546d.png\" style=\"height: 1em; vertical-align: middle;\"> <a href=\"https://discord.gg/cmB3KGsqMy\">Discord</a></li>\n",
    "    <li>Tutoriales → <img src=\"https://openmoji.org/php/download_asset.php?type=emoji&emoji_hexcode=E044&emoji_variant=color\" style=\"height: 1em; vertical-align: middle;\"> <a href=\"https://www.youtube.com/channel/UCovCte2I3loteQE_kRsfQcw\">YouTube</a></li>\n",
    "    <li>Reservar Clases → <span style=\"color: orange\">@</span> <a href=\"https://sotastica.com/reservar\">sotastica</a></li>\n",
    "</ul>"
   ]
  },
  {
   "cell_type": "markdown",
   "id": "8c54d7a4",
   "metadata": {},
   "source": [
    "# Machine Learning, qué significa?"
   ]
  },
  {
   "cell_type": "markdown",
   "id": "dde1b161",
   "metadata": {},
   "source": [
    "> Por muy esotérico que suene, ¿qué significa en **español, literal**?\n",
    "\n"
   ]
  },
  {
   "cell_type": "code",
   "execution_count": 1,
   "id": "166403ac",
   "metadata": {
    "tags": []
   },
   "outputs": [
    {
     "data": {
      "text/html": [
       "<blockquote class=\"twitter-tweet\"><p lang=\"es\" dir=\"ltr\">Machine Learning, qué significa? 🧵<br><br>- La máquina aprende.<br><br>Qué aprende?<br><br>- Una ecuación matemática. Por ejemplo: <a href=\"https://t.co/6esK5NNy7l\">pic.twitter.com/6esK5NNy7l</a></p>&mdash; Jesús López (@sotastica) <a href=\"https://twitter.com/sotastica/status/1432738023825940481?ref_src=twsrc%5Etfw\">August 31, 2021</a></blockquote> <script async src=\"https://platform.twitter.com/widgets.js\" charset=\"utf-8\"></script>\n"
      ],
      "text/plain": [
       "<IPython.core.display.HTML object>"
      ]
     },
     "metadata": {},
     "output_type": "display_data"
    }
   ],
   "source": [
    "%%HTML\n",
    "<blockquote class=\"twitter-tweet\"><p lang=\"es\" dir=\"ltr\">Machine Learning, qué significa? 🧵<br><br>- La máquina aprende.<br><br>Qué aprende?<br><br>- Una ecuación matemática. Por ejemplo: <a href=\"https://t.co/6esK5NNy7l\">pic.twitter.com/6esK5NNy7l</a></p>&mdash; Jesús López (@sotastica) <a href=\"https://twitter.com/sotastica/status/1432738023825940481?ref_src=twsrc%5Etfw\">August 31, 2021</a></blockquote> <script async src=\"https://platform.twitter.com/widgets.js\" charset=\"utf-8\"></script>"
   ]
  },
  {
   "cell_type": "code",
   "execution_count": null,
   "id": "cebb65f0-9e62-4ea6-a0cc-194fb83ad74c",
   "metadata": {},
   "outputs": [],
   "source": []
  },
  {
   "cell_type": "markdown",
   "id": "aaee3d02",
   "metadata": {},
   "source": [
    "# Funciones Matemáticas"
   ]
  },
  {
   "cell_type": "markdown",
   "id": "601c8c08",
   "metadata": {},
   "source": [
    "> ¿Qué representa una ecuación matemática?"
   ]
  },
  {
   "cell_type": "code",
   "execution_count": null,
   "id": "65e40f67",
   "metadata": {},
   "outputs": [],
   "source": []
  },
  {
   "cell_type": "markdown",
   "id": "53a07dc2",
   "metadata": {},
   "source": [
    "# Cargar Datos"
   ]
  },
  {
   "cell_type": "markdown",
   "id": "2186fdeb",
   "metadata": {},
   "source": [
    "> - Simplemente, copiamos y pegamos las siguientes líneas de código para cargar los datos.\n",
    "> - La tabla contiene **estadísticas sobre Coches** (columnas).\n",
    "> - Para distintas **Marcas/Modelos de coche** (filas).\n",
    "\n",
    "```python\n",
    "import seaborn as sns\n",
    "\n",
    "df = sns.load_dataset(name='mpg', index_col='name')\n",
    "df.sample(10)\n",
    "```"
   ]
  },
  {
   "cell_type": "code",
   "execution_count": 2,
   "id": "86bb823e",
   "metadata": {},
   "outputs": [
    {
     "data": {
      "text/html": [
       "<div>\n",
       "<style scoped>\n",
       "    .dataframe tbody tr th:only-of-type {\n",
       "        vertical-align: middle;\n",
       "    }\n",
       "\n",
       "    .dataframe tbody tr th {\n",
       "        vertical-align: top;\n",
       "    }\n",
       "\n",
       "    .dataframe thead th {\n",
       "        text-align: right;\n",
       "    }\n",
       "</style>\n",
       "<table border=\"1\" class=\"dataframe\">\n",
       "  <thead>\n",
       "    <tr style=\"text-align: right;\">\n",
       "      <th></th>\n",
       "      <th>mpg</th>\n",
       "      <th>cylinders</th>\n",
       "      <th>displacement</th>\n",
       "      <th>horsepower</th>\n",
       "      <th>weight</th>\n",
       "      <th>acceleration</th>\n",
       "      <th>model_year</th>\n",
       "      <th>origin</th>\n",
       "    </tr>\n",
       "    <tr>\n",
       "      <th>name</th>\n",
       "      <th></th>\n",
       "      <th></th>\n",
       "      <th></th>\n",
       "      <th></th>\n",
       "      <th></th>\n",
       "      <th></th>\n",
       "      <th></th>\n",
       "      <th></th>\n",
       "    </tr>\n",
       "  </thead>\n",
       "  <tbody>\n",
       "    <tr>\n",
       "      <th>chevrolet camaro</th>\n",
       "      <td>27.0</td>\n",
       "      <td>4</td>\n",
       "      <td>151.0</td>\n",
       "      <td>90.0</td>\n",
       "      <td>2950</td>\n",
       "      <td>17.3</td>\n",
       "      <td>82</td>\n",
       "      <td>usa</td>\n",
       "    </tr>\n",
       "    <tr>\n",
       "      <th>amc concord d/l</th>\n",
       "      <td>18.1</td>\n",
       "      <td>6</td>\n",
       "      <td>258.0</td>\n",
       "      <td>120.0</td>\n",
       "      <td>3410</td>\n",
       "      <td>15.1</td>\n",
       "      <td>78</td>\n",
       "      <td>usa</td>\n",
       "    </tr>\n",
       "    <tr>\n",
       "      <th>ford escort 2h</th>\n",
       "      <td>29.9</td>\n",
       "      <td>4</td>\n",
       "      <td>98.0</td>\n",
       "      <td>65.0</td>\n",
       "      <td>2380</td>\n",
       "      <td>20.7</td>\n",
       "      <td>81</td>\n",
       "      <td>usa</td>\n",
       "    </tr>\n",
       "    <tr>\n",
       "      <th>volvo diesel</th>\n",
       "      <td>30.7</td>\n",
       "      <td>6</td>\n",
       "      <td>145.0</td>\n",
       "      <td>76.0</td>\n",
       "      <td>3160</td>\n",
       "      <td>19.6</td>\n",
       "      <td>81</td>\n",
       "      <td>europe</td>\n",
       "    </tr>\n",
       "    <tr>\n",
       "      <th>volkswagen rabbit</th>\n",
       "      <td>29.5</td>\n",
       "      <td>4</td>\n",
       "      <td>97.0</td>\n",
       "      <td>71.0</td>\n",
       "      <td>1825</td>\n",
       "      <td>12.2</td>\n",
       "      <td>76</td>\n",
       "      <td>europe</td>\n",
       "    </tr>\n",
       "    <tr>\n",
       "      <th>ford galaxie 500</th>\n",
       "      <td>14.0</td>\n",
       "      <td>8</td>\n",
       "      <td>351.0</td>\n",
       "      <td>153.0</td>\n",
       "      <td>4154</td>\n",
       "      <td>13.5</td>\n",
       "      <td>71</td>\n",
       "      <td>usa</td>\n",
       "    </tr>\n",
       "    <tr>\n",
       "      <th>plymouth satellite custom</th>\n",
       "      <td>16.0</td>\n",
       "      <td>6</td>\n",
       "      <td>225.0</td>\n",
       "      <td>105.0</td>\n",
       "      <td>3439</td>\n",
       "      <td>15.5</td>\n",
       "      <td>71</td>\n",
       "      <td>usa</td>\n",
       "    </tr>\n",
       "    <tr>\n",
       "      <th>volvo 244dl</th>\n",
       "      <td>22.0</td>\n",
       "      <td>4</td>\n",
       "      <td>121.0</td>\n",
       "      <td>98.0</td>\n",
       "      <td>2945</td>\n",
       "      <td>14.5</td>\n",
       "      <td>75</td>\n",
       "      <td>europe</td>\n",
       "    </tr>\n",
       "    <tr>\n",
       "      <th>oldsmobile omega</th>\n",
       "      <td>11.0</td>\n",
       "      <td>8</td>\n",
       "      <td>350.0</td>\n",
       "      <td>180.0</td>\n",
       "      <td>3664</td>\n",
       "      <td>11.0</td>\n",
       "      <td>73</td>\n",
       "      <td>usa</td>\n",
       "    </tr>\n",
       "    <tr>\n",
       "      <th>subaru dl</th>\n",
       "      <td>33.8</td>\n",
       "      <td>4</td>\n",
       "      <td>97.0</td>\n",
       "      <td>67.0</td>\n",
       "      <td>2145</td>\n",
       "      <td>18.0</td>\n",
       "      <td>80</td>\n",
       "      <td>japan</td>\n",
       "    </tr>\n",
       "  </tbody>\n",
       "</table>\n",
       "</div>"
      ],
      "text/plain": [
       "                            mpg  cylinders  displacement  horsepower  weight  \\\n",
       "name                                                                           \n",
       "chevrolet camaro           27.0          4         151.0        90.0    2950   \n",
       "amc concord d/l            18.1          6         258.0       120.0    3410   \n",
       "ford escort 2h             29.9          4          98.0        65.0    2380   \n",
       "volvo diesel               30.7          6         145.0        76.0    3160   \n",
       "volkswagen rabbit          29.5          4          97.0        71.0    1825   \n",
       "ford galaxie 500           14.0          8         351.0       153.0    4154   \n",
       "plymouth satellite custom  16.0          6         225.0       105.0    3439   \n",
       "volvo 244dl                22.0          4         121.0        98.0    2945   \n",
       "oldsmobile omega           11.0          8         350.0       180.0    3664   \n",
       "subaru dl                  33.8          4          97.0        67.0    2145   \n",
       "\n",
       "                           acceleration  model_year  origin  \n",
       "name                                                         \n",
       "chevrolet camaro                   17.3          82     usa  \n",
       "amc concord d/l                    15.1          78     usa  \n",
       "ford escort 2h                     20.7          81     usa  \n",
       "volvo diesel                       19.6          81  europe  \n",
       "volkswagen rabbit                  12.2          76  europe  \n",
       "ford galaxie 500                   13.5          71     usa  \n",
       "plymouth satellite custom          15.5          71     usa  \n",
       "volvo 244dl                        14.5          75  europe  \n",
       "oldsmobile omega                   11.0          73     usa  \n",
       "subaru dl                          18.0          80   japan  "
      ]
     },
     "execution_count": 2,
     "metadata": {},
     "output_type": "execute_result"
    }
   ],
   "source": [
    "import seaborn as sns\n",
    "\n",
    "df = sns.load_dataset(name='mpg', index_col='name')\n",
    "df.sample(10)"
   ]
  },
  {
   "cell_type": "markdown",
   "id": "9a0f6ad3",
   "metadata": {},
   "source": [
    "# Seleccionar Variables para el Modelo"
   ]
  },
  {
   "cell_type": "markdown",
   "id": "0a15721b",
   "metadata": {},
   "source": [
    "> 1. Explicativas/Features/Input `X`\n",
    "> 2. Objetivo/Class/Target `y`"
   ]
  },
  {
   "cell_type": "code",
   "execution_count": 3,
   "id": "7ba8dbc7",
   "metadata": {},
   "outputs": [],
   "source": [
    "explicativas = df[['weight']]"
   ]
  },
  {
   "cell_type": "code",
   "execution_count": 4,
   "id": "d27b5a37-2077-40c8-9e2e-4d5086338067",
   "metadata": {},
   "outputs": [],
   "source": [
    "objetivo = df.mpg"
   ]
  },
  {
   "cell_type": "markdown",
   "id": "7d666424",
   "metadata": {},
   "source": [
    "# Visualizar Selección de Variables"
   ]
  },
  {
   "cell_type": "markdown",
   "id": "df9ac89a",
   "metadata": {},
   "source": [
    "> Las dos variables son numéricas. Por tanto, usaremos un **scatterplot** para visualizar la relación entre ellas."
   ]
  },
  {
   "cell_type": "code",
   "execution_count": 5,
   "id": "82eeed37",
   "metadata": {},
   "outputs": [
    {
     "data": {
      "text/plain": [
       "<AxesSubplot:xlabel='weight', ylabel='mpg'>"
      ]
     },
     "execution_count": 5,
     "metadata": {},
     "output_type": "execute_result"
    },
    {
     "data": {
      "image/png": "[encoded data removed]",
      "text/plain": [
       "<Figure size 432x288 with 1 Axes>"
      ]
     },
     "metadata": {
      "needs_background": "light"
     },
     "output_type": "display_data"
    }
   ],
   "source": [
    "sns.scatterplot(x='weight', y='mpg', data = df)"
   ]
  },
  {
   "cell_type": "markdown",
   "id": "65a4058a",
   "metadata": {},
   "source": [
    "# Modelo de Regresión Lineal en Python"
   ]
  },
  {
   "cell_type": "markdown",
   "id": "1256256b",
   "metadata": {},
   "source": [
    "## Entrenar Modelo"
   ]
  },
  {
   "cell_type": "markdown",
   "id": "b07c7277",
   "metadata": {},
   "source": [
    "> 1. **Necesidad**: Entrenar Modelo\n",
    "> 2. **Solución**: Función `fit()`"
   ]
  },
  {
   "cell_type": "code",
   "execution_count": 6,
   "id": "6c31ac5b",
   "metadata": {},
   "outputs": [
    {
     "ename": "NameError",
     "evalue": "name 'fit' is not defined",
     "output_type": "error",
     "traceback": [
      "\u001b[0;31m---------------------------------------------------------------------------\u001b[0m",
      "\u001b[0;31mNameError\u001b[0m                                 Traceback (most recent call last)",
      "\u001b[0;32m/var/folders/24/tg28vxls25l9mjvqrnh0plc80000gn/T/ipykernel_55183/3324602025.py\u001b[0m in \u001b[0;36m<module>\u001b[0;34m\u001b[0m\n\u001b[0;32m----> 1\u001b[0;31m \u001b[0mfit\u001b[0m\u001b[0;34m(\u001b[0m\u001b[0;34m)\u001b[0m\u001b[0;34m\u001b[0m\u001b[0;34m\u001b[0m\u001b[0m\n\u001b[0m",
      "\u001b[0;31mNameError\u001b[0m: name 'fit' is not defined"
     ]
    }
   ],
   "source": [
    "fit()"
   ]
  },
  {
   "cell_type": "code",
   "execution_count": 7,
   "id": "05f75d55-f0b0-4f6c-aedd-9bca4a36c1a7",
   "metadata": {},
   "outputs": [
    {
     "ename": "NameError",
     "evalue": "name 'algo' is not defined",
     "output_type": "error",
     "traceback": [
      "\u001b[0;31m---------------------------------------------------------------------------\u001b[0m",
      "\u001b[0;31mNameError\u001b[0m                                 Traceback (most recent call last)",
      "\u001b[0;32m/var/folders/24/tg28vxls25l9mjvqrnh0plc80000gn/T/ipykernel_55183/22777151.py\u001b[0m in \u001b[0;36m<module>\u001b[0;34m\u001b[0m\n\u001b[0;32m----> 1\u001b[0;31m \u001b[0malgo\u001b[0m\u001b[0;34m.\u001b[0m\u001b[0mfit\u001b[0m\u001b[0;34m(\u001b[0m\u001b[0;34m)\u001b[0m\u001b[0;34m\u001b[0m\u001b[0;34m\u001b[0m\u001b[0m\n\u001b[0m",
      "\u001b[0;31mNameError\u001b[0m: name 'algo' is not defined"
     ]
    }
   ],
   "source": [
    "algo.fit()"
   ]
  },
  {
   "cell_type": "markdown",
   "id": "a5431ede-359e-491f-8487-64277b716d22",
   "metadata": {},
   "source": [
    "`algo = ?`"
   ]
  },
  {
   "cell_type": "code",
   "execution_count": 8,
   "id": "f8b29f75-17c8-4d55-a51c-6ff0e8cde3a8",
   "metadata": {},
   "outputs": [
    {
     "ename": "NameError",
     "evalue": "name 'LinearRegression' is not defined",
     "output_type": "error",
     "traceback": [
      "\u001b[0;31m---------------------------------------------------------------------------\u001b[0m",
      "\u001b[0;31mNameError\u001b[0m                                 Traceback (most recent call last)",
      "\u001b[0;32m/var/folders/24/tg28vxls25l9mjvqrnh0plc80000gn/T/ipykernel_55183/3004910424.py\u001b[0m in \u001b[0;36m<module>\u001b[0;34m\u001b[0m\n\u001b[0;32m----> 1\u001b[0;31m \u001b[0malgo\u001b[0m \u001b[0;34m=\u001b[0m \u001b[0mLinearRegression\u001b[0m\u001b[0;34m(\u001b[0m\u001b[0;34m)\u001b[0m\u001b[0;34m\u001b[0m\u001b[0;34m\u001b[0m\u001b[0m\n\u001b[0m",
      "\u001b[0;31mNameError\u001b[0m: name 'LinearRegression' is not defined"
     ]
    }
   ],
   "source": [
    "algo = LinearRegression()"
   ]
  },
  {
   "cell_type": "code",
   "execution_count": 9,
   "id": "3c37c673-ad1e-4204-9510-c6676580e51b",
   "metadata": {},
   "outputs": [],
   "source": [
    "from sklearn.linear_model import LinearRegression"
   ]
  },
  {
   "cell_type": "code",
   "execution_count": 10,
   "id": "dc481703-f3bf-4c8a-9ad6-a0ed922c3403",
   "metadata": {},
   "outputs": [],
   "source": [
    "algo = LinearRegression()"
   ]
  },
  {
   "cell_type": "code",
   "execution_count": 11,
   "id": "e3d631be-69a9-47f3-b055-a0a530abca31",
   "metadata": {},
   "outputs": [
    {
     "data": {
      "text/plain": [
       "LinearRegression()"
      ]
     },
     "execution_count": 11,
     "metadata": {},
     "output_type": "execute_result"
    }
   ],
   "source": [
    "algo.fit(explicativas, objetivo)"
   ]
  },
  {
   "cell_type": "code",
   "execution_count": 12,
   "id": "35f5fee0-6a51-4808-a49b-9a4bff88c6da",
   "metadata": {},
   "outputs": [
    {
     "data": {
      "text/plain": [
       "{'fit_intercept': True,\n",
       " 'normalize': False,\n",
       " 'copy_X': True,\n",
       " 'n_jobs': None,\n",
       " 'positive': False,\n",
       " 'n_features_in_': 1,\n",
       " 'coef_': array([-0.00767661]),\n",
       " '_residues': 7474.8140143821,\n",
       " 'rank_': 1,\n",
       " 'singular_': array([16873.20281508]),\n",
       " 'intercept_': 46.31736442026564}"
      ]
     },
     "execution_count": 12,
     "metadata": {},
     "output_type": "execute_result"
    }
   ],
   "source": [
    "algo.__dict__"
   ]
  },
  {
   "cell_type": "markdown",
   "id": "d4595955-d993-477c-8636-ea453f994b50",
   "metadata": {},
   "source": [
    "$$\n",
    "mpg = 46.31 - 0.00767 \\cdot weight\n",
    "$$"
   ]
  },
  {
   "cell_type": "code",
   "execution_count": 13,
   "id": "143f6423-a669-4bf5-be7c-02b563a43907",
   "metadata": {},
   "outputs": [
    {
     "data": {
      "text/plain": [
       "array([46.29433459])"
      ]
     },
     "execution_count": 13,
     "metadata": {},
     "output_type": "execute_result"
    }
   ],
   "source": [
    "algo.predict([[3]])"
   ]
  },
  {
   "cell_type": "code",
   "execution_count": 14,
   "id": "7d0c21ee-4e38-4aff-a6a2-1af046d13560",
   "metadata": {},
   "outputs": [
    {
     "data": {
      "text/plain": [
       "46.28699"
      ]
     },
     "execution_count": 14,
     "metadata": {},
     "output_type": "execute_result"
    }
   ],
   "source": [
    "46.31 - 0.00767*3"
   ]
  },
  {
   "cell_type": "code",
   "execution_count": 15,
   "id": "d534878a-fd88-4a11-ab00-ad69403cbb94",
   "metadata": {},
   "outputs": [],
   "source": [
    "pred = algo.predict(explicativas)"
   ]
  },
  {
   "cell_type": "code",
   "execution_count": 16,
   "id": "c808af35-9ea7-46c1-835f-1565cebabaea",
   "metadata": {},
   "outputs": [],
   "source": [
    "dfsel = df[['weight', 'mpg']].copy()"
   ]
  },
  {
   "cell_type": "code",
   "execution_count": 17,
   "id": "845dacba-5f50-4c44-a6f3-b89861238635",
   "metadata": {},
   "outputs": [],
   "source": [
    "dfsel['pred'] = pred"
   ]
  },
  {
   "cell_type": "code",
   "execution_count": 19,
   "id": "a0e62f2a-9ca0-4ea5-aa07-59538bcbcd09",
   "metadata": {},
   "outputs": [
    {
     "data": {
      "text/html": [
       "<div>\n",
       "<style scoped>\n",
       "    .dataframe tbody tr th:only-of-type {\n",
       "        vertical-align: middle;\n",
       "    }\n",
       "\n",
       "    .dataframe tbody tr th {\n",
       "        vertical-align: top;\n",
       "    }\n",
       "\n",
       "    .dataframe thead th {\n",
       "        text-align: right;\n",
       "    }\n",
       "</style>\n",
       "<table border=\"1\" class=\"dataframe\">\n",
       "  <thead>\n",
       "    <tr style=\"text-align: right;\">\n",
       "      <th></th>\n",
       "      <th>weight</th>\n",
       "      <th>mpg</th>\n",
       "      <th>pred</th>\n",
       "    </tr>\n",
       "    <tr>\n",
       "      <th>name</th>\n",
       "      <th></th>\n",
       "      <th></th>\n",
       "      <th></th>\n",
       "    </tr>\n",
       "  </thead>\n",
       "  <tbody>\n",
       "    <tr>\n",
       "      <th>chevrolet chevelle malibu</th>\n",
       "      <td>3504</td>\n",
       "      <td>18.0</td>\n",
       "      <td>19.418523</td>\n",
       "    </tr>\n",
       "    <tr>\n",
       "      <th>buick skylark 320</th>\n",
       "      <td>3693</td>\n",
       "      <td>15.0</td>\n",
       "      <td>17.967643</td>\n",
       "    </tr>\n",
       "    <tr>\n",
       "      <th>plymouth satellite</th>\n",
       "      <td>3436</td>\n",
       "      <td>18.0</td>\n",
       "      <td>19.940532</td>\n",
       "    </tr>\n",
       "    <tr>\n",
       "      <th>amc rebel sst</th>\n",
       "      <td>3433</td>\n",
       "      <td>16.0</td>\n",
       "      <td>19.963562</td>\n",
       "    </tr>\n",
       "    <tr>\n",
       "      <th>ford torino</th>\n",
       "      <td>3449</td>\n",
       "      <td>17.0</td>\n",
       "      <td>19.840736</td>\n",
       "    </tr>\n",
       "    <tr>\n",
       "      <th>...</th>\n",
       "      <td>...</td>\n",
       "      <td>...</td>\n",
       "      <td>...</td>\n",
       "    </tr>\n",
       "    <tr>\n",
       "      <th>ford mustang gl</th>\n",
       "      <td>2790</td>\n",
       "      <td>27.0</td>\n",
       "      <td>24.899622</td>\n",
       "    </tr>\n",
       "    <tr>\n",
       "      <th>vw pickup</th>\n",
       "      <td>2130</td>\n",
       "      <td>44.0</td>\n",
       "      <td>29.966185</td>\n",
       "    </tr>\n",
       "    <tr>\n",
       "      <th>dodge rampage</th>\n",
       "      <td>2295</td>\n",
       "      <td>32.0</td>\n",
       "      <td>28.699544</td>\n",
       "    </tr>\n",
       "    <tr>\n",
       "      <th>ford ranger</th>\n",
       "      <td>2625</td>\n",
       "      <td>28.0</td>\n",
       "      <td>26.166263</td>\n",
       "    </tr>\n",
       "    <tr>\n",
       "      <th>chevy s-10</th>\n",
       "      <td>2720</td>\n",
       "      <td>31.0</td>\n",
       "      <td>25.436985</td>\n",
       "    </tr>\n",
       "  </tbody>\n",
       "</table>\n",
       "<p>398 rows × 3 columns</p>\n",
       "</div>"
      ],
      "text/plain": [
       "                           weight   mpg       pred\n",
       "name                                              \n",
       "chevrolet chevelle malibu    3504  18.0  19.418523\n",
       "buick skylark 320            3693  15.0  17.967643\n",
       "plymouth satellite           3436  18.0  19.940532\n",
       "amc rebel sst                3433  16.0  19.963562\n",
       "ford torino                  3449  17.0  19.840736\n",
       "...                           ...   ...        ...\n",
       "ford mustang gl              2790  27.0  24.899622\n",
       "vw pickup                    2130  44.0  29.966185\n",
       "dodge rampage                2295  32.0  28.699544\n",
       "ford ranger                  2625  28.0  26.166263\n",
       "chevy s-10                   2720  31.0  25.436985\n",
       "\n",
       "[398 rows x 3 columns]"
      ]
     },
     "execution_count": 19,
     "metadata": {},
     "output_type": "execute_result"
    }
   ],
   "source": [
    "dfsel"
   ]
  },
  {
   "cell_type": "code",
   "execution_count": 20,
   "id": "0a8ef8db-8e65-48c0-99b9-abca1799400b",
   "metadata": {},
   "outputs": [
    {
     "data": {
      "text/plain": [
       "<AxesSubplot:xlabel='weight', ylabel='mpg'>"
      ]
     },
     "execution_count": 20,
     "metadata": {},
     "output_type": "execute_result"
    },
    {
     "data": {
      "image/png": "[encoded data removed]",
      "text/plain": [
       "<Figure size 432x288 with 1 Axes>"
      ]
     },
     "metadata": {
      "needs_background": "light"
     },
     "output_type": "display_data"
    }
   ],
   "source": [
    "sns.scatterplot(x='weight', y='mpg', data = df)\n",
    "sns.scatterplot(x='weight', y='pred', data = dfsel)"
   ]
  },
  {
   "cell_type": "code",
   "execution_count": null,
   "id": "6e65fb24-9f08-45ac-837b-fb63881d8165",
   "metadata": {},
   "outputs": [],
   "source": []
  },
  {
   "cell_type": "markdown",
   "id": "5876bbde",
   "metadata": {},
   "source": [
    "## Jerarquía de las Librerías"
   ]
  },
  {
   "cell_type": "markdown",
   "id": "b3817c34",
   "metadata": {},
   "source": [
    "> 1. `Librería`\n",
    "> 2. `Módulo1.Módulo2.`\n",
    "> 3. `Función()` / `Objeto()`\n",
    ">\n",
    "> - **Si es Objeto**\n",
    ">   - 3.1 `Función()`"
   ]
  },
  {
   "cell_type": "code",
   "execution_count": null,
   "id": "61032bda",
   "metadata": {},
   "outputs": [],
   "source": []
  },
  {
   "cell_type": "markdown",
   "id": "20f9c3ce",
   "metadata": {},
   "source": [
    "## Ecuación Matemática del Modelo"
   ]
  },
  {
   "cell_type": "markdown",
   "id": "fb90a0e4",
   "metadata": {},
   "source": [
    "> Los modelos no son más que ecuaciones matemáticas que nos ayudan a calcular algo. Por ejemplo:\n",
    ">\n",
    "> 1. La probabilidad de que un cliente deje de acudir a mi tienda.\n",
    "> 2. La probabilidad de que un cliente del banco pueda afrontar un préstamo.\n",
    "> 3. La probabilidad de que un atleta se lesione.\n",
    "> 4. El número de bicicletas que se alquilarán hoy.\n",
    ">\n",
    "> Por tanto, ¿cuál es la ecuación matemática de **nuestro modelo**?"
   ]
  },
  {
   "cell_type": "code",
   "execution_count": null,
   "id": "dc93e6af",
   "metadata": {},
   "outputs": [],
   "source": []
  },
  {
   "cell_type": "markdown",
   "id": "d549ad83",
   "metadata": {},
   "source": [
    "## Predicciones con el Modelo"
   ]
  },
  {
   "cell_type": "markdown",
   "id": "f9709354",
   "metadata": {},
   "source": [
    "> En nuestro caso, ¿cómo usamos la ecuación matemática para **predecir el total de accidentes**?"
   ]
  },
  {
   "cell_type": "code",
   "execution_count": null,
   "id": "c96e8eef",
   "metadata": {},
   "outputs": [],
   "source": []
  },
  {
   "cell_type": "markdown",
   "id": "a1e74c2b",
   "metadata": {},
   "source": [
    "## Visualización del Modelo"
   ]
  },
  {
   "cell_type": "markdown",
   "id": "e9e9cc53",
   "metadata": {},
   "source": [
    "> 1. Los **datos reales**.\n",
    "> 2. **Modelo: las predicciones** con la ecuación matemática."
   ]
  },
  {
   "cell_type": "code",
   "execution_count": null,
   "id": "405ddeee",
   "metadata": {},
   "outputs": [],
   "source": []
  },
  {
   "cell_type": "markdown",
   "id": "8f37c588",
   "metadata": {},
   "source": [
    "## Interpretación del Modelo"
   ]
  },
  {
   "cell_type": "markdown",
   "id": "96d0414c",
   "metadata": {},
   "source": [
    "> ¿Qué **influencia tiene el alcohol** en el número de accidentes?"
   ]
  },
  {
   "cell_type": "code",
   "execution_count": null,
   "id": "70be4ea0",
   "metadata": {},
   "outputs": [],
   "source": []
  },
  {
   "cell_type": "markdown",
   "id": "293af294",
   "metadata": {},
   "source": [
    "# Explicación Algoritmo Regresión Lineal"
   ]
  },
  {
   "cell_type": "markdown",
   "id": "f00348e2",
   "metadata": {},
   "source": []
  },
  {
   "cell_type": "code",
   "execution_count": 2,
   "id": "d130e236",
   "metadata": {
    "execution": {
     "iopub.execute_input": "2021-09-26T09:21:26.131239Z",
     "iopub.status.busy": "2021-09-26T09:21:26.130677Z",
     "iopub.status.idle": "2021-09-26T09:21:26.132837Z",
     "shell.execute_reply": "2021-09-26T09:21:26.133341Z"
    }
   },
   "outputs": [
    {
     "data": {
      "text/html": [
       "<blockquote class=\"twitter-tweet\"><p lang=\"es\" dir=\"ltr\">Estoy creando una ODA a la regresión lineal, me encanta como está quedando.<br><br>Sobretodo, la conexión entre matemáticas, derivadas, optimización, estadística y Machine Learning que pongo en valor en menos de 30 segundos. <a href=\"https://t.co/ZdOqFeFCKI\">pic.twitter.com/ZdOqFeFCKI</a></p>&mdash; Jesús López (@sotastica) <a href=\"https://twitter.com/sotastica/status/1437389800504451080?ref_src=twsrc%5Etfw\">September 13, 2021</a></blockquote> <script async src=\"https://platform.twitter.com/widgets.js\" charset=\"utf-8\"></script>\n"
      ],
      "text/plain": [
       "<IPython.core.display.HTML object>"
      ]
     },
     "metadata": {},
     "output_type": "display_data"
    }
   ],
   "source": [
    "%%HTML\n",
    "<blockquote class=\"twitter-tweet\"><p lang=\"es\" dir=\"ltr\">Estoy creando una ODA a la regresión lineal, me encanta como está quedando.<br><br>Sobretodo, la conexión entre matemáticas, derivadas, optimización, estadística y Machine Learning que pongo en valor en menos de 30 segundos. <a href=\"https://t.co/ZdOqFeFCKI\">pic.twitter.com/ZdOqFeFCKI</a></p>&mdash; Jesús López (@sotastica) <a href=\"https://twitter.com/sotastica/status/1437389800504451080?ref_src=twsrc%5Etfw\">September 13, 2021</a></blockquote> <script async src=\"https://platform.twitter.com/widgets.js\" charset=\"utf-8\"></script>"
   ]
  },
  {
   "cell_type": "code",
   "execution_count": null,
   "id": "ea8fde1c",
   "metadata": {},
   "outputs": [],
   "source": []
  },
  {
   "cell_type": "markdown",
   "id": "d9675d6d",
   "metadata": {},
   "source": [
    "# Cómo se ha Calculado el Modelo con el Código?"
   ]
  },
  {
   "cell_type": "markdown",
   "id": "0acb00af",
   "metadata": {},
   "source": [
    "> ¿Qué sucede por dentro al ejecutar la función `.fit()`?"
   ]
  },
  {
   "cell_type": "code",
   "execution_count": null,
   "id": "91ddabaf",
   "metadata": {},
   "outputs": [],
   "source": []
  },
  {
   "cell_type": "markdown",
   "id": "2cec63a4",
   "metadata": {},
   "source": [
    "# ¿Cómo de Bueno es mi Modelo? **Bondad de Ajuste**"
   ]
  },
  {
   "cell_type": "markdown",
   "id": "88a7eef4",
   "metadata": {},
   "source": [
    "> Tan solo comparamos la predicción con la realidad."
   ]
  },
  {
   "cell_type": "code",
   "execution_count": 21,
   "id": "34ed1c76",
   "metadata": {},
   "outputs": [
    {
     "data": {
      "text/plain": [
       "name\n",
       "chevrolet chevelle malibu     1.418523\n",
       "buick skylark 320             2.967643\n",
       "plymouth satellite            1.940532\n",
       "amc rebel sst                 3.963562\n",
       "ford torino                   2.840736\n",
       "                               ...    \n",
       "ford mustang gl              -2.100378\n",
       "vw pickup                   -14.033815\n",
       "dodge rampage                -3.300456\n",
       "ford ranger                  -1.833737\n",
       "chevy s-10                   -5.563015\n",
       "Length: 398, dtype: float64"
      ]
     },
     "execution_count": 21,
     "metadata": {},
     "output_type": "execute_result"
    }
   ],
   "source": [
    "dfsel.pred - dfsel.mpg"
   ]
  },
  {
   "cell_type": "code",
   "execution_count": 22,
   "id": "216dcea5-c06f-49d2-8f93-40816a57aaa5",
   "metadata": {},
   "outputs": [
    {
     "data": {
      "text/plain": [
       "7474.814014382101"
      ]
     },
     "execution_count": 22,
     "metadata": {},
     "output_type": "execute_result"
    }
   ],
   "source": [
    "((dfsel.pred - dfsel.mpg)**2).sum()"
   ]
  },
  {
   "cell_type": "code",
   "execution_count": 26,
   "id": "105d2551-9008-4f5a-92a4-ed55099bf70e",
   "metadata": {},
   "outputs": [
    {
     "data": {
      "text/plain": [
       "24252.575477386934"
      ]
     },
     "execution_count": 26,
     "metadata": {},
     "output_type": "execute_result"
    }
   ],
   "source": [
    "((dfsel.mpg - dfsel.mpg.mean())**2).sum()"
   ]
  },
  {
   "cell_type": "code",
   "execution_count": null,
   "id": "43eee4ad-06da-443c-91d9-86fadf2ad21b",
   "metadata": {},
   "outputs": [],
   "source": []
  },
  {
   "cell_type": "code",
   "execution_count": null,
   "id": "6a1224fb-a1e1-487a-a49e-e473f2f3b3da",
   "metadata": {},
   "outputs": [],
   "source": []
  },
  {
   "cell_type": "code",
   "execution_count": 27,
   "id": "682d785c-aab3-40e8-b532-b20d03098174",
   "metadata": {},
   "outputs": [],
   "source": [
    "rss = ((dfsel.pred - dfsel.mpg)**2).sum()"
   ]
  },
  {
   "cell_type": "code",
   "execution_count": 28,
   "id": "148b7ad2-3a56-4030-b0f8-dd2ebcfc8f08",
   "metadata": {},
   "outputs": [],
   "source": [
    "tss = ((dfsel.mpg - dfsel.mpg.mean())**2).sum()"
   ]
  },
  {
   "cell_type": "code",
   "execution_count": 29,
   "id": "a746af7e-a329-4452-9952-6953499387f9",
   "metadata": {},
   "outputs": [
    {
     "data": {
      "text/plain": [
       "0.30820701996584265"
      ]
     },
     "execution_count": 29,
     "metadata": {},
     "output_type": "execute_result"
    }
   ],
   "source": [
    "rss/tss"
   ]
  },
  {
   "cell_type": "code",
   "execution_count": 30,
   "id": "b2298b9d-5b22-4e82-9bad-63ab108301d7",
   "metadata": {},
   "outputs": [
    {
     "data": {
      "text/plain": [
       "0.6917929800341573"
      ]
     },
     "execution_count": 30,
     "metadata": {},
     "output_type": "execute_result"
    }
   ],
   "source": [
    "1-rss/tss"
   ]
  },
  {
   "cell_type": "markdown",
   "id": "72dd6a2b",
   "metadata": {},
   "source": [
    "# Otros Modelos de Regresión"
   ]
  },
  {
   "cell_type": "markdown",
   "id": "8b4bdf7f",
   "metadata": {},
   "source": [
    "## `RandomForestRegression()`"
   ]
  },
  {
   "cell_type": "code",
   "execution_count": 31,
   "id": "3418a8c1-d633-415d-991b-a5efc071082b",
   "metadata": {},
   "outputs": [],
   "source": [
    "from sklearn.ensemble import RandomForestRegressor"
   ]
  },
  {
   "cell_type": "code",
   "execution_count": 32,
   "id": "f53c38b2-2478-450e-a24d-5abeba974ca5",
   "metadata": {},
   "outputs": [],
   "source": [
    "model = RandomForestRegressor()"
   ]
  },
  {
   "cell_type": "code",
   "execution_count": 33,
   "id": "0c8d1ae2-160e-4339-89b1-3b7322e51386",
   "metadata": {},
   "outputs": [
    {
     "data": {
      "text/plain": [
       "RandomForestRegressor()"
      ]
     },
     "execution_count": 33,
     "metadata": {},
     "output_type": "execute_result"
    }
   ],
   "source": [
    "model.fit(X=df[['weight']], y=df['mpg'])"
   ]
  },
  {
   "cell_type": "code",
   "execution_count": 40,
   "id": "4c2eb022-7764-4750-a5a2-f6cf88456622",
   "metadata": {},
   "outputs": [],
   "source": [
    "rss = ((dfsel.pred_rf - dfsel.mpg)**2).sum()"
   ]
  },
  {
   "cell_type": "code",
   "execution_count": 41,
   "id": "9a0275c8-3810-42d1-898d-01732d22bce4",
   "metadata": {},
   "outputs": [
    {
     "data": {
      "text/plain": [
       "2064.6475226608327"
      ]
     },
     "execution_count": 41,
     "metadata": {},
     "output_type": "execute_result"
    }
   ],
   "source": [
    "rss"
   ]
  },
  {
   "cell_type": "code",
   "execution_count": 42,
   "id": "362100e5-92e1-4abc-9441-916c624408e0",
   "metadata": {},
   "outputs": [],
   "source": [
    "tss = ((dfsel.mpg - dfsel.mpg.mean())**2).sum()"
   ]
  },
  {
   "cell_type": "code",
   "execution_count": 43,
   "id": "1f361e94-03d3-442e-8d40-e3abe286c0cd",
   "metadata": {},
   "outputs": [
    {
     "data": {
      "text/plain": [
       "0.08513106266119683"
      ]
     },
     "execution_count": 43,
     "metadata": {},
     "output_type": "execute_result"
    }
   ],
   "source": [
    "rss/tss"
   ]
  },
  {
   "cell_type": "code",
   "execution_count": 44,
   "id": "92e8c37f-cd5a-418f-931d-6e61b8d12a32",
   "metadata": {},
   "outputs": [
    {
     "data": {
      "text/plain": [
       "0.9148689373388031"
      ]
     },
     "execution_count": 44,
     "metadata": {},
     "output_type": "execute_result"
    }
   ],
   "source": [
    "1-rss/tss"
   ]
  },
  {
   "cell_type": "code",
   "execution_count": 45,
   "id": "3e8b772c-4428-451f-9d82-08510757d4e4",
   "metadata": {},
   "outputs": [
    {
     "data": {
      "text/plain": [
       "0.9148689373388031"
      ]
     },
     "execution_count": 45,
     "metadata": {},
     "output_type": "execute_result"
    }
   ],
   "source": [
    "model.score(X=df[['weight']], y=df['mpg'])"
   ]
  },
  {
   "cell_type": "code",
   "execution_count": 46,
   "id": "1202c248-f43b-4fc3-b7f2-ffdc5c3e9a50",
   "metadata": {},
   "outputs": [],
   "source": [
    "dfsel['pred_rf'] = model.predict(X=df[['weight']])"
   ]
  },
  {
   "cell_type": "code",
   "execution_count": 47,
   "id": "b45b4f23-3093-4e16-9e6e-7d5509c7f245",
   "metadata": {},
   "outputs": [
    {
     "data": {
      "text/html": [
       "<div>\n",
       "<style scoped>\n",
       "    .dataframe tbody tr th:only-of-type {\n",
       "        vertical-align: middle;\n",
       "    }\n",
       "\n",
       "    .dataframe tbody tr th {\n",
       "        vertical-align: top;\n",
       "    }\n",
       "\n",
       "    .dataframe thead th {\n",
       "        text-align: right;\n",
       "    }\n",
       "</style>\n",
       "<table border=\"1\" class=\"dataframe\">\n",
       "  <thead>\n",
       "    <tr style=\"text-align: right;\">\n",
       "      <th></th>\n",
       "      <th>weight</th>\n",
       "      <th>mpg</th>\n",
       "      <th>pred</th>\n",
       "      <th>pred_rf</th>\n",
       "    </tr>\n",
       "    <tr>\n",
       "      <th>name</th>\n",
       "      <th></th>\n",
       "      <th></th>\n",
       "      <th></th>\n",
       "      <th></th>\n",
       "    </tr>\n",
       "  </thead>\n",
       "  <tbody>\n",
       "    <tr>\n",
       "      <th>chevrolet chevelle malibu</th>\n",
       "      <td>3504</td>\n",
       "      <td>18.0</td>\n",
       "      <td>19.418523</td>\n",
       "      <td>18.239000</td>\n",
       "    </tr>\n",
       "    <tr>\n",
       "      <th>buick skylark 320</th>\n",
       "      <td>3693</td>\n",
       "      <td>15.0</td>\n",
       "      <td>17.967643</td>\n",
       "      <td>15.212000</td>\n",
       "    </tr>\n",
       "    <tr>\n",
       "      <th>plymouth satellite</th>\n",
       "      <td>3436</td>\n",
       "      <td>18.0</td>\n",
       "      <td>19.940532</td>\n",
       "      <td>17.250500</td>\n",
       "    </tr>\n",
       "    <tr>\n",
       "      <th>amc rebel sst</th>\n",
       "      <td>3433</td>\n",
       "      <td>16.0</td>\n",
       "      <td>19.963562</td>\n",
       "      <td>16.385500</td>\n",
       "    </tr>\n",
       "    <tr>\n",
       "      <th>ford torino</th>\n",
       "      <td>3449</td>\n",
       "      <td>17.0</td>\n",
       "      <td>19.840736</td>\n",
       "      <td>17.194000</td>\n",
       "    </tr>\n",
       "    <tr>\n",
       "      <th>...</th>\n",
       "      <td>...</td>\n",
       "      <td>...</td>\n",
       "      <td>...</td>\n",
       "      <td>...</td>\n",
       "    </tr>\n",
       "    <tr>\n",
       "      <th>ford mustang gl</th>\n",
       "      <td>2790</td>\n",
       "      <td>27.0</td>\n",
       "      <td>24.899622</td>\n",
       "      <td>24.372000</td>\n",
       "    </tr>\n",
       "    <tr>\n",
       "      <th>vw pickup</th>\n",
       "      <td>2130</td>\n",
       "      <td>44.0</td>\n",
       "      <td>29.966185</td>\n",
       "      <td>34.096365</td>\n",
       "    </tr>\n",
       "    <tr>\n",
       "      <th>dodge rampage</th>\n",
       "      <td>2295</td>\n",
       "      <td>32.0</td>\n",
       "      <td>28.699544</td>\n",
       "      <td>31.323900</td>\n",
       "    </tr>\n",
       "    <tr>\n",
       "      <th>ford ranger</th>\n",
       "      <td>2625</td>\n",
       "      <td>28.0</td>\n",
       "      <td>26.166263</td>\n",
       "      <td>26.741000</td>\n",
       "    </tr>\n",
       "    <tr>\n",
       "      <th>chevy s-10</th>\n",
       "      <td>2720</td>\n",
       "      <td>31.0</td>\n",
       "      <td>25.436985</td>\n",
       "      <td>26.026095</td>\n",
       "    </tr>\n",
       "  </tbody>\n",
       "</table>\n",
       "<p>398 rows × 4 columns</p>\n",
       "</div>"
      ],
      "text/plain": [
       "                           weight   mpg       pred    pred_rf\n",
       "name                                                         \n",
       "chevrolet chevelle malibu    3504  18.0  19.418523  18.239000\n",
       "buick skylark 320            3693  15.0  17.967643  15.212000\n",
       "plymouth satellite           3436  18.0  19.940532  17.250500\n",
       "amc rebel sst                3433  16.0  19.963562  16.385500\n",
       "ford torino                  3449  17.0  19.840736  17.194000\n",
       "...                           ...   ...        ...        ...\n",
       "ford mustang gl              2790  27.0  24.899622  24.372000\n",
       "vw pickup                    2130  44.0  29.966185  34.096365\n",
       "dodge rampage                2295  32.0  28.699544  31.323900\n",
       "ford ranger                  2625  28.0  26.166263  26.741000\n",
       "chevy s-10                   2720  31.0  25.436985  26.026095\n",
       "\n",
       "[398 rows x 4 columns]"
      ]
     },
     "execution_count": 47,
     "metadata": {},
     "output_type": "execute_result"
    }
   ],
   "source": [
    "dfsel"
   ]
  },
  {
   "cell_type": "code",
   "execution_count": 50,
   "id": "597aa32a-da28-4707-80ab-2a083ab6a3f0",
   "metadata": {},
   "outputs": [
    {
     "data": {
      "text/plain": [
       "<AxesSubplot:xlabel='weight', ylabel='mpg'>"
      ]
     },
     "execution_count": 50,
     "metadata": {},
     "output_type": "execute_result"
    },
    {
     "data": {
      "image/png": "[encoded data removed]",
      "text/plain": [
       "<Figure size 432x288 with 1 Axes>"
      ]
     },
     "metadata": {
      "needs_background": "light"
     },
     "output_type": "display_data"
    }
   ],
   "source": [
    "sns.scatterplot(x='weight', y='mpg', data = df)\n",
    "sns.scatterplot(x='weight', y='pred_rf', data = dfsel)"
   ]
  },
  {
   "cell_type": "markdown",
   "id": "954f6d85",
   "metadata": {
    "tags": []
   },
   "source": [
    "## `SVR()`"
   ]
  },
  {
   "cell_type": "markdown",
   "id": "324c3e1d",
   "metadata": {},
   "source": []
  }
 ],
 "metadata": {
  "authors": [
   {
    "name": "Jesús López @sotastica"
   }
  ],
  "kernelspec": {
   "display_name": "Python 3 (ipykernel)",
   "language": "python",
   "name": "python3"
  },
  "language_info": {
   "codemirror_mode": {
    "name": "ipython",
    "version": 3
   },
   "file_extension": ".py",
   "mimetype": "text/x-python",
   "name": "python",
   "nbconvert_exporter": "python",
   "pygments_lexer": "ipython3",
   "version": "3.8.11"
  }
 },
 "nbformat": 4,
 "nbformat_minor": 5
}
