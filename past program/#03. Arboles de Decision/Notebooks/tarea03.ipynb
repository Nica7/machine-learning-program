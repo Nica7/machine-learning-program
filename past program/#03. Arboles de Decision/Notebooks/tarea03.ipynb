{
 "cells": [
  {
   "cell_type": "markdown",
   "id": "d938988d",
   "metadata": {},
   "source": [
    "<font size=\"+5\">#03. Arboles de Decision</font>"
   ]
  },
  {
   "cell_type": "markdown",
   "id": "0d876d50",
   "metadata": {},
   "source": [
    "<ul>\n",
    "    <li>Resolver dudas → Pregunta en <img src=\"https://discord.com/assets/f9bb9c4af2b9c32a2c5ee0014661546d.png\" style=\"height: 1em; vertical-align: middle;\"> <a href=\"https://discord.gg/cmB3KGsqMy\">Discord</a></li>\n",
    "    <li>Tutoriales → <img src=\"https://openmoji.org/php/download_asset.php?type=emoji&emoji_hexcode=E044&emoji_variant=color\" style=\"height: 1em; vertical-align: middle;\"> <a href=\"https://www.youtube.com/channel/UCovCte2I3loteQE_kRsfQcw\">YouTube</a></li>\n",
    "    <li>Reservar Clases → <span style=\"color: orange\">@</span> <a href=\"https://sotastica.com/reservar\">sotastica</a></li>\n",
    "</ul>"
   ]
  },
  {
   "cell_type": "markdown",
   "id": "18bca0f8",
   "metadata": {},
   "source": [
    "# Cargar Datos"
   ]
  },
  {
   "cell_type": "markdown",
   "id": "88ff4d12",
   "metadata": {
    "tags": []
   },
   "source": [
    "Usamos la base de datos del **CIS** sobre una muestra de 2455, cuyas características son de aspecto sociológico. El `objetivo es determinar si una persona usa internet o no`.\n",
    "\n",
    "```python\n",
    "df = pd.read_csv('https://raw.githubusercontent.com/jesusloplar/data/main/uso_internet_espana.csv')\n",
    "df.head()\n",
    "```"
   ]
  },
  {
   "cell_type": "code",
   "execution_count": 1,
   "id": "1df549df",
   "metadata": {},
   "outputs": [],
   "source": [
    "import pandas as pd\n",
    "import seaborn as sns"
   ]
  },
  {
   "cell_type": "code",
   "execution_count": 2,
   "id": "f0a28e5f-cc59-4de5-bb64-05e43e0c6388",
   "metadata": {},
   "outputs": [
    {
     "data": {
      "text/html": [
       "<div>\n",
       "<style scoped>\n",
       "    .dataframe tbody tr th:only-of-type {\n",
       "        vertical-align: middle;\n",
       "    }\n",
       "\n",
       "    .dataframe tbody tr th {\n",
       "        vertical-align: top;\n",
       "    }\n",
       "\n",
       "    .dataframe thead th {\n",
       "        text-align: right;\n",
       "    }\n",
       "</style>\n",
       "<table border=\"1\" class=\"dataframe\">\n",
       "  <thead>\n",
       "    <tr style=\"text-align: right;\">\n",
       "      <th></th>\n",
       "      <th>uso_internet</th>\n",
       "      <th>sexo</th>\n",
       "      <th>edad</th>\n",
       "      <th>estudios</th>\n",
       "    </tr>\n",
       "  </thead>\n",
       "  <tbody>\n",
       "    <tr>\n",
       "      <th>0</th>\n",
       "      <td>0</td>\n",
       "      <td>Mujer</td>\n",
       "      <td>66</td>\n",
       "      <td>Primaria</td>\n",
       "    </tr>\n",
       "    <tr>\n",
       "      <th>1</th>\n",
       "      <td>1</td>\n",
       "      <td>Hombre</td>\n",
       "      <td>72</td>\n",
       "      <td>Primaria</td>\n",
       "    </tr>\n",
       "    <tr>\n",
       "      <th>2</th>\n",
       "      <td>1</td>\n",
       "      <td>Hombre</td>\n",
       "      <td>48</td>\n",
       "      <td>Medios universitarios</td>\n",
       "    </tr>\n",
       "    <tr>\n",
       "      <th>3</th>\n",
       "      <td>0</td>\n",
       "      <td>Hombre</td>\n",
       "      <td>59</td>\n",
       "      <td>Superiores</td>\n",
       "    </tr>\n",
       "    <tr>\n",
       "      <th>4</th>\n",
       "      <td>1</td>\n",
       "      <td>Mujer</td>\n",
       "      <td>44</td>\n",
       "      <td>Superiores</td>\n",
       "    </tr>\n",
       "  </tbody>\n",
       "</table>\n",
       "</div>"
      ],
      "text/plain": [
       "   uso_internet    sexo  edad               estudios\n",
       "0             0   Mujer    66               Primaria\n",
       "1             1  Hombre    72               Primaria\n",
       "2             1  Hombre    48  Medios universitarios\n",
       "3             0  Hombre    59             Superiores\n",
       "4             1   Mujer    44             Superiores"
      ]
     },
     "execution_count": 2,
     "metadata": {},
     "output_type": "execute_result"
    }
   ],
   "source": [
    "df_base = pd.read_csv('https://raw.githubusercontent.com/jesusloplar/data/main/uso_internet_espana.csv')\n",
    "df_base.head()"
   ]
  },
  {
   "cell_type": "markdown",
   "id": "5e0769a9",
   "metadata": {
    "tags": []
   },
   "source": [
    "# Transformación de los Datos"
   ]
  },
  {
   "cell_type": "markdown",
   "id": "cb47faca",
   "metadata": {},
   "source": [
    "> 1. Las variables categóricas tienen valores de tipo `string` u `object`. Podéis consultarlo con `df.dtypes`.\n",
    "> 2. El modelo no puede optimizarse si hay columnas de dichos tipos.\n",
    "> 3. Deberíamos convertir las columnas categóricas a 0s y 1s. Es decir, **Variables Dummy**. Para ello, usaremos la función `pd.get_dummies(df)`."
   ]
  },
  {
   "cell_type": "code",
   "execution_count": 3,
   "id": "5a14dffd",
   "metadata": {},
   "outputs": [],
   "source": [
    "df = pd.get_dummies(df_base, drop_first=True)"
   ]
  },
  {
   "cell_type": "markdown",
   "id": "671a99cd",
   "metadata": {},
   "source": [
    "# Seleccionar Variables"
   ]
  },
  {
   "cell_type": "markdown",
   "id": "57b6ba20",
   "metadata": {},
   "source": [
    "> 1. `Variable Objetivo y`\n",
    "> 2. El resto las usaremos como `Variables Explicativas X`"
   ]
  },
  {
   "cell_type": "code",
   "execution_count": 4,
   "id": "d54c5d9d",
   "metadata": {},
   "outputs": [],
   "source": [
    "objetivo = df.uso_internet"
   ]
  },
  {
   "cell_type": "code",
   "execution_count": 5,
   "id": "23bcb293-8e9b-4094-a1ab-6d1981c053e5",
   "metadata": {},
   "outputs": [],
   "source": [
    "explicativas = df.drop(columns='uso_internet')"
   ]
  },
  {
   "cell_type": "markdown",
   "id": "41562190",
   "metadata": {},
   "source": [
    "# Entrenar Modelo `DecisionTreeClassifier()`"
   ]
  },
  {
   "cell_type": "markdown",
   "id": "b345c7d8",
   "metadata": {},
   "source": [
    "> Antes de irte a la torera a buscar lo que hemos visto durante la sesión. Piensa que:\n",
    ">\n",
    "> 1. Solo queremos importar una cosa; el objeto `DecisionTreeClassifier`.\n",
    "> 2. Por tanto: `from ... import DecisionTreeClassifier()`\n",
    "> 3. Tan solo tienes que pensar qué colocar en lugar de `...`. Teniendo en cuenta que la librería de `sklearn` contiene todo lo relacionado con los modelos de **Machine Learning**.\n",
    "> 4. **Disciplina Sotástica:** Puedes usar el tabulador `tab` para que Python te vaya sugiriendo..."
   ]
  },
  {
   "cell_type": "code",
   "execution_count": 15,
   "id": "48459838",
   "metadata": {},
   "outputs": [],
   "source": [
    "from sklearn.tree import DecisionTreeClassifier"
   ]
  },
  {
   "cell_type": "code",
   "execution_count": 16,
   "id": "ca633b88-e289-4f77-b010-a06543fa04da",
   "metadata": {},
   "outputs": [],
   "source": [
    "model = DecisionTreeClassifier(max_depth=3)"
   ]
  },
  {
   "cell_type": "code",
   "execution_count": 17,
   "id": "aaf1abcf-1a6d-4efe-bf99-4ca3f56f9c27",
   "metadata": {},
   "outputs": [
    {
     "data": {
      "text/plain": [
       "DecisionTreeClassifier(max_depth=3)"
      ]
     },
     "execution_count": 17,
     "metadata": {},
     "output_type": "execute_result"
    }
   ],
   "source": [
    "model.fit(X=explicativas, y=objetivo)"
   ]
  },
  {
   "cell_type": "markdown",
   "id": "6c106bda",
   "metadata": {},
   "source": [
    "# Visualizar Modelo"
   ]
  },
  {
   "cell_type": "markdown",
   "id": "5b319884-ecd3-4da8-8919-fada35413d92",
   "metadata": {
    "tags": []
   },
   "source": [
    "> 1. Usaremos la función `plot_tree()`, que se encuentra en el módulo `tree` de la librería `sklearn`\n",
    "> 2. Podéis usar `shift + tab` para que `Python` os explique cómo usar la función `plot_tree()`"
   ]
  },
  {
   "cell_type": "code",
   "execution_count": 18,
   "id": "c796c3bf",
   "metadata": {},
   "outputs": [],
   "source": [
    "from sklearn.tree import plot_tree"
   ]
  },
  {
   "cell_type": "code",
   "execution_count": 19,
   "id": "ec2a9dc9-1e0f-4a5f-90dc-6174c33b8f99",
   "metadata": {},
   "outputs": [],
   "source": [
    "import matplotlib.pyplot as plt"
   ]
  },
  {
   "cell_type": "markdown",
   "id": "2a57fc93-e220-4c77-8fad-a3d3e7d52989",
   "metadata": {},
   "source": [
    "- lista de strings: s"
   ]
  },
  {
   "cell_type": "code",
   "execution_count": 20,
   "id": "ba7f5cd7-b8e9-47c5-8eec-2ae3dcda7ca9",
   "metadata": {},
   "outputs": [],
   "source": [
    "a = 8"
   ]
  },
  {
   "cell_type": "code",
   "execution_count": 21,
   "id": "69bf955d-995b-4035-9606-bab6b9db4af9",
   "metadata": {},
   "outputs": [],
   "source": [
    "a = 'aoiusef'"
   ]
  },
  {
   "cell_type": "code",
   "execution_count": 22,
   "id": "605b0e18-76e3-4f7f-82b0-5715c8caec39",
   "metadata": {},
   "outputs": [],
   "source": [
    "a=['mujer', 'hombre']"
   ]
  },
  {
   "cell_type": "code",
   "execution_count": 23,
   "id": "5fb9995d-027b-48f2-9c0a-e0a6e45702bc",
   "metadata": {},
   "outputs": [
    {
     "data": {
      "text/html": [
       "<div>\n",
       "<style scoped>\n",
       "    .dataframe tbody tr th:only-of-type {\n",
       "        vertical-align: middle;\n",
       "    }\n",
       "\n",
       "    .dataframe tbody tr th {\n",
       "        vertical-align: top;\n",
       "    }\n",
       "\n",
       "    .dataframe thead th {\n",
       "        text-align: right;\n",
       "    }\n",
       "</style>\n",
       "<table border=\"1\" class=\"dataframe\">\n",
       "  <thead>\n",
       "    <tr style=\"text-align: right;\">\n",
       "      <th></th>\n",
       "      <th>edad</th>\n",
       "      <th>sexo_Mujer</th>\n",
       "      <th>estudios_Medios universitarios</th>\n",
       "      <th>estudios_Primaria</th>\n",
       "      <th>estudios_Secundaria</th>\n",
       "      <th>estudios_Sin estudios</th>\n",
       "      <th>estudios_Superiores</th>\n",
       "    </tr>\n",
       "  </thead>\n",
       "  <tbody>\n",
       "    <tr>\n",
       "      <th>0</th>\n",
       "      <td>66</td>\n",
       "      <td>1</td>\n",
       "      <td>0</td>\n",
       "      <td>1</td>\n",
       "      <td>0</td>\n",
       "      <td>0</td>\n",
       "      <td>0</td>\n",
       "    </tr>\n",
       "    <tr>\n",
       "      <th>1</th>\n",
       "      <td>72</td>\n",
       "      <td>0</td>\n",
       "      <td>0</td>\n",
       "      <td>1</td>\n",
       "      <td>0</td>\n",
       "      <td>0</td>\n",
       "      <td>0</td>\n",
       "    </tr>\n",
       "    <tr>\n",
       "      <th>2</th>\n",
       "      <td>48</td>\n",
       "      <td>0</td>\n",
       "      <td>1</td>\n",
       "      <td>0</td>\n",
       "      <td>0</td>\n",
       "      <td>0</td>\n",
       "      <td>0</td>\n",
       "    </tr>\n",
       "    <tr>\n",
       "      <th>3</th>\n",
       "      <td>59</td>\n",
       "      <td>0</td>\n",
       "      <td>0</td>\n",
       "      <td>0</td>\n",
       "      <td>0</td>\n",
       "      <td>0</td>\n",
       "      <td>1</td>\n",
       "    </tr>\n",
       "    <tr>\n",
       "      <th>4</th>\n",
       "      <td>44</td>\n",
       "      <td>1</td>\n",
       "      <td>0</td>\n",
       "      <td>0</td>\n",
       "      <td>0</td>\n",
       "      <td>0</td>\n",
       "      <td>1</td>\n",
       "    </tr>\n",
       "    <tr>\n",
       "      <th>...</th>\n",
       "      <td>...</td>\n",
       "      <td>...</td>\n",
       "      <td>...</td>\n",
       "      <td>...</td>\n",
       "      <td>...</td>\n",
       "      <td>...</td>\n",
       "      <td>...</td>\n",
       "    </tr>\n",
       "    <tr>\n",
       "      <th>2450</th>\n",
       "      <td>43</td>\n",
       "      <td>0</td>\n",
       "      <td>0</td>\n",
       "      <td>1</td>\n",
       "      <td>0</td>\n",
       "      <td>0</td>\n",
       "      <td>0</td>\n",
       "    </tr>\n",
       "    <tr>\n",
       "      <th>2451</th>\n",
       "      <td>18</td>\n",
       "      <td>1</td>\n",
       "      <td>0</td>\n",
       "      <td>0</td>\n",
       "      <td>1</td>\n",
       "      <td>0</td>\n",
       "      <td>0</td>\n",
       "    </tr>\n",
       "    <tr>\n",
       "      <th>2452</th>\n",
       "      <td>54</td>\n",
       "      <td>1</td>\n",
       "      <td>0</td>\n",
       "      <td>1</td>\n",
       "      <td>0</td>\n",
       "      <td>0</td>\n",
       "      <td>0</td>\n",
       "    </tr>\n",
       "    <tr>\n",
       "      <th>2453</th>\n",
       "      <td>31</td>\n",
       "      <td>0</td>\n",
       "      <td>0</td>\n",
       "      <td>0</td>\n",
       "      <td>1</td>\n",
       "      <td>0</td>\n",
       "      <td>0</td>\n",
       "    </tr>\n",
       "    <tr>\n",
       "      <th>2454</th>\n",
       "      <td>52</td>\n",
       "      <td>0</td>\n",
       "      <td>0</td>\n",
       "      <td>1</td>\n",
       "      <td>0</td>\n",
       "      <td>0</td>\n",
       "      <td>0</td>\n",
       "    </tr>\n",
       "  </tbody>\n",
       "</table>\n",
       "<p>2455 rows × 7 columns</p>\n",
       "</div>"
      ],
      "text/plain": [
       "      edad  sexo_Mujer  estudios_Medios universitarios  estudios_Primaria  \\\n",
       "0       66           1                               0                  1   \n",
       "1       72           0                               0                  1   \n",
       "2       48           0                               1                  0   \n",
       "3       59           0                               0                  0   \n",
       "4       44           1                               0                  0   \n",
       "...    ...         ...                             ...                ...   \n",
       "2450    43           0                               0                  1   \n",
       "2451    18           1                               0                  0   \n",
       "2452    54           1                               0                  1   \n",
       "2453    31           0                               0                  0   \n",
       "2454    52           0                               0                  1   \n",
       "\n",
       "      estudios_Secundaria  estudios_Sin estudios  estudios_Superiores  \n",
       "0                       0                      0                    0  \n",
       "1                       0                      0                    0  \n",
       "2                       0                      0                    0  \n",
       "3                       0                      0                    1  \n",
       "4                       0                      0                    1  \n",
       "...                   ...                    ...                  ...  \n",
       "2450                    0                      0                    0  \n",
       "2451                    1                      0                    0  \n",
       "2452                    0                      0                    0  \n",
       "2453                    1                      0                    0  \n",
       "2454                    0                      0                    0  \n",
       "\n",
       "[2455 rows x 7 columns]"
      ]
     },
     "execution_count": 23,
     "metadata": {},
     "output_type": "execute_result"
    }
   ],
   "source": [
    "explicativas"
   ]
  },
  {
   "cell_type": "markdown",
   "id": "24c9b91f-9340-42bd-acd0-d02da9171781",
   "metadata": {},
   "source": [
    "- `DataFrame` =? `lista de strings`"
   ]
  },
  {
   "cell_type": "code",
   "execution_count": 24,
   "id": "86e98be9-6c2a-4bdf-9b81-697d3f808179",
   "metadata": {},
   "outputs": [
    {
     "data": {
      "text/plain": [
       "['mujer', 'hombre']"
      ]
     },
     "execution_count": 24,
     "metadata": {},
     "output_type": "execute_result"
    }
   ],
   "source": [
    "a"
   ]
  },
  {
   "cell_type": "code",
   "execution_count": 25,
   "id": "67166bb5-e253-404e-be14-ee84aaf1fe01",
   "metadata": {},
   "outputs": [
    {
     "data": {
      "text/plain": [
       "Index(['edad', 'sexo_Mujer', 'estudios_Medios universitarios',\n",
       "       'estudios_Primaria', 'estudios_Secundaria', 'estudios_Sin estudios',\n",
       "       'estudios_Superiores'],\n",
       "      dtype='object')"
      ]
     },
     "execution_count": 25,
     "metadata": {},
     "output_type": "execute_result"
    }
   ],
   "source": [
    "explicativas.columns"
   ]
  },
  {
   "cell_type": "code",
   "execution_count": 26,
   "id": "28e33311-d341-465e-976b-e5ccff1ec3fd",
   "metadata": {},
   "outputs": [
    {
     "data": {
      "text/plain": [
       "['uso_internet',\n",
       " 'edad',\n",
       " 'sexo_Mujer',\n",
       " 'estudios_Medios universitarios',\n",
       " 'estudios_Primaria',\n",
       " 'estudios_Secundaria',\n",
       " 'estudios_Sin estudios',\n",
       " 'estudios_Superiores']"
      ]
     },
     "execution_count": 26,
     "metadata": {},
     "output_type": "execute_result"
    }
   ],
   "source": [
    "df.columns.tolist()"
   ]
  },
  {
   "cell_type": "code",
   "execution_count": 27,
   "id": "69db0899-2bdd-4f62-9187-883744f76b38",
   "metadata": {},
   "outputs": [
    {
     "data": {
      "image/png": "[encoded data removed]",
      "text/plain": [
       "<Figure size 1296x864 with 1 Axes>"
      ]
     },
     "metadata": {
      "needs_background": "light"
     },
     "output_type": "display_data"
    }
   ],
   "source": [
    "plt.figure(figsize=(18,12))\n",
    "plot_tree(decision_tree=model, feature_names=explicativas.columns, fontsize=13);"
   ]
  },
  {
   "cell_type": "code",
   "execution_count": 28,
   "id": "bc06b3e7-8129-43fb-92b9-11dc93aa65f5",
   "metadata": {},
   "outputs": [
    {
     "data": {
      "image/png": "[encoded data removed]",
      "text/plain": [
       "<Figure size 1296x864 with 1 Axes>"
      ]
     },
     "metadata": {
      "needs_background": "light"
     },
     "output_type": "display_data"
    }
   ],
   "source": [
    "plt.figure(figsize=(18,12))\n",
    "plot_tree(decision_tree=model, feature_names=explicativas.columns, fontsize=13, filled=True);"
   ]
  },
  {
   "cell_type": "code",
   "execution_count": 29,
   "id": "056560f6-2298-467a-a572-c20ec3b24bdf",
   "metadata": {},
   "outputs": [
    {
     "data": {
      "text/plain": [
       "uso_internet                       1\n",
       "edad                              35\n",
       "sexo_Mujer                         0\n",
       "estudios_Medios universitarios     0\n",
       "estudios_Primaria                  0\n",
       "estudios_Secundaria                0\n",
       "estudios_Sin estudios              0\n",
       "estudios_Superiores                1\n",
       "Name: 281, dtype: int64"
      ]
     },
     "execution_count": 29,
     "metadata": {},
     "output_type": "execute_result"
    }
   ],
   "source": [
    "df.loc[281]"
   ]
  },
  {
   "cell_type": "code",
   "execution_count": 30,
   "id": "e7c084e9-fd14-40ac-9b43-db26468b5a97",
   "metadata": {},
   "outputs": [
    {
     "data": {
      "text/plain": [
       "0.9075829383886256"
      ]
     },
     "execution_count": 30,
     "metadata": {},
     "output_type": "execute_result"
    }
   ],
   "source": [
    "766/844"
   ]
  },
  {
   "cell_type": "code",
   "execution_count": 31,
   "id": "bede3796-2583-4d23-90fb-191ff813ea8d",
   "metadata": {},
   "outputs": [],
   "source": [
    "df.uso_internet = df.uso_internet.astype(object)"
   ]
  },
  {
   "cell_type": "code",
   "execution_count": 32,
   "id": "c833849b-4ac2-4340-bc17-de41432a9fc9",
   "metadata": {},
   "outputs": [
    {
     "data": {
      "text/plain": [
       "uso_internet                      object\n",
       "edad                               int64\n",
       "sexo_Mujer                         uint8\n",
       "estudios_Medios universitarios     uint8\n",
       "estudios_Primaria                  uint8\n",
       "estudios_Secundaria                uint8\n",
       "estudios_Sin estudios              uint8\n",
       "estudios_Superiores                uint8\n",
       "dtype: object"
      ]
     },
     "execution_count": 32,
     "metadata": {},
     "output_type": "execute_result"
    }
   ],
   "source": [
    "df.dtypes"
   ]
  },
  {
   "cell_type": "code",
   "execution_count": 33,
   "id": "45152ac5-2cb8-4a5e-8260-c5c80414736a",
   "metadata": {},
   "outputs": [
    {
     "data": {
      "text/plain": [
       "[]"
      ]
     },
     "execution_count": 33,
     "metadata": {},
     "output_type": "execute_result"
    }
   ],
   "source": [
    "explicativas_cat = df.loc[:, df.dtypes == 'object'].drop(columns='uso_internet').columns\n",
    "comb = list(zip(explicativas_cat, range(3)))\n",
    "comb"
   ]
  },
  {
   "cell_type": "code",
   "execution_count": 34,
   "id": "31c289b1-d566-426e-b54e-b09655e7c171",
   "metadata": {},
   "outputs": [
    {
     "data": {
      "text/plain": [
       "[('edad', 0),\n",
       " ('sexo_Mujer', 1),\n",
       " ('estudios_Medios universitarios', 2),\n",
       " ('estudios_Primaria', 3),\n",
       " ('estudios_Secundaria', 4),\n",
       " ('estudios_Sin estudios', 5),\n",
       " ('estudios_Superiores', 6)]"
      ]
     },
     "execution_count": 34,
     "metadata": {},
     "output_type": "execute_result"
    }
   ],
   "source": [
    "### Variables Numéricas\n",
    "\n",
    "#### Método Gráfico\n",
    "\n",
    "# A la hora de visualizar la relación entre las diferentes variables numércias explicativas, no podemos hacer un conteo como antes. Sino que debemos ver cómo se distribuyen estas variables en las distintas categorías de la variable objetivo.\n",
    "\n",
    "# Podemos hacer diferentes gráficas:\n",
    "\n",
    "explicativas_num = [i for i in df.columns if i not in explicativas_cat]\n",
    "explicativas_num.remove('uso_internet')\n",
    "comb = list(zip(explicativas_num, range(len(explicativas_num))))\n",
    "comb"
   ]
  },
  {
   "cell_type": "code",
   "execution_count": 35,
   "id": "5e99f4db-17ed-42a9-8e35-4472cd1fa290",
   "metadata": {},
   "outputs": [
    {
     "ename": "IndexError",
     "evalue": "index 4 is out of bounds for axis 0 with size 4",
     "output_type": "error",
     "traceback": [
      "\u001b[0;31m---------------------------------------------------------------------------\u001b[0m",
      "\u001b[0;31mIndexError\u001b[0m                                Traceback (most recent call last)",
      "\u001b[0;32m<ipython-input-35-9d1a21fb74ea>\u001b[0m in \u001b[0;36m<module>\u001b[0;34m\u001b[0m\n\u001b[1;32m      6\u001b[0m \u001b[0;32mfor\u001b[0m \u001b[0mi\u001b[0m\u001b[0;34m,\u001b[0m\u001b[0mj\u001b[0m \u001b[0;32min\u001b[0m \u001b[0mcomb\u001b[0m\u001b[0;34m:\u001b[0m\u001b[0;34m\u001b[0m\u001b[0;34m\u001b[0m\u001b[0m\n\u001b[1;32m      7\u001b[0m     \u001b[0;32mfor\u001b[0m \u001b[0mlab\u001b[0m\u001b[0;34m,\u001b[0m \u001b[0mdat\u001b[0m \u001b[0;32min\u001b[0m \u001b[0mdf\u001b[0m\u001b[0;34m.\u001b[0m\u001b[0mgroupby\u001b[0m\u001b[0;34m(\u001b[0m\u001b[0;34m'uso_internet'\u001b[0m\u001b[0;34m)\u001b[0m\u001b[0;34m:\u001b[0m\u001b[0;34m\u001b[0m\u001b[0;34m\u001b[0m\u001b[0m\n\u001b[0;32m----> 8\u001b[0;31m         \u001b[0maxs\u001b[0m\u001b[0;34m[\u001b[0m\u001b[0mj\u001b[0m\u001b[0;34m]\u001b[0m\u001b[0;34m.\u001b[0m\u001b[0mhist\u001b[0m\u001b[0;34m(\u001b[0m\u001b[0mx\u001b[0m\u001b[0;34m=\u001b[0m\u001b[0mdat\u001b[0m\u001b[0;34m[\u001b[0m\u001b[0mi\u001b[0m\u001b[0;34m]\u001b[0m\u001b[0;34m,\u001b[0m \u001b[0mlabel\u001b[0m\u001b[0;34m=\u001b[0m\u001b[0mlab\u001b[0m\u001b[0;34m,\u001b[0m \u001b[0malpha\u001b[0m\u001b[0;34m=\u001b[0m\u001b[0;36m0.7\u001b[0m\u001b[0;34m,\u001b[0m \u001b[0medgecolor\u001b[0m\u001b[0;34m=\u001b[0m\u001b[0;34m'black'\u001b[0m\u001b[0;34m,\u001b[0m \u001b[0mbins\u001b[0m\u001b[0;34m=\u001b[0m\u001b[0;36m20\u001b[0m\u001b[0;34m)\u001b[0m\u001b[0;34m\u001b[0m\u001b[0;34m\u001b[0m\u001b[0m\n\u001b[0m\u001b[1;32m      9\u001b[0m         \u001b[0maxs\u001b[0m\u001b[0;34m[\u001b[0m\u001b[0mj\u001b[0m\u001b[0;34m]\u001b[0m\u001b[0;34m.\u001b[0m\u001b[0mset_title\u001b[0m\u001b[0;34m(\u001b[0m\u001b[0mi\u001b[0m\u001b[0;34m)\u001b[0m\u001b[0;34m\u001b[0m\u001b[0;34m\u001b[0m\u001b[0m\n\u001b[1;32m     10\u001b[0m         \u001b[0maxs\u001b[0m\u001b[0;34m[\u001b[0m\u001b[0mj\u001b[0m\u001b[0;34m]\u001b[0m\u001b[0;34m.\u001b[0m\u001b[0mlegend\u001b[0m\u001b[0;34m(\u001b[0m\u001b[0mtitle\u001b[0m\u001b[0;34m=\u001b[0m\u001b[0;34m'Survived'\u001b[0m\u001b[0;34m)\u001b[0m\u001b[0;34m\u001b[0m\u001b[0;34m\u001b[0m\u001b[0m\n",
      "\u001b[0;31mIndexError\u001b[0m: index 4 is out of bounds for axis 0 with size 4"
     ]
    },
    {
     "data": {
      "image/png": "[encoded data removed]",
      "text/plain": [
       "<Figure size 1440x432 with 4 Axes>"
      ]
     },
     "metadata": {
      "needs_background": "light"
     },
     "output_type": "display_data"
    }
   ],
   "source": [
    "##### Histograma\n",
    "\n",
    "fig, axs = plt.subplots(ncols=4, figsize=(20,6))\n",
    "fig.suptitle('Vertically stacked subplots')\n",
    "\n",
    "for i,j in comb:\n",
    "    for lab, dat in df.groupby('uso_internet'):\n",
    "        axs[j].hist(x=dat[i], label=lab, alpha=0.7, edgecolor='black', bins=20)\n",
    "        axs[j].set_title(i)\n",
    "        axs[j].legend(title='Survived')"
   ]
  },
  {
   "cell_type": "code",
   "execution_count": null,
   "id": "6b35cac3-6eb0-45e0-9cd1-134ec98e5f7d",
   "metadata": {},
   "outputs": [],
   "source": [
    "a = df_base.sample()"
   ]
  },
  {
   "cell_type": "code",
   "execution_count": null,
   "id": "35b51f2e-2155-4d41-9afa-2b2de0b2dc36",
   "metadata": {},
   "outputs": [],
   "source": [
    "a"
   ]
  },
  {
   "cell_type": "code",
   "execution_count": null,
   "id": "14045e52-a1ea-4d58-9ba1-909d6450c130",
   "metadata": {},
   "outputs": [],
   "source": [
    "#Example sklearn.tree.plot_tree\n",
    "from sklearn.datasets import load_iris\n",
    "from sklearn import tree"
   ]
  },
  {
   "cell_type": "code",
   "execution_count": null,
   "id": "4df66797-2269-47f2-9ef2-86359e1ad077",
   "metadata": {},
   "outputs": [],
   "source": [
    "clf = tree.DecisionTreeClassifier(random_state=0)\n",
    "iris = load_iris()"
   ]
  },
  {
   "cell_type": "code",
   "execution_count": null,
   "id": "fe289cd3-7d56-408f-833b-31f677f567b2",
   "metadata": {},
   "outputs": [],
   "source": [
    "import matplotlib.pyplot as plt"
   ]
  },
  {
   "cell_type": "code",
   "execution_count": 36,
   "id": "5efcfa8f-786f-4087-8fcb-8b58f056acda",
   "metadata": {},
   "outputs": [
    {
     "ename": "NameError",
     "evalue": "name 'clf' is not defined",
     "output_type": "error",
     "traceback": [
      "\u001b[0;31m---------------------------------------------------------------------------\u001b[0m",
      "\u001b[0;31mNameError\u001b[0m                                 Traceback (most recent call last)",
      "\u001b[0;32m<ipython-input-36-0d22dc5186cf>\u001b[0m in \u001b[0;36m<module>\u001b[0;34m\u001b[0m\n\u001b[1;32m      1\u001b[0m \u001b[0mplt\u001b[0m\u001b[0;34m.\u001b[0m\u001b[0mfigure\u001b[0m\u001b[0;34m(\u001b[0m\u001b[0mfigsize\u001b[0m\u001b[0;34m=\u001b[0m\u001b[0;34m(\u001b[0m\u001b[0;36m12\u001b[0m\u001b[0;34m,\u001b[0m\u001b[0;36m8\u001b[0m\u001b[0;34m)\u001b[0m\u001b[0;34m)\u001b[0m\u001b[0;34m\u001b[0m\u001b[0;34m\u001b[0m\u001b[0m\n\u001b[0;32m----> 2\u001b[0;31m \u001b[0mclf\u001b[0m \u001b[0;34m=\u001b[0m \u001b[0mclf\u001b[0m\u001b[0;34m.\u001b[0m\u001b[0mfit\u001b[0m\u001b[0;34m(\u001b[0m\u001b[0miris\u001b[0m\u001b[0;34m.\u001b[0m\u001b[0mdata\u001b[0m\u001b[0;34m,\u001b[0m \u001b[0miris\u001b[0m\u001b[0;34m.\u001b[0m\u001b[0mtarget\u001b[0m\u001b[0;34m)\u001b[0m\u001b[0;34m\u001b[0m\u001b[0;34m\u001b[0m\u001b[0m\n\u001b[0m\u001b[1;32m      3\u001b[0m \u001b[0mtree\u001b[0m\u001b[0;34m.\u001b[0m\u001b[0mplot_tree\u001b[0m\u001b[0;34m(\u001b[0m\u001b[0mclf\u001b[0m\u001b[0;34m)\u001b[0m\u001b[0;34m\u001b[0m\u001b[0;34m\u001b[0m\u001b[0m\n",
      "\u001b[0;31mNameError\u001b[0m: name 'clf' is not defined"
     ]
    },
    {
     "data": {
      "text/plain": [
       "<Figure size 864x576 with 0 Axes>"
      ]
     },
     "metadata": {},
     "output_type": "display_data"
    }
   ],
   "source": [
    "plt.figure(figsize=(12,8))\n",
    "clf = clf.fit(iris.data, iris.target)\n",
    "tree.plot_tree(clf)"
   ]
  },
  {
   "cell_type": "markdown",
   "id": "1dcbdc61",
   "metadata": {},
   "source": [
    "# Explicación Algoritmo Árbol de Decisión"
   ]
  },
  {
   "cell_type": "markdown",
   "id": "a256173b",
   "metadata": {},
   "source": [
    "> _Durante la corrección te explicare en detalle el funcionamiento de este algoritmo. Mientras tanto, podéis ver el vídeo que usaré para que os relacionéis con los conceptos:_\n",
    ">\n",
    "> - https://www.youtube.com/watch?v=7VeUPuFGJHk"
   ]
  },
  {
   "cell_type": "code",
   "execution_count": null,
   "id": "faa31c7c",
   "metadata": {},
   "outputs": [],
   "source": []
  },
  {
   "cell_type": "markdown",
   "id": "d9294487",
   "metadata": {},
   "source": [
    "# Interpretar Modelo"
   ]
  },
  {
   "cell_type": "markdown",
   "id": "57286e16",
   "metadata": {},
   "source": [
    "> - ¿Cómo se ha situado la variable en el **Nodo Raíz**? ¿Es la **variable más importante**? ¿Por qué?"
   ]
  },
  {
   "cell_type": "code",
   "execution_count": 37,
   "id": "6d572d2e-01eb-4e36-acb9-8ad74d3fe8dd",
   "metadata": {},
   "outputs": [
    {
     "data": {
      "text/plain": [
       "uso_internet                       1\n",
       "edad                              35\n",
       "sexo_Mujer                         0\n",
       "estudios_Medios universitarios     0\n",
       "estudios_Primaria                  0\n",
       "estudios_Secundaria                0\n",
       "estudios_Sin estudios              0\n",
       "estudios_Superiores                1\n",
       "Name: 281, dtype: object"
      ]
     },
     "execution_count": 37,
     "metadata": {},
     "output_type": "execute_result"
    }
   ],
   "source": [
    "df.loc[281]"
   ]
  },
  {
   "cell_type": "code",
   "execution_count": 38,
   "id": "80a2cb5a",
   "metadata": {},
   "outputs": [
    {
     "data": {
      "text/plain": [
       "array([[0.09241706, 0.90758294]])"
      ]
     },
     "execution_count": 38,
     "metadata": {},
     "output_type": "execute_result"
    }
   ],
   "source": [
    "model.predict_proba(X=explicativas.loc[281].values.reshape(1,-1))"
   ]
  },
  {
   "cell_type": "markdown",
   "id": "8c9cce4a",
   "metadata": {},
   "source": [
    "# Realizar Predicciones"
   ]
  },
  {
   "cell_type": "markdown",
   "id": "87916f94",
   "metadata": {},
   "source": [
    "> ¿No crees que si existe un modelo para calcular la ecuación matemática del árbol, probablemente habrá otro para **aplicar la ecuación matemática** sustituyendo por las variables de entrada, `explicativas X`?"
   ]
  },
  {
   "cell_type": "code",
   "execution_count": 39,
   "id": "f6038652",
   "metadata": {},
   "outputs": [
    {
     "data": {
      "text/plain": [
       "array([[0.90371389, 0.09628611],\n",
       "       [0.90371389, 0.09628611],\n",
       "       [0.09241706, 0.90758294],\n",
       "       ...,\n",
       "       [0.61538462, 0.38461538],\n",
       "       [0.09241706, 0.90758294],\n",
       "       [0.61538462, 0.38461538]])"
      ]
     },
     "execution_count": 39,
     "metadata": {},
     "output_type": "execute_result"
    }
   ],
   "source": [
    "model.predict_proba(explicativas)"
   ]
  },
  {
   "cell_type": "code",
   "execution_count": 40,
   "id": "b9d1c7eb-2049-40f0-8d98-d974cbf7cca9",
   "metadata": {},
   "outputs": [],
   "source": [
    "import numpy as np"
   ]
  },
  {
   "cell_type": "code",
   "execution_count": 41,
   "id": "6c0dd682-8e80-4fa9-8ae7-62149678c216",
   "metadata": {},
   "outputs": [
    {
     "data": {
      "text/plain": [
       "array([0, 0, 1, ..., 0, 1, 0])"
      ]
     },
     "execution_count": 41,
     "metadata": {},
     "output_type": "execute_result"
    }
   ],
   "source": [
    "np.where(model.predict_proba(explicativas)[:, 1]> 0.5, 1, 0)"
   ]
  },
  {
   "cell_type": "code",
   "execution_count": 42,
   "id": "fdd6a395-9873-4990-acdd-0cf885fa1597",
   "metadata": {},
   "outputs": [],
   "source": [
    "predicciones = model.predict(explicativas)"
   ]
  },
  {
   "cell_type": "markdown",
   "id": "cd72a4d8",
   "metadata": {},
   "source": [
    "# Realidad vs Predicciones"
   ]
  },
  {
   "cell_type": "markdown",
   "id": "9e74a0da",
   "metadata": {},
   "source": [
    "> ¿Cómo de bueno es nuestro modelo?\n",
    ">\n",
    "> 1. Si pasamos las predicciones como una nuevo columna del `DataFrame`, podremos observar que **las predicciones de nuestro modelo pueden no coincidir con la realidad**.\n",
    ">\n",
    ">    - `df['pred'] = predicciones`\n",
    ">\n",
    "> 2. ¿Cómo medimos el **error de nuestro modelo**? ¿Cómo de bueno es nuestro modelo para describir la realidad?\n",
    ">    - `df.sample(10)` para comprobar si las predicciones de nuestro modelo coinciden con la realidad..."
   ]
  },
  {
   "cell_type": "code",
   "execution_count": 43,
   "id": "22483fe5",
   "metadata": {},
   "outputs": [
    {
     "data": {
      "text/html": [
       "<div>\n",
       "<style scoped>\n",
       "    .dataframe tbody tr th:only-of-type {\n",
       "        vertical-align: middle;\n",
       "    }\n",
       "\n",
       "    .dataframe tbody tr th {\n",
       "        vertical-align: top;\n",
       "    }\n",
       "\n",
       "    .dataframe thead th {\n",
       "        text-align: right;\n",
       "    }\n",
       "</style>\n",
       "<table border=\"1\" class=\"dataframe\">\n",
       "  <thead>\n",
       "    <tr style=\"text-align: right;\">\n",
       "      <th></th>\n",
       "      <th>uso_internet</th>\n",
       "      <th>edad</th>\n",
       "      <th>sexo_Mujer</th>\n",
       "      <th>estudios_Medios universitarios</th>\n",
       "      <th>estudios_Primaria</th>\n",
       "      <th>estudios_Secundaria</th>\n",
       "      <th>estudios_Sin estudios</th>\n",
       "      <th>estudios_Superiores</th>\n",
       "      <th>pred</th>\n",
       "    </tr>\n",
       "  </thead>\n",
       "  <tbody>\n",
       "    <tr>\n",
       "      <th>650</th>\n",
       "      <td>1</td>\n",
       "      <td>37</td>\n",
       "      <td>0</td>\n",
       "      <td>0</td>\n",
       "      <td>0</td>\n",
       "      <td>1</td>\n",
       "      <td>0</td>\n",
       "      <td>0</td>\n",
       "      <td>1</td>\n",
       "    </tr>\n",
       "    <tr>\n",
       "      <th>2361</th>\n",
       "      <td>1</td>\n",
       "      <td>41</td>\n",
       "      <td>0</td>\n",
       "      <td>0</td>\n",
       "      <td>0</td>\n",
       "      <td>0</td>\n",
       "      <td>0</td>\n",
       "      <td>0</td>\n",
       "      <td>1</td>\n",
       "    </tr>\n",
       "    <tr>\n",
       "      <th>171</th>\n",
       "      <td>1</td>\n",
       "      <td>41</td>\n",
       "      <td>0</td>\n",
       "      <td>0</td>\n",
       "      <td>1</td>\n",
       "      <td>0</td>\n",
       "      <td>0</td>\n",
       "      <td>0</td>\n",
       "      <td>0</td>\n",
       "    </tr>\n",
       "    <tr>\n",
       "      <th>1403</th>\n",
       "      <td>0</td>\n",
       "      <td>64</td>\n",
       "      <td>0</td>\n",
       "      <td>0</td>\n",
       "      <td>1</td>\n",
       "      <td>0</td>\n",
       "      <td>0</td>\n",
       "      <td>0</td>\n",
       "      <td>0</td>\n",
       "    </tr>\n",
       "    <tr>\n",
       "      <th>1235</th>\n",
       "      <td>1</td>\n",
       "      <td>31</td>\n",
       "      <td>0</td>\n",
       "      <td>0</td>\n",
       "      <td>0</td>\n",
       "      <td>0</td>\n",
       "      <td>0</td>\n",
       "      <td>0</td>\n",
       "      <td>1</td>\n",
       "    </tr>\n",
       "    <tr>\n",
       "      <th>581</th>\n",
       "      <td>0</td>\n",
       "      <td>76</td>\n",
       "      <td>0</td>\n",
       "      <td>0</td>\n",
       "      <td>1</td>\n",
       "      <td>0</td>\n",
       "      <td>0</td>\n",
       "      <td>0</td>\n",
       "      <td>0</td>\n",
       "    </tr>\n",
       "    <tr>\n",
       "      <th>1211</th>\n",
       "      <td>0</td>\n",
       "      <td>69</td>\n",
       "      <td>0</td>\n",
       "      <td>0</td>\n",
       "      <td>0</td>\n",
       "      <td>0</td>\n",
       "      <td>1</td>\n",
       "      <td>0</td>\n",
       "      <td>0</td>\n",
       "    </tr>\n",
       "    <tr>\n",
       "      <th>1217</th>\n",
       "      <td>1</td>\n",
       "      <td>46</td>\n",
       "      <td>1</td>\n",
       "      <td>0</td>\n",
       "      <td>1</td>\n",
       "      <td>0</td>\n",
       "      <td>0</td>\n",
       "      <td>0</td>\n",
       "      <td>0</td>\n",
       "    </tr>\n",
       "    <tr>\n",
       "      <th>46</th>\n",
       "      <td>0</td>\n",
       "      <td>29</td>\n",
       "      <td>1</td>\n",
       "      <td>0</td>\n",
       "      <td>1</td>\n",
       "      <td>0</td>\n",
       "      <td>0</td>\n",
       "      <td>0</td>\n",
       "      <td>1</td>\n",
       "    </tr>\n",
       "    <tr>\n",
       "      <th>1367</th>\n",
       "      <td>1</td>\n",
       "      <td>27</td>\n",
       "      <td>1</td>\n",
       "      <td>0</td>\n",
       "      <td>0</td>\n",
       "      <td>0</td>\n",
       "      <td>0</td>\n",
       "      <td>0</td>\n",
       "      <td>1</td>\n",
       "    </tr>\n",
       "  </tbody>\n",
       "</table>\n",
       "</div>"
      ],
      "text/plain": [
       "     uso_internet  edad  sexo_Mujer  estudios_Medios universitarios  \\\n",
       "650             1    37           0                               0   \n",
       "2361            1    41           0                               0   \n",
       "171             1    41           0                               0   \n",
       "1403            0    64           0                               0   \n",
       "1235            1    31           0                               0   \n",
       "581             0    76           0                               0   \n",
       "1211            0    69           0                               0   \n",
       "1217            1    46           1                               0   \n",
       "46              0    29           1                               0   \n",
       "1367            1    27           1                               0   \n",
       "\n",
       "      estudios_Primaria  estudios_Secundaria  estudios_Sin estudios  \\\n",
       "650                   0                    1                      0   \n",
       "2361                  0                    0                      0   \n",
       "171                   1                    0                      0   \n",
       "1403                  1                    0                      0   \n",
       "1235                  0                    0                      0   \n",
       "581                   1                    0                      0   \n",
       "1211                  0                    0                      1   \n",
       "1217                  1                    0                      0   \n",
       "46                    1                    0                      0   \n",
       "1367                  0                    0                      0   \n",
       "\n",
       "      estudios_Superiores  pred  \n",
       "650                     0     1  \n",
       "2361                    0     1  \n",
       "171                     0     0  \n",
       "1403                    0     0  \n",
       "1235                    0     1  \n",
       "581                     0     0  \n",
       "1211                    0     0  \n",
       "1217                    0     0  \n",
       "46                      0     1  \n",
       "1367                    0     1  "
      ]
     },
     "execution_count": 43,
     "metadata": {},
     "output_type": "execute_result"
    }
   ],
   "source": [
    "df['pred'] = predicciones\n",
    "df.sample(10)"
   ]
  },
  {
   "cell_type": "code",
   "execution_count": 44,
   "id": "ebba83e1-8eb9-4872-88c2-98d764ffdac9",
   "metadata": {},
   "outputs": [
    {
     "data": {
      "text/plain": [
       "0        True\n",
       "1       False\n",
       "2        True\n",
       "3       False\n",
       "4        True\n",
       "        ...  \n",
       "2450    False\n",
       "2451     True\n",
       "2452     True\n",
       "2453     True\n",
       "2454     True\n",
       "Length: 2455, dtype: bool"
      ]
     },
     "execution_count": 44,
     "metadata": {},
     "output_type": "execute_result"
    }
   ],
   "source": [
    "df['pred'] == df['uso_internet']"
   ]
  },
  {
   "cell_type": "code",
   "execution_count": 45,
   "id": "df070171-c519-4719-aed6-22adf7f6d326",
   "metadata": {},
   "outputs": [
    {
     "data": {
      "text/plain": [
       "1975"
      ]
     },
     "execution_count": 45,
     "metadata": {},
     "output_type": "execute_result"
    }
   ],
   "source": [
    "(df['pred'] == df['uso_internet']).sum()"
   ]
  },
  {
   "cell_type": "code",
   "execution_count": 46,
   "id": "ba012360-0f1f-4158-8006-470c36a36edc",
   "metadata": {},
   "outputs": [
    {
     "data": {
      "text/plain": [
       "0.8044806517311609"
      ]
     },
     "execution_count": 46,
     "metadata": {},
     "output_type": "execute_result"
    }
   ],
   "source": [
    "(df['pred'] == df['uso_internet']).sum()/2455"
   ]
  },
  {
   "cell_type": "code",
   "execution_count": 47,
   "id": "e824cebf-b4d6-45f1-9481-961696f7c6b4",
   "metadata": {},
   "outputs": [
    {
     "data": {
      "text/plain": [
       "0.8044806517311609"
      ]
     },
     "execution_count": 47,
     "metadata": {},
     "output_type": "execute_result"
    }
   ],
   "source": [
    "model.score(X=explicativas, y=objetivo)"
   ]
  },
  {
   "cell_type": "markdown",
   "id": "83e302b2",
   "metadata": {},
   "source": [
    "# Matriz de Confusión"
   ]
  },
  {
   "cell_type": "markdown",
   "id": "a9179cb8",
   "metadata": {},
   "source": [
    "> 1. Usar la función `confusion_matrix()`, o `plot_confusion_matrix()`\n",
    "> 2. ¿Qué representa cada número?"
   ]
  },
  {
   "cell_type": "code",
   "execution_count": 48,
   "id": "c62a4451-4b6d-4e49-a80f-25652ac20a1c",
   "metadata": {},
   "outputs": [],
   "source": [
    "from sklearn.metrics import plot_confusion_matrix"
   ]
  },
  {
   "cell_type": "code",
   "execution_count": 49,
   "id": "76a6538b",
   "metadata": {},
   "outputs": [
    {
     "data": {
      "text/plain": [
       "<sklearn.metrics._plot.confusion_matrix.ConfusionMatrixDisplay at 0x11cae6370>"
      ]
     },
     "execution_count": 49,
     "metadata": {},
     "output_type": "execute_result"
    },
    {
     "data": {
      "image/png": "[encoded data removed]",
      "text/plain": [
       "<Figure size 432x288 with 2 Axes>"
      ]
     },
     "metadata": {
      "needs_background": "light"
     },
     "output_type": "display_data"
    }
   ],
   "source": [
    "plot_confusion_matrix(estimator=model, X=explicativas, y_true=objetivo)"
   ]
  },
  {
   "cell_type": "code",
   "execution_count": 50,
   "id": "7da87630-c2c1-4e5f-85be-e7d197e4adbf",
   "metadata": {},
   "outputs": [],
   "source": [
    "sensitividad = 961/(354+961)"
   ]
  },
  {
   "cell_type": "code",
   "execution_count": 51,
   "id": "f34b4b80-ba90-443c-9f88-df16dfb2ddb6",
   "metadata": {},
   "outputs": [
    {
     "data": {
      "text/plain": [
       "0.7307984790874524"
      ]
     },
     "execution_count": 51,
     "metadata": {},
     "output_type": "execute_result"
    }
   ],
   "source": [
    "sensitividad"
   ]
  },
  {
   "cell_type": "code",
   "execution_count": 52,
   "id": "605059aa-5fc0-47b4-b76a-c3d54afd9dda",
   "metadata": {},
   "outputs": [],
   "source": [
    "especificidad = 1014/(1014 + 126)"
   ]
  },
  {
   "cell_type": "code",
   "execution_count": 54,
   "id": "d20bd4bd-9f63-478d-88ef-06daf8e8c346",
   "metadata": {},
   "outputs": [
    {
     "data": {
      "text/plain": [
       "0.8894736842105263"
      ]
     },
     "execution_count": 54,
     "metadata": {},
     "output_type": "execute_result"
    }
   ],
   "source": [
    "especificidad"
   ]
  },
  {
   "cell_type": "code",
   "execution_count": 55,
   "id": "d9516e04-adfa-4542-85b2-4e3dea76eef8",
   "metadata": {},
   "outputs": [
    {
     "data": {
      "text/html": [
       "<div>\n",
       "<style scoped>\n",
       "    .dataframe tbody tr th:only-of-type {\n",
       "        vertical-align: middle;\n",
       "    }\n",
       "\n",
       "    .dataframe tbody tr th {\n",
       "        vertical-align: top;\n",
       "    }\n",
       "\n",
       "    .dataframe thead th {\n",
       "        text-align: right;\n",
       "    }\n",
       "</style>\n",
       "<table border=\"1\" class=\"dataframe\">\n",
       "  <thead>\n",
       "    <tr style=\"text-align: right;\">\n",
       "      <th></th>\n",
       "      <th></th>\n",
       "      <th>freq</th>\n",
       "    </tr>\n",
       "    <tr>\n",
       "      <th>pred</th>\n",
       "      <th>uso_internet</th>\n",
       "      <th></th>\n",
       "    </tr>\n",
       "  </thead>\n",
       "  <tbody>\n",
       "    <tr>\n",
       "      <th rowspan=\"2\" valign=\"top\">0</th>\n",
       "      <th>0</th>\n",
       "      <td>1014</td>\n",
       "    </tr>\n",
       "    <tr>\n",
       "      <th>1</th>\n",
       "      <td>354</td>\n",
       "    </tr>\n",
       "    <tr>\n",
       "      <th rowspan=\"2\" valign=\"top\">1</th>\n",
       "      <th>0</th>\n",
       "      <td>126</td>\n",
       "    </tr>\n",
       "    <tr>\n",
       "      <th>1</th>\n",
       "      <td>961</td>\n",
       "    </tr>\n",
       "  </tbody>\n",
       "</table>\n",
       "</div>"
      ],
      "text/plain": [
       "                   freq\n",
       "pred uso_internet      \n",
       "0    0             1014\n",
       "     1              354\n",
       "1    0              126\n",
       "     1              961"
      ]
     },
     "execution_count": 55,
     "metadata": {},
     "output_type": "execute_result"
    }
   ],
   "source": [
    "df.groupby(['pred', 'uso_internet']).size().to_frame(name='freq')"
   ]
  },
  {
   "cell_type": "markdown",
   "id": "5ca7d8e8",
   "metadata": {
    "tags": []
   },
   "source": [
    "# Otrás Métricas"
   ]
  },
  {
   "cell_type": "markdown",
   "id": "fcda805e",
   "metadata": {},
   "source": [
    "> Siempre tomaremos como `referencia la realidad (por filas)`. Imaginando que estamos prediciendo si una persona tiene COVID o no, nos preguntaremos:"
   ]
  },
  {
   "cell_type": "code",
   "execution_count": 56,
   "id": "5c0a4e4e-d173-4cb8-af64-15d4594776c1",
   "metadata": {},
   "outputs": [
    {
     "data": {
      "text/plain": [
       "<sklearn.metrics._plot.confusion_matrix.ConfusionMatrixDisplay at 0x11caf3130>"
      ]
     },
     "execution_count": 56,
     "metadata": {},
     "output_type": "execute_result"
    },
    {
     "data": {
      "image/png": "[encoded data removed]",
      "text/plain": [
       "<Figure size 432x288 with 2 Axes>"
      ]
     },
     "metadata": {
      "needs_background": "light"
     },
     "output_type": "display_data"
    }
   ],
   "source": [
    "plot_confusion_matrix(estimator=model, X=explicativas, y_true=objetivo)"
   ]
  },
  {
   "cell_type": "markdown",
   "id": "1e18033b",
   "metadata": {},
   "source": [
    "## Sensitividad"
   ]
  },
  {
   "cell_type": "markdown",
   "id": "1f4d1699",
   "metadata": {},
   "source": [
    "> - Dentro de las personas que, realmente, `tienen COVID (1)`, cuántas predice nuestro modelo como que tienen COVID (1)?"
   ]
  },
  {
   "cell_type": "code",
   "execution_count": 57,
   "id": "a3ac8f55-139a-4e28-a09d-c8d80a7ce50e",
   "metadata": {},
   "outputs": [],
   "source": [
    "sensitividad = 961/(354+961)"
   ]
  },
  {
   "cell_type": "code",
   "execution_count": 58,
   "id": "160a9545-7846-4f8c-aeeb-cb011eb8a385",
   "metadata": {},
   "outputs": [
    {
     "data": {
      "text/plain": [
       "0.7307984790874524"
      ]
     },
     "execution_count": 58,
     "metadata": {},
     "output_type": "execute_result"
    }
   ],
   "source": [
    "sensitividad"
   ]
  },
  {
   "cell_type": "markdown",
   "id": "e8db014f",
   "metadata": {},
   "source": [
    "## Especificidad"
   ]
  },
  {
   "cell_type": "markdown",
   "id": "64e02cfb",
   "metadata": {},
   "source": [
    "> - Dentro de las personas que, realmente, `NO tienen COVID (0)`, cuántas predice nuestro modelo como que NO tienen COVID (0)?"
   ]
  },
  {
   "cell_type": "code",
   "execution_count": 59,
   "id": "7a9341c6-c11e-4862-9f00-e4adb69857fb",
   "metadata": {},
   "outputs": [],
   "source": [
    "especificidad = 1014/(1014 + 126)"
   ]
  },
  {
   "cell_type": "code",
   "execution_count": 60,
   "id": "7ea2af96-a8ef-493a-b2c3-e877aae6922c",
   "metadata": {},
   "outputs": [
    {
     "data": {
      "text/plain": [
       "0.8894736842105263"
      ]
     },
     "execution_count": 60,
     "metadata": {},
     "output_type": "execute_result"
    }
   ],
   "source": [
    "especificidad"
   ]
  },
  {
   "cell_type": "markdown",
   "id": "208c6496",
   "metadata": {},
   "source": [
    "## Classification Report"
   ]
  },
  {
   "cell_type": "markdown",
   "id": "f43a06c9",
   "metadata": {},
   "source": [
    "> 1. Usaremos la función `classification_report()`\n",
    "> 2. Guardamos el objeto resultante en `reporte`\n",
    "> 3. Coinciden algunos de los números de la tabla, `print(reporte)`, con los que hemos calculado anteriormente?"
   ]
  },
  {
   "cell_type": "code",
   "execution_count": 61,
   "id": "ab7844f1-19d4-4326-b94e-f386c745715c",
   "metadata": {},
   "outputs": [],
   "source": [
    "from sklearn.metrics import classification_report"
   ]
  },
  {
   "cell_type": "code",
   "execution_count": 62,
   "id": "de7069fb-e186-4f27-82d8-93042d44cd40",
   "metadata": {},
   "outputs": [],
   "source": [
    "reporte = classification_report(y_true = objetivo, y_pred=df.pred)"
   ]
  },
  {
   "cell_type": "code",
   "execution_count": 63,
   "id": "c140fb08",
   "metadata": {},
   "outputs": [
    {
     "name": "stdout",
     "output_type": "stream",
     "text": [
      "              precision    recall  f1-score   support\n",
      "\n",
      "           0       0.74      0.89      0.81      1140\n",
      "           1       0.88      0.73      0.80      1315\n",
      "\n",
      "    accuracy                           0.80      2455\n",
      "   macro avg       0.81      0.81      0.80      2455\n",
      "weighted avg       0.82      0.80      0.80      2455\n",
      "\n"
     ]
    }
   ],
   "source": [
    "print(reporte)"
   ]
  },
  {
   "cell_type": "markdown",
   "id": "8a691707",
   "metadata": {},
   "source": [
    "## Curva ROC"
   ]
  },
  {
   "cell_type": "markdown",
   "id": "78c457ba",
   "metadata": {},
   "source": [
    "> - Usaremos la función `plot_roc_curve()`\n",
    ">\n",
    "> _PD: Durante la corrección te explicare en detalle el funcionamiento la Curva ROC. Mientras tanto puedes hacer uso del vídeo que usaré:_\n",
    ">\n",
    "> - https://www.youtube.com/watch?v=7VeUPuFGJHk"
   ]
  },
  {
   "cell_type": "code",
   "execution_count": null,
   "id": "198c791f",
   "metadata": {},
   "outputs": [],
   "source": []
  },
  {
   "cell_type": "markdown",
   "id": "de584cff-79aa-40d7-a76d-5c9ba562932c",
   "metadata": {
    "tags": []
   },
   "source": [
    "# Otrás Métricas"
   ]
  },
  {
   "cell_type": "markdown",
   "id": "eb954176-b28d-42c3-967c-0d88a8f0b686",
   "metadata": {},
   "source": [
    "> Siempre tomaremos como `referencia la realidad (por filas)`. Imaginando que estamos prediciendo si una persona tiene COVID o no, nos preguntaremos:"
   ]
  },
  {
   "cell_type": "code",
   "execution_count": 64,
   "id": "0c501270-d153-4b22-b203-985a42dcacbc",
   "metadata": {},
   "outputs": [],
   "source": [
    "from sklearn.linear_model import LogisticRegression"
   ]
  },
  {
   "cell_type": "code",
   "execution_count": 65,
   "id": "d88d27d3-a1cb-4a04-9cd4-cd707659178f",
   "metadata": {},
   "outputs": [],
   "source": [
    "model_lr = LogisticRegression()"
   ]
  },
  {
   "cell_type": "code",
   "execution_count": 66,
   "id": "fa2db669-2b8b-4731-a87b-f3507db2ec8f",
   "metadata": {},
   "outputs": [
    {
     "name": "stderr",
     "output_type": "stream",
     "text": [
      "/Users/monicagonzalezroyo/anaconda3/lib/python3.8/site-packages/sklearn/linear_model/_logistic.py:763: ConvergenceWarning: lbfgs failed to converge (status=1):\n",
      "STOP: TOTAL NO. of ITERATIONS REACHED LIMIT.\n",
      "\n",
      "Increase the number of iterations (max_iter) or scale the data as shown in:\n",
      "    https://scikit-learn.org/stable/modules/preprocessing.html\n",
      "Please also refer to the documentation for alternative solver options:\n",
      "    https://scikit-learn.org/stable/modules/linear_model.html#logistic-regression\n",
      "  n_iter_i = _check_optimize_result(\n"
     ]
    },
    {
     "data": {
      "text/plain": [
       "LogisticRegression()"
      ]
     },
     "execution_count": 66,
     "metadata": {},
     "output_type": "execute_result"
    }
   ],
   "source": [
    "model_lr.fit(X=explicativas, y=objetivo)"
   ]
  },
  {
   "cell_type": "code",
   "execution_count": 67,
   "id": "159d1a3d-1bb1-4a35-8312-461b971a02f6",
   "metadata": {},
   "outputs": [
    {
     "data": {
      "text/plain": [
       "<sklearn.metrics._plot.confusion_matrix.ConfusionMatrixDisplay at 0x11cfd70d0>"
      ]
     },
     "execution_count": 67,
     "metadata": {},
     "output_type": "execute_result"
    },
    {
     "data": {
      "image/png": "[encoded data removed]",
      "text/plain": [
       "<Figure size 432x288 with 2 Axes>"
      ]
     },
     "metadata": {
      "needs_background": "light"
     },
     "output_type": "display_data"
    }
   ],
   "source": [
    "plot_confusion_matrix(estimator=model, X=explicativas, y_true=objetivo)"
   ]
  },
  {
   "cell_type": "markdown",
   "id": "a0d1ec24-1579-4669-ba7e-b00344ebeb25",
   "metadata": {},
   "source": [
    "## Classification Report"
   ]
  },
  {
   "cell_type": "markdown",
   "id": "757cef48-1381-4dc9-ad34-40c500c096ec",
   "metadata": {},
   "source": [
    "> 1. Usaremos la función `classification_report()`\n",
    "> 2. Guardamos el objeto resultante en `reporte`\n",
    "> 3. Coinciden algunos de los números de la tabla, `print(reporte)`, con los que hemos calculado anteriormente?"
   ]
  },
  {
   "cell_type": "code",
   "execution_count": 68,
   "id": "9ac6aef8-a600-4255-831b-be2b93fd8282",
   "metadata": {},
   "outputs": [],
   "source": [
    "from sklearn.metrics import classification_report"
   ]
  },
  {
   "cell_type": "code",
   "execution_count": 69,
   "id": "3ad3f16e-186b-402d-b9b8-ee105bcf54fb",
   "metadata": {},
   "outputs": [],
   "source": [
    "reporte = classification_report(y_true = objetivo, y_pred=df.pred)"
   ]
  },
  {
   "cell_type": "code",
   "execution_count": 70,
   "id": "9ac5c8f0-ef89-4a2f-af1f-31b3a9b7f158",
   "metadata": {},
   "outputs": [
    {
     "name": "stdout",
     "output_type": "stream",
     "text": [
      "              precision    recall  f1-score   support\n",
      "\n",
      "           0       0.74      0.89      0.81      1140\n",
      "           1       0.88      0.73      0.80      1315\n",
      "\n",
      "    accuracy                           0.80      2455\n",
      "   macro avg       0.81      0.81      0.80      2455\n",
      "weighted avg       0.82      0.80      0.80      2455\n",
      "\n"
     ]
    }
   ],
   "source": [
    "print(reporte)"
   ]
  },
  {
   "cell_type": "code",
   "execution_count": 71,
   "id": "5335d8cc-177a-4f4d-aeb4-43a36722343e",
   "metadata": {},
   "outputs": [],
   "source": [
    "reporte_lr = classification_report(y_true = objetivo, y_pred=model_lr.predict(explicativas))"
   ]
  },
  {
   "cell_type": "code",
   "execution_count": 72,
   "id": "6c15228a-87ba-41ad-ae8e-1eacd7296c00",
   "metadata": {},
   "outputs": [
    {
     "name": "stdout",
     "output_type": "stream",
     "text": [
      "              precision    recall  f1-score   support\n",
      "\n",
      "           0       0.84      0.79      0.82      1140\n",
      "           1       0.83      0.87      0.85      1315\n",
      "\n",
      "    accuracy                           0.83      2455\n",
      "   macro avg       0.83      0.83      0.83      2455\n",
      "weighted avg       0.83      0.83      0.83      2455\n",
      "\n"
     ]
    }
   ],
   "source": [
    "print(reporte_lr)"
   ]
  },
  {
   "cell_type": "markdown",
   "id": "ab7c9aed-4fc8-4fec-9787-0a876dc3b3f9",
   "metadata": {},
   "source": [
    "## Curva ROC"
   ]
  },
  {
   "cell_type": "markdown",
   "id": "d1d3292b-93cf-44d7-8944-59fd8b8638ee",
   "metadata": {},
   "source": [
    "> - Usaremos la función `plot_roc_curve()`\n",
    ">\n",
    "> _PD: Durante la corrección te explicare en detalle el funcionamiento la Curva ROC. Mientras tanto puedes hacer uso del vídeo que usaré:_\n",
    ">\n",
    "> - https://www.youtube.com/watch?v=7VeUPuFGJHk"
   ]
  },
  {
   "cell_type": "code",
   "execution_count": 73,
   "id": "a89517ed-de33-4e9b-9a93-b35b2849b48e",
   "metadata": {},
   "outputs": [],
   "source": [
    "from sklearn.metrics import plot_roc_curve"
   ]
  },
  {
   "cell_type": "code",
   "execution_count": 74,
   "id": "c0a51ee2-d39c-49e7-9931-5928665a744e",
   "metadata": {},
   "outputs": [
    {
     "data": {
      "text/plain": [
       "<sklearn.metrics._plot.roc_curve.RocCurveDisplay at 0x11cf6c610>"
      ]
     },
     "execution_count": 74,
     "metadata": {},
     "output_type": "execute_result"
    },
    {
     "data": {
      "image/png": "[encoded data removed]",
      "text/plain": [
       "<Figure size 432x288 with 1 Axes>"
      ]
     },
     "metadata": {
      "needs_background": "light"
     },
     "output_type": "display_data"
    }
   ],
   "source": [
    "plot_roc_curve(estimator=model, X=explicativas, y=objetivo)"
   ]
  },
  {
   "cell_type": "code",
   "execution_count": 75,
   "id": "c0910f85-c5d1-4a8b-8836-35f95dca4661",
   "metadata": {},
   "outputs": [
    {
     "data": {
      "text/plain": [
       "<sklearn.metrics._plot.roc_curve.RocCurveDisplay at 0x104440790>"
      ]
     },
     "execution_count": 75,
     "metadata": {},
     "output_type": "execute_result"
    },
    {
     "data": {
      "image/png": "[encoded data removed]",
      "text/plain": [
       "<Figure size 432x288 with 1 Axes>"
      ]
     },
     "metadata": {
      "needs_background": "light"
     },
     "output_type": "display_data"
    }
   ],
   "source": [
    "plot_roc_curve(estimator=model_lr, X=explicativas, y=objetivo)"
   ]
  },
  {
   "cell_type": "markdown",
   "id": "a71d3dc7",
   "metadata": {},
   "source": [
    "# Objetivos Alcanzados"
   ]
  },
  {
   "cell_type": "markdown",
   "id": "464e9aa4",
   "metadata": {},
   "source": [
    "_Haz doble click sobre esta celda y pon una `X` dentro de las casillas [X] si crees que has superado los objetivos:_\n",
    "\n",
    "- [X] Entender cómo se usan los **Algoritmos de Árboles**.\n",
    "- [X] Entender otra forma de **comparar los datos reales con las predicciones** del modelo.\n",
    "- [X] No todas las visualizaciones de modelos son iguales. En este caso también podemos **visualizar un árbol** para interpretar el modelo.\n",
    "- [X] Distinguir el papel de la **probabilidad** a la hora de optimizar este tipo de modelos.\n",
    "- [X] Saber determinar **por qué una variable es importante** en el modelo. Es decir, por qué aporta diferencias significativas.\n",
    "- [X] Entender la necesidad de **normalizar** los datos."
   ]
  },
  {
   "cell_type": "code",
   "execution_count": null,
   "id": "b1c3cf46-d0f2-437e-b225-606dbbab6709",
   "metadata": {},
   "outputs": [],
   "source": [
    "from sklearn.tree import DecisionTreeClassifier\n",
    "from sklearn.tree import DecisionTreeRegressor"
   ]
  },
  {
   "cell_type": "markdown",
   "id": "ecd877ff-5463-4b2d-9d99-c0b66e929619",
   "metadata": {},
   "source": [
    "# Tipos de Modelos\n",
    "- clasificacion: predecir variable categorica\n",
    "    - supervisado: existe la variable objetivo\n",
    "    - no supervisado: no existe y la tengo que adivinar (analisis de cluster)\n",
    "- regresion: predecir variable numerica"
   ]
  }
 ],
 "metadata": {
  "authors": [
   {
    "name": "Jesús López @sotastica"
   }
  ],
  "kernelspec": {
   "display_name": "Python 3 (ipykernel)",
   "language": "python",
   "name": "python3"
  },
  "language_info": {
   "codemirror_mode": {
    "name": "ipython",
    "version": 3
   },
   "file_extension": ".py",
   "mimetype": "text/x-python",
   "name": "python",
   "nbconvert_exporter": "python",
   "pygments_lexer": "ipython3",
   "version": "3.9.7"
  }
 },
 "nbformat": 4,
 "nbformat_minor": 5
}
