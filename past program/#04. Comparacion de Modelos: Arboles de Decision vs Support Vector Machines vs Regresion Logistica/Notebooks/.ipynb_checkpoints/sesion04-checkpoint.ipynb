{
 "cells": [
  {
   "cell_type": "markdown",
   "id": "883f9cee",
   "metadata": {},
   "source": [
    "<font size=\"+5\">#04. Comparacion de Modelos: Arboles de Decision vs Support Vector Machines vs Regresion Logistica</font>"
   ]
  },
  {
   "cell_type": "markdown",
   "id": "0e7de385",
   "metadata": {},
   "source": [
    "<ul>\n",
    "    <li>Resolver dudas → Pregunta en <img src=\"https://discord.com/assets/f9bb9c4af2b9c32a2c5ee0014661546d.png\" style=\"height: 1em; vertical-align: middle;\"> <a href=\"https://discord.gg/cmB3KGsqMy\">Discord</a></li>\n",
    "    <li>Tutoriales → <img src=\"https://openmoji.org/php/download_asset.php?type=emoji&emoji_hexcode=E044&emoji_variant=color\" style=\"height: 1em; vertical-align: middle;\"> <a href=\"https://www.youtube.com/channel/UCovCte2I3loteQE_kRsfQcw\">YouTube</a></li>\n",
    "    <li>Reservar Clases → <span style=\"color: orange\">@</span> <a href=\"https://sotastica.com/reservar\">sotastica</a></li>\n",
    "</ul>"
   ]
  },
  {
   "cell_type": "markdown",
   "id": "478d8f46",
   "metadata": {},
   "source": [
    "# Cargar Datos"
   ]
  },
  {
   "cell_type": "markdown",
   "id": "abeb7475",
   "metadata": {},
   "source": [
    "> Usaremos la base de datos del **CIS** sobre una muestra de 2455, cuyas características son de aspecto sociológico. El `objetivo es determinar si una persona usa internet o no`. Ejecutaríamos los siguientes comandos para cargar los datos en nuestro `entorno`.\n",
    "\n"
   ]
  },
  {
   "cell_type": "code",
   "execution_count": null,
   "id": "864315d9",
   "metadata": {},
   "outputs": [],
   "source": [
    "\n",
    "df = pd.read_csv('https://raw.githubusercontent.com/jesusloplar/data/main/uso_internet_espana.csv')\n",
    "df.head()\n"
   ]
  },
  {
   "cell_type": "code",
   "execution_count": null,
   "id": "7ec0aab1",
   "metadata": {},
   "outputs": [],
   "source": []
  },
  {
   "cell_type": "markdown",
   "id": "e1f80f25",
   "metadata": {},
   "source": [
    "# Seleccionar Variables para el Modelo"
   ]
  },
  {
   "cell_type": "markdown",
   "id": "3d68fd8c",
   "metadata": {},
   "source": [
    "> Esta temática de la Estadística se relaciona normalmente con el **Análisis Exploratorio de los Datos _(EDA)_**. El destino final es encontrar las variables que mejor expliquen la objetivo (la que queremos calcular). Sin embargo, como ya hemos visto anteriormente, existen modelos que pueden llegar a descartar las variables que no son relevantes de forma interna (en el algoritmo).\n",
    ">\n",
    "> El objetivo primordial de este programa es comprender el funcionamiento de los modelos matemáticos usados en Machine Learning. Por tanto, no vamos a entrar mucho en detalle sobre cómo preseleccionar las variables, sino que **simplemente vamos a seleccionar las variables en el modelo** según sean:\n",
    ">\n",
    "> 1.  Explicativas/Features/Input `X`\n",
    "> 2.  Objetivo/Class/Target `y`"
   ]
  },
  {
   "cell_type": "code",
   "execution_count": null,
   "id": "8f046489",
   "metadata": {},
   "outputs": [],
   "source": []
  },
  {
   "cell_type": "markdown",
   "id": "0be85068",
   "metadata": {},
   "source": [
    "# Modelo de Árboles de Decisión en Python"
   ]
  },
  {
   "cell_type": "markdown",
   "id": "f879ab38",
   "metadata": {},
   "source": [
    "> Vamos a aplicar la lógica natural que hemos seguido durante todo el programa. Por tanto, los pasos a seguir son:\n",
    "\n"
   ]
  },
  {
   "cell_type": "code",
   "execution_count": null,
   "id": "fc31ffb2",
   "metadata": {},
   "outputs": [],
   "source": [
    "\n",
    "model.fit() # calcular los mejores números en la ecuación matemática\n",
    "model.score() # calcular cómo de bueno es el modelo: Realidad vs Predicción\n"
   ]
  },
  {
   "cell_type": "code",
   "execution_count": null,
   "id": "64878708",
   "metadata": {},
   "outputs": [],
   "source": []
  },
  {
   "cell_type": "markdown",
   "id": "99332ab0",
   "metadata": {},
   "source": [
    "# Crear Funciones para Automatizar Procesos"
   ]
  },
  {
   "cell_type": "markdown",
   "id": "b3c7b27a",
   "metadata": {},
   "source": [
    "> El objetivo de este capítulo es comprender cómo se comparan los diferentes modelos de ML. En este punto concreto del programa, deberíamos saber que los modelos siempre funcionan igual:\n",
    "\n"
   ]
  },
  {
   "cell_type": "code",
   "execution_count": null,
   "id": "f4c8d32e",
   "metadata": {},
   "outputs": [],
   "source": [
    "\n",
    "model.fit() # calcular los mejores números en la ecuación matemática\n",
    "model.score() # calcular cómo de bueno es el modelo: Realidad vs Predicción\n",
    "```\n",
    "\n",
    "> El modelo a usar es lo único que cambiaría. Por tanto, nos preguntamos lo siguiente: ¿por qué no **crear una función** que te calcule las predicciones directamente al **pasarle un modelo**, como `parametro`? De esta forma podríamos ejecutar las siguientes líneas y entrenar todos los modelos con la misma función.\n",
    "\n",
    "```python\n",
    "dt = DecisionTreeClassifier()\n",
    "calcular_precision(model=dt)\n",
    "\n",
    "svm = SVC()\n",
    "calcular_precision(model=svm)\n",
    "\n",
    "lr = LogisticRegression()\n",
    "calcular_precision(model = lr)\n"
   ]
  },
  {
   "cell_type": "code",
   "execution_count": null,
   "id": "2f281205",
   "metadata": {},
   "outputs": [],
   "source": []
  },
  {
   "cell_type": "markdown",
   "id": "379e6c36",
   "metadata": {},
   "source": [
    "## Modelo de Árboles de Decisión"
   ]
  },
  {
   "cell_type": "markdown",
   "id": "a01c6f9a",
   "metadata": {},
   "source": [
    "- Aplicamos la función que hemos creado anteriormente en el objeto `DecisionTreeClassifier()`"
   ]
  },
  {
   "cell_type": "code",
   "execution_count": null,
   "id": "e23fc4fe",
   "metadata": {},
   "outputs": [],
   "source": []
  },
  {
   "cell_type": "markdown",
   "id": "3771f19c",
   "metadata": {},
   "source": [
    "## Modelo de Support Vector Machine"
   ]
  },
  {
   "cell_type": "markdown",
   "id": "452b6c8a",
   "metadata": {},
   "source": [
    "- Aplicamos la función que hemos creado anteriormente en el objeto `SVC()`"
   ]
  },
  {
   "cell_type": "code",
   "execution_count": null,
   "id": "f3089643",
   "metadata": {},
   "outputs": [],
   "source": []
  },
  {
   "cell_type": "markdown",
   "id": "81d14ed5",
   "metadata": {},
   "source": [
    "## Modelo de Regresión Logística"
   ]
  },
  {
   "cell_type": "markdown",
   "id": "b60443ff",
   "metadata": {},
   "source": [
    "- Aplicamos la función que hemos creado anteriormente en el objeto `LogisticRegression()`"
   ]
  },
  {
   "cell_type": "code",
   "execution_count": null,
   "id": "1b1f4db7",
   "metadata": {},
   "outputs": [],
   "source": []
  },
  {
   "cell_type": "markdown",
   "id": "0fe2dbcb",
   "metadata": {},
   "source": [
    "# ¿Cuál es el Mejor Modelo?"
   ]
  },
  {
   "cell_type": "markdown",
   "id": "6016d2a4",
   "metadata": {},
   "source": [
    "> Tomamos la decisión con el modelo que haya tenido mayor precisión porque nos indicaría que ha acertado más veces la realidad."
   ]
  },
  {
   "cell_type": "code",
   "execution_count": null,
   "id": "6b8e53cc",
   "metadata": {},
   "outputs": [],
   "source": []
  },
  {
   "cell_type": "markdown",
   "id": "52e79588",
   "metadata": {},
   "source": [
    "## Analogía del Examen de Selectividad"
   ]
  },
  {
   "cell_type": "markdown",
   "id": "21076959",
   "metadata": {},
   "source": [
    "> Basándonos en el resultado anterior, elegiríamos el modelo `DecisionTreeClassifier()`. No obstante, los modelos no se están comparando correctamente porque el modelo conocía los datos que trata de predecir. Déjanos explicarte este fenómeno con la siguiente analogía:\n",
    ">\n",
    "> 1. Tenemos el examen de selectividad de matemáticas el próximo sábado.\n",
    "> 2. Disponemos de 100 preguntas con sus 100 soluciones de años anteriores para estudiar de cara a la prueba final.\n",
    "> 3. Hoy es lunes y debemos calibrar cómo de preparados estamos de cara al sábado para ver si estudiamos más o menos en los próximos días.\n",
    "> 4. Estudiamos las 100 preguntas con las soluciones al lado.\n",
    "> 5. Hacemos una prueba sin mirar a las soluciones y vemos que hemos acertado 90 preguntas. Por tanto, pensamos que sacaremos un 90 en el examen.\n",
    "> 6. Llega el examen y las preguntas no son las mismas con las que hemos estudiado.\n",
    "> 7. Sacamos 40 preguntas acertadas de 100.\n",
    "> 8. ¿Qué nos ha pasado?\n",
    "> 9. Hemos sobreentrenado las preguntas que conocíamos. Sin embargo, nos hubiera gustado ver cómo de preparados estábamos con preguntas con las que no hemos entrenado.\n",
    "> 10. De la misma manera, nos gustaría evaluar el modelo con datos que no ha usado durante el entrenamiento.\n",
    "> 11. **La solución**: vamos a separar los datos en Train & Test con la función `train_test_split()`."
   ]
  },
  {
   "cell_type": "code",
   "execution_count": null,
   "id": "01dfc31c",
   "metadata": {},
   "outputs": [],
   "source": []
  },
  {
   "cell_type": "markdown",
   "id": "a3dfdfe2",
   "metadata": {},
   "source": [
    "# Separar Datos en Train & Test"
   ]
  },
  {
   "cell_type": "markdown",
   "id": "aaaf979a",
   "metadata": {},
   "source": [
    "> **1. Entrenar Modelo con Train**\n",
    ">\n",
    "> Al separar los datos en `Entreno` y `Testeo` nos encontraríamos en el siguiente supuesto según la analogía del examen de selectividad:\n",
    ">\n",
    "> Estudiamos/Entrenamos `.fit()` para el examen con 70 preguntas `X_train` y respectivas 70 soluciones `y_train`.\n",
    ">\n",
    "> - `model.fit(X_train, y_train)`\n",
    ">\n",
    "> **2. Realizar Predicciones en Test**\n",
    ">\n",
    "> Hacemos un examen `.predict()` de mentira **sin ver las soluciones `y_test`**. Tan solo con lo que sabemos de antes y las **30 nuevas preguntas que no vimos `X_test`** durante el estudio/entrenamiento.\n",
    ">\n",
    "> - `y_pred = model.predict(X_test)`\n",
    ">\n",
    "> **3. Comparar Predicciones vs Realidad de Test**\n",
    ">\n",
    "> Por último veríamos cómo de preparados estamos para el examen de selectividad al comprobar si las respuestas que hemos desarrollado `y_pred` coinciden con las soluciones reales `y_test`.\n",
    ">\n",
    "> - `y_pred == y_test`?"
   ]
  },
  {
   "cell_type": "markdown",
   "id": "c7ac0468",
   "metadata": {},
   "source": [
    "# Optimizar Modelos y Comparar Otra Vez"
   ]
  },
  {
   "cell_type": "markdown",
   "id": "728e42e7",
   "metadata": {},
   "source": [
    "> Ahora deberíamos entrenar un modelo aplicando la lógica que acabamos de exponer: ajustamos la ecuación matemática con los datos de entrenamiento y comprobamos **cómo de bueno es el modelo en los datos de testeo**."
   ]
  },
  {
   "cell_type": "code",
   "execution_count": null,
   "id": "aa97b1ad",
   "metadata": {},
   "outputs": [],
   "source": []
  },
  {
   "cell_type": "markdown",
   "id": "e070bead",
   "metadata": {},
   "source": [
    "## Modelo de Árboles de Decisión con Train Test Split"
   ]
  },
  {
   "cell_type": "markdown",
   "id": "4850e16f",
   "metadata": {},
   "source": [
    "- Deberíamos obtener la precisión del `DecisionTreeClassifier()` con los datos de `Testeo`."
   ]
  },
  {
   "cell_type": "code",
   "execution_count": null,
   "id": "01e02716",
   "metadata": {},
   "outputs": [],
   "source": []
  },
  {
   "cell_type": "markdown",
   "id": "34407d95",
   "metadata": {},
   "source": [
    "## Modelo de Support Vector Machine con Train Test Split"
   ]
  },
  {
   "cell_type": "markdown",
   "id": "fda8c8b2",
   "metadata": {},
   "source": [
    "- Deberíamos obtener la precisión del `SVC()` con los datos de `Testeo`."
   ]
  },
  {
   "cell_type": "code",
   "execution_count": null,
   "id": "585591c9",
   "metadata": {},
   "outputs": [],
   "source": []
  },
  {
   "cell_type": "markdown",
   "id": "bea0d83f",
   "metadata": {},
   "source": [
    "## Modelo de Regresión Logística con Train Test Split"
   ]
  },
  {
   "cell_type": "markdown",
   "id": "7657806f",
   "metadata": {},
   "source": [
    "- Deberíamos obtener la precisión del `LogisticRegression()` con los datos de `Testeo`."
   ]
  },
  {
   "cell_type": "code",
   "execution_count": null,
   "id": "c6c27373",
   "metadata": {},
   "outputs": [],
   "source": []
  },
  {
   "cell_type": "markdown",
   "id": "5c07fbc1",
   "metadata": {},
   "source": [
    "# ¿Cuál es el Mejor Modelo con Train Test Split?"
   ]
  },
  {
   "cell_type": "markdown",
   "id": "6097a238",
   "metadata": {},
   "source": [
    "> Tomamos la decisión con el modelo que haya tenido mayor precisión porque nos indicaría que ha acertado más veces la realidad en los datos de `Testeo`."
   ]
  },
  {
   "cell_type": "code",
   "execution_count": null,
   "id": "93f0d5a8",
   "metadata": {},
   "outputs": [],
   "source": []
  },
  {
   "cell_type": "markdown",
   "id": "00367b6f",
   "metadata": {},
   "source": [
    "# La Importancia del Remuestreo"
   ]
  },
  {
   "cell_type": "markdown",
   "id": "cd157926",
   "metadata": {},
   "source": [
    "> Las métricas nos dicen ahora que el mejor modelo es otro...\n",
    ">\n",
    "> Qué hubiera pasado si, por cada centésima de fallo `0.01` en datos que no conoce, perdemos 1 Millón de Euros. No sabría deciros en vuestro caso, pero con lo que da la diferencia yo me retiro...\n",
    ">\n",
    "> Los modelos pueden ser muy buenos en datos que conocen de antemano durante el entrenamiento. Sin embargo, quisiéramos emplear el modelo en datos que no conoció durante el entrenamiento (predecir si un cliente futuro afrontará un préstamo).\n",
    ">\n",
    "> El hecho de haber calibrado nuestro modelo, de ver lo bueno que es nuestro modelo en datos que no conoció **(Test)** durante el entrenamiento **(Train)** hace que nos fiemos mejor de su rendimiento frente a datos que no conoce.\n",
    ">\n",
    "> Por tanto, la técnica `train test split` debemos usarla siempre que queramos calibrar cómo de bueno es nuestro modelo."
   ]
  },
  {
   "cell_type": "code",
   "execution_count": null,
   "id": "2cd36471",
   "metadata": {},
   "outputs": [],
   "source": []
  }
 ],
 "metadata": {
  "authors": [
   {
    "name": "Jesús López @sotastica"
   }
  ]
 },
 "nbformat": 4,
 "nbformat_minor": 5
}
