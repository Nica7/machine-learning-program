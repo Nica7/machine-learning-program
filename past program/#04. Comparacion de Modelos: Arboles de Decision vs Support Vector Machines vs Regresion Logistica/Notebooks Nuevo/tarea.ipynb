{
 "cells": [
  {
   "cell_type": "markdown",
   "id": "861667f2",
   "metadata": {},
   "source": [
    "<font size=\"+5\">#04. Comparacion de Modelos: Arboles de Decision vs Support Vector Machines vs Regresion Logistica</font>"
   ]
  },
  {
   "cell_type": "markdown",
   "id": "26cdff18",
   "metadata": {},
   "source": [
    "<ul>\n",
    "    <li>Resolver dudas → Pregunta en <img src=\"https://discord.com/assets/f9bb9c4af2b9c32a2c5ee0014661546d.png\" style=\"height: 1em; vertical-align: middle;\"> <a href=\"https://discord.gg/cmB3KGsqMy\">Discord</a></li>\n",
    "    <li>Tutoriales → <img src=\"https://openmoji.org/php/download_asset.php?type=emoji&emoji_hexcode=E044&emoji_variant=color\" style=\"height: 1em; vertical-align: middle;\"> <a href=\"https://www.youtube.com/channel/UCovCte2I3loteQE_kRsfQcw\">YouTube</a></li>\n",
    "    <li>Reservar Clases → <span style=\"color: orange\">@</span> <a href=\"https://sotastica.com/reservar\">sotastica</a></li>\n",
    "</ul>"
   ]
  },
  {
   "cell_type": "markdown",
   "id": "8e6de6d7",
   "metadata": {},
   "source": [
    "# Cargar Datos"
   ]
  },
  {
   "cell_type": "markdown",
   "id": "5919ada0",
   "metadata": {},
   "source": [
    "> Copiamos y pegamos en una celda las siguientes líneas de código para cargar una tabla de datos que contiene información de personas que han solicitado tarjetas de crédito. La variable objetivo se sitúa en la columna `target` y nos cuenta si una persona ha sido apta para la tarjeta o no...\n",
    "\n",
    "```python\n",
    "import pandas as pd\n",
    "\n",
    "df = pd.read_csv('https://archive.ics.uci.edu/ml/machine-learning-databases/credit-screening/crx.data',\n",
    "                 na_values='?', header=None)\n",
    "\n",
    "df.rename(columns={15: 'target'}, inplace=True)\n",
    "df.head()\n",
    "```"
   ]
  },
  {
   "cell_type": "code",
   "execution_count": 1,
   "id": "5a37f37f",
   "metadata": {},
   "outputs": [
    {
     "data": {
      "text/html": [
       "<div>\n",
       "<style scoped>\n",
       "    .dataframe tbody tr th:only-of-type {\n",
       "        vertical-align: middle;\n",
       "    }\n",
       "\n",
       "    .dataframe tbody tr th {\n",
       "        vertical-align: top;\n",
       "    }\n",
       "\n",
       "    .dataframe thead th {\n",
       "        text-align: right;\n",
       "    }\n",
       "</style>\n",
       "<table border=\"1\" class=\"dataframe\">\n",
       "  <thead>\n",
       "    <tr style=\"text-align: right;\">\n",
       "      <th></th>\n",
       "      <th>0</th>\n",
       "      <th>1</th>\n",
       "      <th>2</th>\n",
       "      <th>3</th>\n",
       "      <th>4</th>\n",
       "      <th>5</th>\n",
       "      <th>6</th>\n",
       "      <th>7</th>\n",
       "      <th>8</th>\n",
       "      <th>9</th>\n",
       "      <th>10</th>\n",
       "      <th>11</th>\n",
       "      <th>12</th>\n",
       "      <th>13</th>\n",
       "      <th>14</th>\n",
       "      <th>target</th>\n",
       "    </tr>\n",
       "  </thead>\n",
       "  <tbody>\n",
       "    <tr>\n",
       "      <th>0</th>\n",
       "      <td>b</td>\n",
       "      <td>30.83</td>\n",
       "      <td>0.000</td>\n",
       "      <td>u</td>\n",
       "      <td>g</td>\n",
       "      <td>w</td>\n",
       "      <td>v</td>\n",
       "      <td>1.25</td>\n",
       "      <td>t</td>\n",
       "      <td>t</td>\n",
       "      <td>1</td>\n",
       "      <td>f</td>\n",
       "      <td>g</td>\n",
       "      <td>202.0</td>\n",
       "      <td>0</td>\n",
       "      <td>+</td>\n",
       "    </tr>\n",
       "    <tr>\n",
       "      <th>1</th>\n",
       "      <td>a</td>\n",
       "      <td>58.67</td>\n",
       "      <td>4.460</td>\n",
       "      <td>u</td>\n",
       "      <td>g</td>\n",
       "      <td>q</td>\n",
       "      <td>h</td>\n",
       "      <td>3.04</td>\n",
       "      <td>t</td>\n",
       "      <td>t</td>\n",
       "      <td>6</td>\n",
       "      <td>f</td>\n",
       "      <td>g</td>\n",
       "      <td>43.0</td>\n",
       "      <td>560</td>\n",
       "      <td>+</td>\n",
       "    </tr>\n",
       "    <tr>\n",
       "      <th>2</th>\n",
       "      <td>a</td>\n",
       "      <td>24.50</td>\n",
       "      <td>0.500</td>\n",
       "      <td>u</td>\n",
       "      <td>g</td>\n",
       "      <td>q</td>\n",
       "      <td>h</td>\n",
       "      <td>1.50</td>\n",
       "      <td>t</td>\n",
       "      <td>f</td>\n",
       "      <td>0</td>\n",
       "      <td>f</td>\n",
       "      <td>g</td>\n",
       "      <td>280.0</td>\n",
       "      <td>824</td>\n",
       "      <td>+</td>\n",
       "    </tr>\n",
       "    <tr>\n",
       "      <th>3</th>\n",
       "      <td>b</td>\n",
       "      <td>27.83</td>\n",
       "      <td>1.540</td>\n",
       "      <td>u</td>\n",
       "      <td>g</td>\n",
       "      <td>w</td>\n",
       "      <td>v</td>\n",
       "      <td>3.75</td>\n",
       "      <td>t</td>\n",
       "      <td>t</td>\n",
       "      <td>5</td>\n",
       "      <td>t</td>\n",
       "      <td>g</td>\n",
       "      <td>100.0</td>\n",
       "      <td>3</td>\n",
       "      <td>+</td>\n",
       "    </tr>\n",
       "    <tr>\n",
       "      <th>4</th>\n",
       "      <td>b</td>\n",
       "      <td>20.17</td>\n",
       "      <td>5.625</td>\n",
       "      <td>u</td>\n",
       "      <td>g</td>\n",
       "      <td>w</td>\n",
       "      <td>v</td>\n",
       "      <td>1.71</td>\n",
       "      <td>t</td>\n",
       "      <td>f</td>\n",
       "      <td>0</td>\n",
       "      <td>f</td>\n",
       "      <td>s</td>\n",
       "      <td>120.0</td>\n",
       "      <td>0</td>\n",
       "      <td>+</td>\n",
       "    </tr>\n",
       "  </tbody>\n",
       "</table>\n",
       "</div>"
      ],
      "text/plain": [
       "   0      1      2  3  4  5  6     7  8  9  10 11 12     13   14 target\n",
       "0  b  30.83  0.000  u  g  w  v  1.25  t  t   1  f  g  202.0    0      +\n",
       "1  a  58.67  4.460  u  g  q  h  3.04  t  t   6  f  g   43.0  560      +\n",
       "2  a  24.50  0.500  u  g  q  h  1.50  t  f   0  f  g  280.0  824      +\n",
       "3  b  27.83  1.540  u  g  w  v  3.75  t  t   5  t  g  100.0    3      +\n",
       "4  b  20.17  5.625  u  g  w  v  1.71  t  f   0  f  s  120.0    0      +"
      ]
     },
     "execution_count": 1,
     "metadata": {},
     "output_type": "execute_result"
    }
   ],
   "source": [
    "import pandas as pd\n",
    "\n",
    "df = pd.read_csv('https://archive.ics.uci.edu/ml/machine-learning-databases/credit-screening/crx.data',\n",
    "                 na_values='?', header=None)\n",
    "\n",
    "df.rename(columns={15: 'target'}, inplace=True)\n",
    "df.head()"
   ]
  },
  {
   "cell_type": "markdown",
   "id": "a191c465",
   "metadata": {},
   "source": [
    "# Seleccionar Variables"
   ]
  },
  {
   "cell_type": "markdown",
   "id": "82e1d81d",
   "metadata": {},
   "source": [
    "> Vamos a tener en cuenta todas las variables para el modelo. Por tanto, deberéis hacer las transformaciones pertinentes para que el modelo pueda tener en cuenta todas las variables (ya sean numéricas o categóricas).\n",
    ">\n",
    "> - `Variable Objetivo y`\n",
    "> - `Variables Explicativas X`"
   ]
  },
  {
   "cell_type": "code",
   "execution_count": 6,
   "id": "ee8298ca-7238-47f9-bdc2-3cc18c236472",
   "metadata": {},
   "outputs": [
    {
     "data": {
      "text/html": [
       "<div>\n",
       "<style scoped>\n",
       "    .dataframe tbody tr th:only-of-type {\n",
       "        vertical-align: middle;\n",
       "    }\n",
       "\n",
       "    .dataframe tbody tr th {\n",
       "        vertical-align: top;\n",
       "    }\n",
       "\n",
       "    .dataframe thead th {\n",
       "        text-align: right;\n",
       "    }\n",
       "</style>\n",
       "<table border=\"1\" class=\"dataframe\">\n",
       "  <thead>\n",
       "    <tr style=\"text-align: right;\">\n",
       "      <th></th>\n",
       "      <th>1</th>\n",
       "      <th>2</th>\n",
       "      <th>7</th>\n",
       "      <th>10</th>\n",
       "      <th>13</th>\n",
       "      <th>14</th>\n",
       "      <th>0_b</th>\n",
       "      <th>3_u</th>\n",
       "      <th>3_y</th>\n",
       "      <th>4_gg</th>\n",
       "      <th>...</th>\n",
       "      <th>6_n</th>\n",
       "      <th>6_o</th>\n",
       "      <th>6_v</th>\n",
       "      <th>6_z</th>\n",
       "      <th>8_t</th>\n",
       "      <th>9_t</th>\n",
       "      <th>11_t</th>\n",
       "      <th>12_p</th>\n",
       "      <th>12_s</th>\n",
       "      <th>target_-</th>\n",
       "    </tr>\n",
       "  </thead>\n",
       "  <tbody>\n",
       "    <tr>\n",
       "      <th>0</th>\n",
       "      <td>30.83</td>\n",
       "      <td>0.000</td>\n",
       "      <td>1.25</td>\n",
       "      <td>1</td>\n",
       "      <td>202.0</td>\n",
       "      <td>0</td>\n",
       "      <td>1</td>\n",
       "      <td>1</td>\n",
       "      <td>0</td>\n",
       "      <td>0</td>\n",
       "      <td>...</td>\n",
       "      <td>0</td>\n",
       "      <td>0</td>\n",
       "      <td>1</td>\n",
       "      <td>0</td>\n",
       "      <td>1</td>\n",
       "      <td>1</td>\n",
       "      <td>0</td>\n",
       "      <td>0</td>\n",
       "      <td>0</td>\n",
       "      <td>0</td>\n",
       "    </tr>\n",
       "    <tr>\n",
       "      <th>1</th>\n",
       "      <td>58.67</td>\n",
       "      <td>4.460</td>\n",
       "      <td>3.04</td>\n",
       "      <td>6</td>\n",
       "      <td>43.0</td>\n",
       "      <td>560</td>\n",
       "      <td>0</td>\n",
       "      <td>1</td>\n",
       "      <td>0</td>\n",
       "      <td>0</td>\n",
       "      <td>...</td>\n",
       "      <td>0</td>\n",
       "      <td>0</td>\n",
       "      <td>0</td>\n",
       "      <td>0</td>\n",
       "      <td>1</td>\n",
       "      <td>1</td>\n",
       "      <td>0</td>\n",
       "      <td>0</td>\n",
       "      <td>0</td>\n",
       "      <td>0</td>\n",
       "    </tr>\n",
       "    <tr>\n",
       "      <th>2</th>\n",
       "      <td>24.50</td>\n",
       "      <td>0.500</td>\n",
       "      <td>1.50</td>\n",
       "      <td>0</td>\n",
       "      <td>280.0</td>\n",
       "      <td>824</td>\n",
       "      <td>0</td>\n",
       "      <td>1</td>\n",
       "      <td>0</td>\n",
       "      <td>0</td>\n",
       "      <td>...</td>\n",
       "      <td>0</td>\n",
       "      <td>0</td>\n",
       "      <td>0</td>\n",
       "      <td>0</td>\n",
       "      <td>1</td>\n",
       "      <td>0</td>\n",
       "      <td>0</td>\n",
       "      <td>0</td>\n",
       "      <td>0</td>\n",
       "      <td>0</td>\n",
       "    </tr>\n",
       "    <tr>\n",
       "      <th>3</th>\n",
       "      <td>27.83</td>\n",
       "      <td>1.540</td>\n",
       "      <td>3.75</td>\n",
       "      <td>5</td>\n",
       "      <td>100.0</td>\n",
       "      <td>3</td>\n",
       "      <td>1</td>\n",
       "      <td>1</td>\n",
       "      <td>0</td>\n",
       "      <td>0</td>\n",
       "      <td>...</td>\n",
       "      <td>0</td>\n",
       "      <td>0</td>\n",
       "      <td>1</td>\n",
       "      <td>0</td>\n",
       "      <td>1</td>\n",
       "      <td>1</td>\n",
       "      <td>1</td>\n",
       "      <td>0</td>\n",
       "      <td>0</td>\n",
       "      <td>0</td>\n",
       "    </tr>\n",
       "    <tr>\n",
       "      <th>4</th>\n",
       "      <td>20.17</td>\n",
       "      <td>5.625</td>\n",
       "      <td>1.71</td>\n",
       "      <td>0</td>\n",
       "      <td>120.0</td>\n",
       "      <td>0</td>\n",
       "      <td>1</td>\n",
       "      <td>1</td>\n",
       "      <td>0</td>\n",
       "      <td>0</td>\n",
       "      <td>...</td>\n",
       "      <td>0</td>\n",
       "      <td>0</td>\n",
       "      <td>1</td>\n",
       "      <td>0</td>\n",
       "      <td>1</td>\n",
       "      <td>0</td>\n",
       "      <td>0</td>\n",
       "      <td>0</td>\n",
       "      <td>1</td>\n",
       "      <td>0</td>\n",
       "    </tr>\n",
       "  </tbody>\n",
       "</table>\n",
       "<p>5 rows × 38 columns</p>\n",
       "</div>"
      ],
      "text/plain": [
       "       1      2     7  10     13   14  0_b  3_u  3_y  4_gg  ...  6_n  6_o  \\\n",
       "0  30.83  0.000  1.25   1  202.0    0    1    1    0     0  ...    0    0   \n",
       "1  58.67  4.460  3.04   6   43.0  560    0    1    0     0  ...    0    0   \n",
       "2  24.50  0.500  1.50   0  280.0  824    0    1    0     0  ...    0    0   \n",
       "3  27.83  1.540  3.75   5  100.0    3    1    1    0     0  ...    0    0   \n",
       "4  20.17  5.625  1.71   0  120.0    0    1    1    0     0  ...    0    0   \n",
       "\n",
       "   6_v  6_z  8_t  9_t  11_t  12_p  12_s  target_-  \n",
       "0    1    0    1    1     0     0     0         0  \n",
       "1    0    0    1    1     0     0     0         0  \n",
       "2    0    0    1    0     0     0     0         0  \n",
       "3    1    0    1    1     1     0     0         0  \n",
       "4    1    0    1    0     0     0     1         0  \n",
       "\n",
       "[5 rows x 38 columns]"
      ]
     },
     "execution_count": 6,
     "metadata": {},
     "output_type": "execute_result"
    }
   ],
   "source": [
    "df = pd.get_dummies(df, drop_first=True)\n",
    "df.head()"
   ]
  },
  {
   "cell_type": "code",
   "execution_count": 7,
   "id": "6dc9a099-48eb-4be1-9c8d-eee8c6bf9fb4",
   "metadata": {},
   "outputs": [],
   "source": [
    "df = df.dropna()"
   ]
  },
  {
   "cell_type": "code",
   "execution_count": 8,
   "id": "9b696f76",
   "metadata": {},
   "outputs": [],
   "source": [
    "explicativas = df.drop(columns='target_-')"
   ]
  },
  {
   "cell_type": "code",
   "execution_count": 9,
   "id": "e3d6f195-3f2a-4d8a-91c7-37baa588626d",
   "metadata": {},
   "outputs": [],
   "source": [
    "objetivo = df['target_-']"
   ]
  },
  {
   "cell_type": "markdown",
   "id": "f3b3f4d3",
   "metadata": {},
   "source": [
    "# Entrenar Modelo `DecisionTreeClassifier()`"
   ]
  },
  {
   "cell_type": "markdown",
   "id": "b7180aea",
   "metadata": {},
   "source": [
    "> - Posteriormente, guardar predicciones en `predicciones_dt`."
   ]
  },
  {
   "cell_type": "code",
   "execution_count": null,
   "id": "e1ff570d",
   "metadata": {},
   "outputs": [],
   "source": []
  },
  {
   "cell_type": "markdown",
   "id": "3c7a1a8e",
   "metadata": {},
   "source": [
    "# Entrenar Modelo `RandomForestClassifier()`"
   ]
  },
  {
   "cell_type": "markdown",
   "id": "a7a081ca",
   "metadata": {},
   "source": [
    "> _Durante la corrección te explicare en detalle el funcionamiento de este algoritmo. Mientras tanto, podéis ver el vídeo que usaré para que os relacionéis con los conceptos:_\n",
    ">\n",
    "> - https://www.youtube.com/watch?v=J4Wdy0Wc_xQ\n",
    ">\n",
    "> - Posteriormente, guardar predicciones en `predicciones_rf`."
   ]
  },
  {
   "cell_type": "code",
   "execution_count": null,
   "id": "6f154362",
   "metadata": {},
   "outputs": [],
   "source": []
  },
  {
   "cell_type": "markdown",
   "id": "497e77d3",
   "metadata": {},
   "source": [
    "# Entrenar Modelo `KNeighborsClassifier()`"
   ]
  },
  {
   "cell_type": "markdown",
   "id": "5b6e91ef",
   "metadata": {},
   "source": [
    "> _Durante la corrección te explicare en detalle el funcionamiento de este algoritmo. Mientras tanto, podéis ver el vídeo que usaré para que os relacionéis con los conceptos:_\n",
    ">\n",
    "> - https://www.youtube.com/watch?v=HVXime0nQeI\n",
    ">\n",
    "> - Posteriormente, guardar predicciones en `predicciones_kn`."
   ]
  },
  {
   "cell_type": "code",
   "execution_count": null,
   "id": "679ca4f7",
   "metadata": {},
   "outputs": [],
   "source": []
  },
  {
   "cell_type": "markdown",
   "id": "f78eed3e",
   "metadata": {},
   "source": [
    "# Cuál es el Mejor Modelo?"
   ]
  },
  {
   "cell_type": "markdown",
   "id": "7f77ad0e",
   "metadata": {},
   "source": [
    "> - Comparar la precisión de los distintos modelos. Podemos usar la funicón `accuracy_score()`."
   ]
  },
  {
   "cell_type": "code",
   "execution_count": null,
   "id": "89c3c688",
   "metadata": {},
   "outputs": [],
   "source": []
  },
  {
   "cell_type": "markdown",
   "id": "dd4f95a9",
   "metadata": {},
   "source": [
    "# Separar Datos en Train & Test"
   ]
  },
  {
   "cell_type": "markdown",
   "id": "a20d0c91",
   "metadata": {},
   "source": [
    "> - Usar la función `train_test_split()`."
   ]
  },
  {
   "cell_type": "code",
   "execution_count": null,
   "id": "a263ec83",
   "metadata": {},
   "outputs": [],
   "source": []
  },
  {
   "cell_type": "markdown",
   "id": "7a39b970",
   "metadata": {},
   "source": [
    "# Modelo `DecisionTreeClassifier()`"
   ]
  },
  {
   "cell_type": "markdown",
   "id": "8a8bb11d",
   "metadata": {},
   "source": [
    "> - Entrenar modelo con `dt.fit(X_train, y_train)`.\n",
    "> - Posteriormente, guardar predicciones en `predicciones_dt`, calculadas con la función `dt.predict(x_test)`."
   ]
  },
  {
   "cell_type": "code",
   "execution_count": null,
   "id": "cffbe935",
   "metadata": {},
   "outputs": [],
   "source": []
  },
  {
   "cell_type": "markdown",
   "id": "b4e3f1bd",
   "metadata": {},
   "source": [
    "# Modelo `RandomForestClassifier()`"
   ]
  },
  {
   "cell_type": "markdown",
   "id": "58a0642f",
   "metadata": {},
   "source": [
    "> - Entrenar modelo con `rf.fit(X_train, y_train)`.\n",
    "> - Posteriormente, guardar predicciones en `predicciones_rf`, calculadas con la función `rf.predict(X_test)`."
   ]
  },
  {
   "cell_type": "code",
   "execution_count": null,
   "id": "c47bc234",
   "metadata": {},
   "outputs": [],
   "source": []
  },
  {
   "cell_type": "markdown",
   "id": "32c275fa",
   "metadata": {},
   "source": [
    "# Modelo `KNeighborsClassifier()`"
   ]
  },
  {
   "cell_type": "markdown",
   "id": "c7c9c706",
   "metadata": {},
   "source": [
    "> - Entrenar modelo con `kn.fit(X_train, y_train)`.\n",
    "> - Posteriormente, guardar predicciones en `predicciones_kn`, calculadas con la función `kn.predict(X_test)`."
   ]
  },
  {
   "cell_type": "code",
   "execution_count": null,
   "id": "7e750e03",
   "metadata": {},
   "outputs": [],
   "source": []
  },
  {
   "cell_type": "markdown",
   "id": "beba6001",
   "metadata": {},
   "source": [
    "# Cuál es el Mejor Modelo?"
   ]
  },
  {
   "cell_type": "markdown",
   "id": "35e6f5d0",
   "metadata": {},
   "source": [
    "> - Comparar la precisión de los distintos modelos. Podemos usar la funicón `accuracy_score()`."
   ]
  },
  {
   "cell_type": "code",
   "execution_count": null,
   "id": "74f215b5",
   "metadata": {},
   "outputs": [],
   "source": []
  },
  {
   "cell_type": "markdown",
   "id": "bfdc8ba5",
   "metadata": {},
   "source": [
    "# Objetivos Alcanzados"
   ]
  },
  {
   "cell_type": "markdown",
   "id": "cfccd040",
   "metadata": {},
   "source": [
    "_Haz doble click sobre esta celda y pon una `X` dentro de las casillas [X] si crees que has superado los objetivos:_\n",
    "\n",
    "- [ ] Entender la necesidad de **crear funciones** para evitar la repetición de código.\n",
    "- [ ] **Bootstrapping** como forma de repetir datos para crear otro dataset.\n",
    "- [ ] **Umbral de clasificación** al predecir probabilidades.\n",
    "- [ ] Distinguir diferentes formas de **comparar modelos** de clasificación.\n",
    "- [ ] Entender la importancia de comprobar lo bueno que es un modelo con **datos que no han sido usados durante el entrenamiento**."
   ]
  },
  {
   "cell_type": "code",
   "execution_count": null,
   "id": "7c60a8e4",
   "metadata": {},
   "outputs": [],
   "source": []
  }
 ],
 "metadata": {
  "authors": [
   {
    "name": "Jesús López @sotastica"
   }
  ],
  "kernelspec": {
   "display_name": "Python 3 (ipykernel)",
   "language": "python",
   "name": "python3"
  },
  "language_info": {
   "codemirror_mode": {
    "name": "ipython",
    "version": 3
   },
   "file_extension": ".py",
   "mimetype": "text/x-python",
   "name": "python",
   "nbconvert_exporter": "python",
   "pygments_lexer": "ipython3",
   "version": "3.8.11"
  }
 },
 "nbformat": 4,
 "nbformat_minor": 5
}
