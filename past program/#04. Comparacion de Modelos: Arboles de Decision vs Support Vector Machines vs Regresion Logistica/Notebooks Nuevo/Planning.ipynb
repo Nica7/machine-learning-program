{
 "cells": [
  {
   "cell_type": "markdown",
   "id": "89f14eb4-dc64-418a-85f2-7d8b2fd6405e",
   "metadata": {},
   "source": [
    "# Resumen"
   ]
  },
  {
   "cell_type": "markdown",
   "id": "56af4f58-597b-4533-a730-64de3a8f29f8",
   "metadata": {},
   "source": [
    "## Machine Learning\n",
    "\n",
    "que significa?\n",
    "\n",
    "- la maquina aprende\n",
    "\n",
    "que aprende?\n",
    "\n",
    "- un modelo, una ecuacion matematica\n",
    "\n",
    "por ejemplo?\n",
    "\n",
    "$$\n",
    "accidentes = 2 + 3 \\cdot alcohol\n",
    "$$"
   ]
  },
  {
   "cell_type": "markdown",
   "id": "375a3f88-eaf8-4be8-b233-60bee12d8da8",
   "metadata": {},
   "source": [
    "## Tipos de Modelo\n",
    "\n",
    "como elegimos el tipo de modelo?\n",
    "\n",
    "- dependiendo de la variable objetivo...\n",
    "\n",
    "### Modelos Supervisados\n",
    "\n",
    "numerica:\n",
    "\n",
    "- Modelos de Regresion\n",
    "    - Linear Regression\n",
    "    \n",
    "categorica:\n",
    "\n",
    "- Modelos de Clasificacion\n",
    "\n",
    "### Modelos No Supervisados\n",
    "\n",
    "- Analisis de Cluster (hallar grupos segun patrones...)"
   ]
  },
  {
   "cell_type": "markdown",
   "id": "6ffb4fa9-dcb6-44b1-abc3-e17c6f910614",
   "metadata": {},
   "source": [
    "## Buenas Practicas...\n",
    "\n",
    "### Al Evaluar el Modelo\n",
    "\n",
    "- **Train Test Split**\n",
    "\n",
    "- Tu quieres hallar una formula matematica\n",
    "- que calcule cosas para no perder tiempo y s\n",
    "- ser mas precisos\n",
    "\n",
    "- lo que resulta en mayores ganancias o menores perdidas..."
   ]
  },
  {
   "cell_type": "markdown",
   "id": "f3fedf85-1274-42dd-ad22-0d8d901552e7",
   "metadata": {},
   "source": [
    "## En Una Empresa\n",
    "\n",
    "- Cloud Computing...\n",
    "\n",
    "DELL presta cloud computing a ESADE, iLife, ...\n",
    "\n",
    "Si un cliente se queja de que se cae el sistema\n",
    "\n",
    "Dell activa 10 ordenadores...\n",
    "\n",
    "Pero la demanda real hubiera sido abastecida con 4 ordenadores\n",
    "\n",
    "Como solucionariamos este problema con Machine Learning?"
   ]
  },
  {
   "cell_type": "markdown",
   "id": "cabe636c-652d-4b52-b16c-26e90e1b5e53",
   "metadata": {},
   "source": [
    "1. Piensas en tu variable objetivo\n",
    "\n",
    "- Los ordenadores activos en 1h\n",
    "\n",
    "2. Que variables me ayudarian a predecir el objetivo?\n",
    "\n",
    "- tiempo de ejecucion cuando se ejecuta una orden\n",
    "- programa de la orden (chrome, jupyter, safari, microsoft, office)\n",
    "- bites descargados\n",
    "- caracteristicas del cliente\n",
    "\n",
    "Como tendria DELL esta informacion?\n",
    "\n",
    "En una misma tabla, todo? "
   ]
  },
  {
   "cell_type": "code",
   "execution_count": null,
   "id": "123bc8ec-84f8-45c9-8d4d-b02f2aa5ca13",
   "metadata": {},
   "outputs": [],
   "source": []
  }
 ],
 "metadata": {
  "kernelspec": {
   "display_name": "Python 3",
   "language": "python",
   "name": "python3"
  },
  "language_info": {
   "codemirror_mode": {
    "name": "ipython",
    "version": 3
   },
   "file_extension": ".py",
   "mimetype": "text/x-python",
   "name": "python",
   "nbconvert_exporter": "python",
   "pygments_lexer": "ipython3",
   "version": "3.8.8"
  }
 },
 "nbformat": 4,
 "nbformat_minor": 5
}
