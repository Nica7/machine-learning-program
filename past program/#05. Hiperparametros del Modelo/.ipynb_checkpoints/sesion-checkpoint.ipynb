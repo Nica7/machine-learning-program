{
 "cells": [
  {
   "cell_type": "markdown",
   "metadata": {},
   "source": [
    "<font size=\"+5\">#05. Hiperparametros del Modelo</font>"
   ]
  },
  {
   "cell_type": "markdown",
   "metadata": {},
   "source": [
    "<ul>\n",
    "    <li>Resolver dudas → Pregunta en <img src=\"https://discord.com/assets/f9bb9c4af2b9c32a2c5ee0014661546d.png\" style=\"height: 1em; vertical-align: middle;\"> <a href=\"https://discord.gg/cmB3KGsqMy\">Discord</a></li>\n",
    "    <li>Tutoriales → <img src=\"https://openmoji.org/php/download_asset.php?type=emoji&emoji_hexcode=E044&emoji_variant=color\" style=\"height: 1em; vertical-align: middle;\"> <a href=\"https://www.youtube.com/channel/UCovCte2I3loteQE_kRsfQcw\">YouTube</a></li>\n",
    "    <li>Reservar Clases → <span style=\"color: orange\">@</span> <a href=\"https://sotastica.com/reservar\">sotastica</a></li>\n",
    "</ul>"
   ]
  },
  {
   "cell_type": "markdown",
   "metadata": {},
   "source": [
    "# Cargar Datos"
   ]
  },
  {
   "cell_type": "markdown",
   "metadata": {},
   "source": [
    "> Copiamos y pegamos en una celda las siguientes líneas de código para cargar una tabla de datos que contiene información de personas que han solicitado tarjetas de crédito. La variable objetivo se sitúa en la columna `target` y nos cuenta si una persona ha sido apta para la tarjeta o no...\n",
    "\n",
    "```python\n",
    "import pandas as pd\n",
    "pd.set_option(\"display.max_columns\", None)\n",
    "\n",
    "url = 'https://archive.ics.uci.edu/ml/machine-learning-databases/00350/default%20of%20credit%20card%20clients.xls'\n",
    "df = pd.read_excel(io=url, header=1, index_col=0)\n",
    "df.sample(10)\n",
    "```"
   ]
  },
  {
   "cell_type": "code",
   "execution_count": 1,
   "metadata": {},
   "outputs": [
    {
     "data": {
      "text/html": [
       "<div>\n",
       "<style scoped>\n",
       "    .dataframe tbody tr th:only-of-type {\n",
       "        vertical-align: middle;\n",
       "    }\n",
       "\n",
       "    .dataframe tbody tr th {\n",
       "        vertical-align: top;\n",
       "    }\n",
       "\n",
       "    .dataframe thead th {\n",
       "        text-align: right;\n",
       "    }\n",
       "</style>\n",
       "<table border=\"1\" class=\"dataframe\">\n",
       "  <thead>\n",
       "    <tr style=\"text-align: right;\">\n",
       "      <th></th>\n",
       "      <th>LIMIT_BAL</th>\n",
       "      <th>SEX</th>\n",
       "      <th>EDUCATION</th>\n",
       "      <th>MARRIAGE</th>\n",
       "      <th>AGE</th>\n",
       "      <th>PAY_0</th>\n",
       "      <th>PAY_2</th>\n",
       "      <th>PAY_3</th>\n",
       "      <th>PAY_4</th>\n",
       "      <th>PAY_5</th>\n",
       "      <th>PAY_6</th>\n",
       "      <th>BILL_AMT1</th>\n",
       "      <th>BILL_AMT2</th>\n",
       "      <th>BILL_AMT3</th>\n",
       "      <th>BILL_AMT4</th>\n",
       "      <th>BILL_AMT5</th>\n",
       "      <th>BILL_AMT6</th>\n",
       "      <th>PAY_AMT1</th>\n",
       "      <th>PAY_AMT2</th>\n",
       "      <th>PAY_AMT3</th>\n",
       "      <th>PAY_AMT4</th>\n",
       "      <th>PAY_AMT5</th>\n",
       "      <th>PAY_AMT6</th>\n",
       "      <th>default payment next month</th>\n",
       "    </tr>\n",
       "    <tr>\n",
       "      <th>ID</th>\n",
       "      <th></th>\n",
       "      <th></th>\n",
       "      <th></th>\n",
       "      <th></th>\n",
       "      <th></th>\n",
       "      <th></th>\n",
       "      <th></th>\n",
       "      <th></th>\n",
       "      <th></th>\n",
       "      <th></th>\n",
       "      <th></th>\n",
       "      <th></th>\n",
       "      <th></th>\n",
       "      <th></th>\n",
       "      <th></th>\n",
       "      <th></th>\n",
       "      <th></th>\n",
       "      <th></th>\n",
       "      <th></th>\n",
       "      <th></th>\n",
       "      <th></th>\n",
       "      <th></th>\n",
       "      <th></th>\n",
       "      <th></th>\n",
       "    </tr>\n",
       "  </thead>\n",
       "  <tbody>\n",
       "    <tr>\n",
       "      <th>23464</th>\n",
       "      <td>20000</td>\n",
       "      <td>2</td>\n",
       "      <td>2</td>\n",
       "      <td>2</td>\n",
       "      <td>46</td>\n",
       "      <td>-1</td>\n",
       "      <td>-1</td>\n",
       "      <td>-1</td>\n",
       "      <td>0</td>\n",
       "      <td>0</td>\n",
       "      <td>-2</td>\n",
       "      <td>189</td>\n",
       "      <td>2249</td>\n",
       "      <td>3551</td>\n",
       "      <td>6180</td>\n",
       "      <td>0</td>\n",
       "      <td>0</td>\n",
       "      <td>2249</td>\n",
       "      <td>3551</td>\n",
       "      <td>5000</td>\n",
       "      <td>0</td>\n",
       "      <td>0</td>\n",
       "      <td>0</td>\n",
       "      <td>1</td>\n",
       "    </tr>\n",
       "    <tr>\n",
       "      <th>8080</th>\n",
       "      <td>200000</td>\n",
       "      <td>1</td>\n",
       "      <td>1</td>\n",
       "      <td>2</td>\n",
       "      <td>29</td>\n",
       "      <td>-1</td>\n",
       "      <td>-1</td>\n",
       "      <td>-1</td>\n",
       "      <td>0</td>\n",
       "      <td>0</td>\n",
       "      <td>-1</td>\n",
       "      <td>389</td>\n",
       "      <td>389</td>\n",
       "      <td>1167</td>\n",
       "      <td>778</td>\n",
       "      <td>389</td>\n",
       "      <td>389</td>\n",
       "      <td>390</td>\n",
       "      <td>1168</td>\n",
       "      <td>1</td>\n",
       "      <td>1</td>\n",
       "      <td>390</td>\n",
       "      <td>778</td>\n",
       "      <td>0</td>\n",
       "    </tr>\n",
       "    <tr>\n",
       "      <th>707</th>\n",
       "      <td>50000</td>\n",
       "      <td>1</td>\n",
       "      <td>2</td>\n",
       "      <td>1</td>\n",
       "      <td>38</td>\n",
       "      <td>1</td>\n",
       "      <td>2</td>\n",
       "      <td>0</td>\n",
       "      <td>0</td>\n",
       "      <td>0</td>\n",
       "      <td>0</td>\n",
       "      <td>58102</td>\n",
       "      <td>59011</td>\n",
       "      <td>56272</td>\n",
       "      <td>53663</td>\n",
       "      <td>51507</td>\n",
       "      <td>50616</td>\n",
       "      <td>2500</td>\n",
       "      <td>2500</td>\n",
       "      <td>2000</td>\n",
       "      <td>2000</td>\n",
       "      <td>3200</td>\n",
       "      <td>2000</td>\n",
       "      <td>0</td>\n",
       "    </tr>\n",
       "    <tr>\n",
       "      <th>26514</th>\n",
       "      <td>280000</td>\n",
       "      <td>2</td>\n",
       "      <td>1</td>\n",
       "      <td>1</td>\n",
       "      <td>63</td>\n",
       "      <td>-2</td>\n",
       "      <td>-2</td>\n",
       "      <td>-2</td>\n",
       "      <td>-2</td>\n",
       "      <td>-2</td>\n",
       "      <td>-2</td>\n",
       "      <td>-200</td>\n",
       "      <td>-200</td>\n",
       "      <td>-200</td>\n",
       "      <td>-200</td>\n",
       "      <td>-200</td>\n",
       "      <td>-200</td>\n",
       "      <td>0</td>\n",
       "      <td>0</td>\n",
       "      <td>0</td>\n",
       "      <td>0</td>\n",
       "      <td>0</td>\n",
       "      <td>200</td>\n",
       "      <td>1</td>\n",
       "    </tr>\n",
       "    <tr>\n",
       "      <th>9360</th>\n",
       "      <td>500000</td>\n",
       "      <td>1</td>\n",
       "      <td>1</td>\n",
       "      <td>2</td>\n",
       "      <td>36</td>\n",
       "      <td>-1</td>\n",
       "      <td>-1</td>\n",
       "      <td>0</td>\n",
       "      <td>-1</td>\n",
       "      <td>-1</td>\n",
       "      <td>-1</td>\n",
       "      <td>15401</td>\n",
       "      <td>23032</td>\n",
       "      <td>54759</td>\n",
       "      <td>52030</td>\n",
       "      <td>71797</td>\n",
       "      <td>93159</td>\n",
       "      <td>23128</td>\n",
       "      <td>40105</td>\n",
       "      <td>52221</td>\n",
       "      <td>71852</td>\n",
       "      <td>93218</td>\n",
       "      <td>179568</td>\n",
       "      <td>0</td>\n",
       "    </tr>\n",
       "    <tr>\n",
       "      <th>508</th>\n",
       "      <td>180000</td>\n",
       "      <td>2</td>\n",
       "      <td>2</td>\n",
       "      <td>2</td>\n",
       "      <td>28</td>\n",
       "      <td>0</td>\n",
       "      <td>0</td>\n",
       "      <td>0</td>\n",
       "      <td>0</td>\n",
       "      <td>0</td>\n",
       "      <td>2</td>\n",
       "      <td>42238</td>\n",
       "      <td>38741</td>\n",
       "      <td>36696</td>\n",
       "      <td>35813</td>\n",
       "      <td>37893</td>\n",
       "      <td>34661</td>\n",
       "      <td>2500</td>\n",
       "      <td>2000</td>\n",
       "      <td>1128</td>\n",
       "      <td>2500</td>\n",
       "      <td>0</td>\n",
       "      <td>2000</td>\n",
       "      <td>0</td>\n",
       "    </tr>\n",
       "    <tr>\n",
       "      <th>11695</th>\n",
       "      <td>160000</td>\n",
       "      <td>2</td>\n",
       "      <td>2</td>\n",
       "      <td>1</td>\n",
       "      <td>32</td>\n",
       "      <td>-1</td>\n",
       "      <td>-1</td>\n",
       "      <td>-1</td>\n",
       "      <td>0</td>\n",
       "      <td>0</td>\n",
       "      <td>0</td>\n",
       "      <td>390</td>\n",
       "      <td>390</td>\n",
       "      <td>1560</td>\n",
       "      <td>1170</td>\n",
       "      <td>780</td>\n",
       "      <td>390</td>\n",
       "      <td>390</td>\n",
       "      <td>1560</td>\n",
       "      <td>0</td>\n",
       "      <td>0</td>\n",
       "      <td>0</td>\n",
       "      <td>390</td>\n",
       "      <td>0</td>\n",
       "    </tr>\n",
       "    <tr>\n",
       "      <th>3359</th>\n",
       "      <td>130000</td>\n",
       "      <td>2</td>\n",
       "      <td>2</td>\n",
       "      <td>1</td>\n",
       "      <td>28</td>\n",
       "      <td>0</td>\n",
       "      <td>0</td>\n",
       "      <td>0</td>\n",
       "      <td>0</td>\n",
       "      <td>0</td>\n",
       "      <td>2</td>\n",
       "      <td>107216</td>\n",
       "      <td>91888</td>\n",
       "      <td>83975</td>\n",
       "      <td>76842</td>\n",
       "      <td>78093</td>\n",
       "      <td>67557</td>\n",
       "      <td>4000</td>\n",
       "      <td>4000</td>\n",
       "      <td>8000</td>\n",
       "      <td>6000</td>\n",
       "      <td>0</td>\n",
       "      <td>2500</td>\n",
       "      <td>1</td>\n",
       "    </tr>\n",
       "    <tr>\n",
       "      <th>21703</th>\n",
       "      <td>50000</td>\n",
       "      <td>2</td>\n",
       "      <td>2</td>\n",
       "      <td>2</td>\n",
       "      <td>26</td>\n",
       "      <td>2</td>\n",
       "      <td>0</td>\n",
       "      <td>0</td>\n",
       "      <td>0</td>\n",
       "      <td>0</td>\n",
       "      <td>0</td>\n",
       "      <td>47510</td>\n",
       "      <td>32952</td>\n",
       "      <td>22289</td>\n",
       "      <td>22752</td>\n",
       "      <td>9325</td>\n",
       "      <td>9270</td>\n",
       "      <td>1744</td>\n",
       "      <td>1537</td>\n",
       "      <td>1000</td>\n",
       "      <td>187</td>\n",
       "      <td>185</td>\n",
       "      <td>0</td>\n",
       "      <td>0</td>\n",
       "    </tr>\n",
       "    <tr>\n",
       "      <th>6563</th>\n",
       "      <td>270000</td>\n",
       "      <td>2</td>\n",
       "      <td>2</td>\n",
       "      <td>2</td>\n",
       "      <td>29</td>\n",
       "      <td>0</td>\n",
       "      <td>0</td>\n",
       "      <td>0</td>\n",
       "      <td>0</td>\n",
       "      <td>0</td>\n",
       "      <td>0</td>\n",
       "      <td>150185</td>\n",
       "      <td>141926</td>\n",
       "      <td>135741</td>\n",
       "      <td>126197</td>\n",
       "      <td>118340</td>\n",
       "      <td>110557</td>\n",
       "      <td>4988</td>\n",
       "      <td>7000</td>\n",
       "      <td>5000</td>\n",
       "      <td>5000</td>\n",
       "      <td>5000</td>\n",
       "      <td>5000</td>\n",
       "      <td>0</td>\n",
       "    </tr>\n",
       "  </tbody>\n",
       "</table>\n",
       "</div>"
      ],
      "text/plain": [
       "       LIMIT_BAL  SEX  EDUCATION  MARRIAGE  AGE  PAY_0  PAY_2  PAY_3  PAY_4  \\\n",
       "ID                                                                            \n",
       "23464      20000    2          2         2   46     -1     -1     -1      0   \n",
       "8080      200000    1          1         2   29     -1     -1     -1      0   \n",
       "707        50000    1          2         1   38      1      2      0      0   \n",
       "26514     280000    2          1         1   63     -2     -2     -2     -2   \n",
       "9360      500000    1          1         2   36     -1     -1      0     -1   \n",
       "508       180000    2          2         2   28      0      0      0      0   \n",
       "11695     160000    2          2         1   32     -1     -1     -1      0   \n",
       "3359      130000    2          2         1   28      0      0      0      0   \n",
       "21703      50000    2          2         2   26      2      0      0      0   \n",
       "6563      270000    2          2         2   29      0      0      0      0   \n",
       "\n",
       "       PAY_5  PAY_6  BILL_AMT1  BILL_AMT2  BILL_AMT3  BILL_AMT4  BILL_AMT5  \\\n",
       "ID                                                                           \n",
       "23464      0     -2        189       2249       3551       6180          0   \n",
       "8080       0     -1        389        389       1167        778        389   \n",
       "707        0      0      58102      59011      56272      53663      51507   \n",
       "26514     -2     -2       -200       -200       -200       -200       -200   \n",
       "9360      -1     -1      15401      23032      54759      52030      71797   \n",
       "508        0      2      42238      38741      36696      35813      37893   \n",
       "11695      0      0        390        390       1560       1170        780   \n",
       "3359       0      2     107216      91888      83975      76842      78093   \n",
       "21703      0      0      47510      32952      22289      22752       9325   \n",
       "6563       0      0     150185     141926     135741     126197     118340   \n",
       "\n",
       "       BILL_AMT6  PAY_AMT1  PAY_AMT2  PAY_AMT3  PAY_AMT4  PAY_AMT5  PAY_AMT6  \\\n",
       "ID                                                                             \n",
       "23464          0      2249      3551      5000         0         0         0   \n",
       "8080         389       390      1168         1         1       390       778   \n",
       "707        50616      2500      2500      2000      2000      3200      2000   \n",
       "26514       -200         0         0         0         0         0       200   \n",
       "9360       93159     23128     40105     52221     71852     93218    179568   \n",
       "508        34661      2500      2000      1128      2500         0      2000   \n",
       "11695        390       390      1560         0         0         0       390   \n",
       "3359       67557      4000      4000      8000      6000         0      2500   \n",
       "21703       9270      1744      1537      1000       187       185         0   \n",
       "6563      110557      4988      7000      5000      5000      5000      5000   \n",
       "\n",
       "       default payment next month  \n",
       "ID                                 \n",
       "23464                           1  \n",
       "8080                            0  \n",
       "707                             0  \n",
       "26514                           1  \n",
       "9360                            0  \n",
       "508                             0  \n",
       "11695                           0  \n",
       "3359                            1  \n",
       "21703                           0  \n",
       "6563                            0  "
      ]
     },
     "execution_count": 1,
     "metadata": {},
     "output_type": "execute_result"
    }
   ],
   "source": [
    "import pandas as pd\n",
    "pd.set_option(\"display.max_columns\", None)\n",
    "\n",
    "url = 'https://archive.ics.uci.edu/ml/machine-learning-databases/00350/default%20of%20credit%20card%20clients.xls'\n",
    "df = pd.read_excel(io=url, header=1, index_col=0)\n",
    "df.sample(10)"
   ]
  },
  {
   "cell_type": "markdown",
   "metadata": {},
   "source": [
    "# Seleccionar Variables para el Modelo"
   ]
  },
  {
   "cell_type": "markdown",
   "metadata": {},
   "source": [
    "> 1.  Explicativas/Features/Input `X`\n",
    "> 2.  Objetivo/Class/Target `y`"
   ]
  },
  {
   "cell_type": "code",
   "execution_count": 2,
   "metadata": {},
   "outputs": [
    {
     "data": {
      "text/plain": [
       "LIMIT_BAL                     0\n",
       "SEX                           0\n",
       "EDUCATION                     0\n",
       "MARRIAGE                      0\n",
       "AGE                           0\n",
       "PAY_0                         0\n",
       "PAY_2                         0\n",
       "PAY_3                         0\n",
       "PAY_4                         0\n",
       "PAY_5                         0\n",
       "PAY_6                         0\n",
       "BILL_AMT1                     0\n",
       "BILL_AMT2                     0\n",
       "BILL_AMT3                     0\n",
       "BILL_AMT4                     0\n",
       "BILL_AMT5                     0\n",
       "BILL_AMT6                     0\n",
       "PAY_AMT1                      0\n",
       "PAY_AMT2                      0\n",
       "PAY_AMT3                      0\n",
       "PAY_AMT4                      0\n",
       "PAY_AMT5                      0\n",
       "PAY_AMT6                      0\n",
       "default payment next month    0\n",
       "dtype: int64"
      ]
     },
     "execution_count": 2,
     "metadata": {},
     "output_type": "execute_result"
    }
   ],
   "source": [
    "df.isna().sum()"
   ]
  },
  {
   "cell_type": "code",
   "execution_count": 3,
   "metadata": {},
   "outputs": [],
   "source": [
    "df = pd.get_dummies(df, drop_first=True)"
   ]
  },
  {
   "cell_type": "markdown",
   "metadata": {},
   "source": [
    "# Separar Datos en Train & Test"
   ]
  },
  {
   "cell_type": "markdown",
   "metadata": {},
   "source": [
    "> En el capítulo anterior vimos que la técnica `Train Test Split` se debe usar siempre que queramos ver cómo de bueno es nuestro modelo. En cualquier proyecto que tenga como objetivo calcular una variable de interés debemos separar los datos que ya tenemos en `Entrenamiento` y `Testeo`."
   ]
  },
  {
   "cell_type": "code",
   "execution_count": 4,
   "metadata": {},
   "outputs": [],
   "source": [
    "from sklearn.model_selection import train_test_split"
   ]
  },
  {
   "cell_type": "code",
   "execution_count": 5,
   "metadata": {},
   "outputs": [],
   "source": [
    "import pandas "
   ]
  },
  {
   "cell_type": "code",
   "execution_count": 6,
   "metadata": {},
   "outputs": [
    {
     "data": {
      "text/plain": [
       "<module 'pandas' from '/Users/monicagonzalezroyo/anaconda3/lib/python3.8/site-packages/pandas/__init__.py'>"
      ]
     },
     "execution_count": 6,
     "metadata": {},
     "output_type": "execute_result"
    }
   ],
   "source": [
    "pandas"
   ]
  },
  {
   "cell_type": "code",
   "execution_count": 7,
   "metadata": {},
   "outputs": [
    {
     "ename": "NameError",
     "evalue": "name 'sklearn' is not defined",
     "output_type": "error",
     "traceback": [
      "\u001b[0;31m---------------------------------------------------------------------------\u001b[0m",
      "\u001b[0;31mNameError\u001b[0m                                 Traceback (most recent call last)",
      "\u001b[0;32m<ipython-input-7-b3fcda1f768a>\u001b[0m in \u001b[0;36m<module>\u001b[0;34m\u001b[0m\n\u001b[0;32m----> 1\u001b[0;31m \u001b[0msklearn\u001b[0m\u001b[0;34m\u001b[0m\u001b[0;34m\u001b[0m\u001b[0m\n\u001b[0m",
      "\u001b[0;31mNameError\u001b[0m: name 'sklearn' is not defined"
     ]
    }
   ],
   "source": [
    "sklearn"
   ]
  },
  {
   "cell_type": "code",
   "execution_count": null,
   "metadata": {},
   "outputs": [],
   "source": [
    "import sklearn"
   ]
  },
  {
   "cell_type": "code",
   "execution_count": null,
   "metadata": {},
   "outputs": [],
   "source": [
    "sklearn.clone"
   ]
  },
  {
   "cell_type": "code",
   "execution_count": null,
   "metadata": {},
   "outputs": [],
   "source": [
    "df.train_test_split()"
   ]
  },
  {
   "cell_type": "code",
   "execution_count": null,
   "metadata": {},
   "outputs": [],
   "source": [
    "a = train_test_split(df)"
   ]
  },
  {
   "cell_type": "code",
   "execution_count": null,
   "metadata": {},
   "outputs": [],
   "source": [
    "type(a)"
   ]
  },
  {
   "cell_type": "code",
   "execution_count": null,
   "metadata": {},
   "outputs": [],
   "source": [
    "len(a)"
   ]
  },
  {
   "cell_type": "code",
   "execution_count": null,
   "metadata": {},
   "outputs": [],
   "source": [
    "a[0]"
   ]
  },
  {
   "cell_type": "code",
   "execution_count": null,
   "metadata": {},
   "outputs": [],
   "source": [
    "a[1]"
   ]
  },
  {
   "cell_type": "code",
   "execution_count": null,
   "metadata": {},
   "outputs": [],
   "source": [
    "objetivo = df.iloc[:, 23]"
   ]
  },
  {
   "cell_type": "code",
   "execution_count": null,
   "metadata": {},
   "outputs": [],
   "source": [
    "objetivo = df.iloc[:, -1]"
   ]
  },
  {
   "cell_type": "code",
   "execution_count": null,
   "metadata": {},
   "outputs": [],
   "source": [
    "explicativas = df.iloc[:, :-1]"
   ]
  },
  {
   "cell_type": "code",
   "execution_count": null,
   "metadata": {},
   "outputs": [],
   "source": [
    "explicativas"
   ]
  },
  {
   "cell_type": "code",
   "execution_count": null,
   "metadata": {},
   "outputs": [],
   "source": [
    "a = train_test_split(explicativas, objetivo, test_size=0.33, random_state=42)"
   ]
  },
  {
   "cell_type": "code",
   "execution_count": null,
   "metadata": {},
   "outputs": [],
   "source": [
    "X_train, X_test, y_train, y_test = train_test_split(explicativas, objetivo, test_size=0.33, random_state=42)"
   ]
  },
  {
   "cell_type": "code",
   "execution_count": null,
   "metadata": {},
   "outputs": [],
   "source": [
    "a = 'hola'"
   ]
  },
  {
   "cell_type": "code",
   "execution_count": null,
   "metadata": {},
   "outputs": [],
   "source": [
    "a"
   ]
  },
  {
   "cell_type": "markdown",
   "metadata": {},
   "source": [
    "# Árbol de Decisión con Hiperparámetros por Defecto"
   ]
  },
  {
   "cell_type": "markdown",
   "metadata": {},
   "source": [
    "> El objetivo de este tópico es configurar los hiperparámetros para lograr una mayor precisión en los datos de `Testeo`. De momento, vamos a ver cómo se comporta el modelo con los hiperparámetros por defecto."
   ]
  },
  {
   "cell_type": "code",
   "execution_count": 8,
   "metadata": {},
   "outputs": [],
   "source": [
    "from sklearn.tree import DecisionTreeClassifier"
   ]
  },
  {
   "cell_type": "code",
   "execution_count": 9,
   "metadata": {},
   "outputs": [],
   "source": [
    "model = DecisionTreeClassifier(min_samples_leaf=15)"
   ]
  },
  {
   "cell_type": "code",
   "execution_count": 10,
   "metadata": {},
   "outputs": [
    {
     "ename": "NameError",
     "evalue": "name 'X_train' is not defined",
     "output_type": "error",
     "traceback": [
      "\u001b[0;31m---------------------------------------------------------------------------\u001b[0m",
      "\u001b[0;31mNameError\u001b[0m                                 Traceback (most recent call last)",
      "\u001b[0;32m<ipython-input-10-d768f88d541e>\u001b[0m in \u001b[0;36m<module>\u001b[0;34m\u001b[0m\n\u001b[0;32m----> 1\u001b[0;31m \u001b[0mmodel\u001b[0m\u001b[0;34m.\u001b[0m\u001b[0mfit\u001b[0m\u001b[0;34m(\u001b[0m\u001b[0mX_train\u001b[0m\u001b[0;34m,\u001b[0m \u001b[0my_train\u001b[0m\u001b[0;34m)\u001b[0m\u001b[0;34m\u001b[0m\u001b[0;34m\u001b[0m\u001b[0m\n\u001b[0m",
      "\u001b[0;31mNameError\u001b[0m: name 'X_train' is not defined"
     ]
    }
   ],
   "source": [
    "model.fit(X_train, y_train)"
   ]
  },
  {
   "cell_type": "markdown",
   "metadata": {},
   "source": [
    "## Precisión"
   ]
  },
  {
   "cell_type": "markdown",
   "metadata": {},
   "source": [
    "> Tanto en los datos de `Entrenamiento` como de `Testeo`."
   ]
  },
  {
   "cell_type": "code",
   "execution_count": 28,
   "metadata": {},
   "outputs": [
    {
     "data": {
      "text/plain": [
       "0.8505472636815921"
      ]
     },
     "execution_count": 28,
     "metadata": {},
     "output_type": "execute_result"
    }
   ],
   "source": [
    "model.score(X_train, y_train)"
   ]
  },
  {
   "cell_type": "code",
   "execution_count": 29,
   "metadata": {},
   "outputs": [
    {
     "data": {
      "text/plain": [
       "0.785959595959596"
      ]
     },
     "execution_count": 29,
     "metadata": {},
     "output_type": "execute_result"
    }
   ],
   "source": [
    "model.score(X_test, y_test)"
   ]
  },
  {
   "cell_type": "markdown",
   "metadata": {},
   "source": [
    "## Visualización del Árbol"
   ]
  },
  {
   "cell_type": "markdown",
   "metadata": {},
   "source": [
    "> Interpretamos las precisiones a través de la visualización."
   ]
  },
  {
   "cell_type": "code",
   "execution_count": 30,
   "metadata": {},
   "outputs": [],
   "source": [
    "from sklearn.tree import plot_tree"
   ]
  },
  {
   "cell_type": "markdown",
   "metadata": {},
   "source": [
    "# Árbol de Decisión cambiando Algunos Hiperparámetros"
   ]
  },
  {
   "cell_type": "markdown",
   "metadata": {},
   "source": [
    "> Usaremos las siguientes líneas de código para ver qué hiperparámetros podríamos configurar:\n",
    "\n",
    "```python\n",
    "model = DecisionTreeClassifier()\n",
    "model.get_params()\n",
    "```\n",
    "\n",
    "> Debemos realizar al menos 5 configuraciones diferentes."
   ]
  },
  {
   "cell_type": "code",
   "execution_count": null,
   "metadata": {},
   "outputs": [],
   "source": []
  },
  {
   "cell_type": "markdown",
   "metadata": {},
   "source": [
    "## 1a Configuración"
   ]
  },
  {
   "cell_type": "code",
   "execution_count": 31,
   "metadata": {},
   "outputs": [],
   "source": [
    "model = DecisionTreeClassifier(min_samples_leaf=50)"
   ]
  },
  {
   "cell_type": "code",
   "execution_count": 33,
   "metadata": {},
   "outputs": [
    {
     "data": {
      "text/plain": [
       "DecisionTreeClassifier(min_samples_leaf=50)"
      ]
     },
     "execution_count": 33,
     "metadata": {},
     "output_type": "execute_result"
    }
   ],
   "source": [
    "model.fit(X_train, y_train)"
   ]
  },
  {
   "cell_type": "markdown",
   "metadata": {},
   "source": [
    "## Precisión"
   ]
  },
  {
   "cell_type": "markdown",
   "metadata": {},
   "source": [
    "> Tanto en los datos de `Entrenamiento` como de `Testeo`."
   ]
  },
  {
   "cell_type": "code",
   "execution_count": 34,
   "metadata": {},
   "outputs": [
    {
     "data": {
      "text/plain": [
       "0.827363184079602"
      ]
     },
     "execution_count": 34,
     "metadata": {},
     "output_type": "execute_result"
    }
   ],
   "source": [
    "model.score(X_train, y_train)"
   ]
  },
  {
   "cell_type": "code",
   "execution_count": 35,
   "metadata": {},
   "outputs": [
    {
     "data": {
      "text/plain": [
       "0.8145454545454546"
      ]
     },
     "execution_count": 35,
     "metadata": {},
     "output_type": "execute_result"
    }
   ],
   "source": [
    "model.score(X_test, y_test)"
   ]
  },
  {
   "cell_type": "markdown",
   "metadata": {},
   "source": [
    "## Visualización del Árbol"
   ]
  },
  {
   "cell_type": "markdown",
   "metadata": {},
   "source": [
    "> Interpretamos las precisiones a través de la visualización."
   ]
  },
  {
   "cell_type": "code",
   "execution_count": 36,
   "metadata": {},
   "outputs": [],
   "source": [
    "from sklearn.tree import plot_tree"
   ]
  },
  {
   "cell_type": "code",
   "execution_count": 37,
   "metadata": {},
   "outputs": [
    {
     "data": {
      "image/png": "[encoded data removed]",
      "text/plain": [
       "<Figure size 432x288 with 1 Axes>"
      ]
     },
     "metadata": {
      "needs_background": "light"
     },
     "output_type": "display_data"
    }
   ],
   "source": [
    "plot_tree(decision_tree=model, feature_names=X_train.columns, filled=True);"
   ]
  },
  {
   "cell_type": "markdown",
   "metadata": {},
   "source": [
    "## 2a Configuración"
   ]
  },
  {
   "cell_type": "code",
   "execution_count": 40,
   "metadata": {},
   "outputs": [],
   "source": [
    "model = DecisionTreeClassifier(min_samples_leaf=100)"
   ]
  },
  {
   "cell_type": "code",
   "execution_count": 41,
   "metadata": {},
   "outputs": [
    {
     "data": {
      "text/plain": [
       "DecisionTreeClassifier(min_samples_leaf=100)"
      ]
     },
     "execution_count": 41,
     "metadata": {},
     "output_type": "execute_result"
    }
   ],
   "source": [
    "model.fit(X_train, y_train)"
   ]
  },
  {
   "cell_type": "markdown",
   "metadata": {},
   "source": [
    "## Precisión"
   ]
  },
  {
   "cell_type": "markdown",
   "metadata": {},
   "source": [
    "> Tanto en los datos de `Entrenamiento` como de `Testeo`."
   ]
  },
  {
   "cell_type": "code",
   "execution_count": 42,
   "metadata": {},
   "outputs": [
    {
     "data": {
      "text/plain": [
       "0.8244278606965174"
      ]
     },
     "execution_count": 42,
     "metadata": {},
     "output_type": "execute_result"
    }
   ],
   "source": [
    "model.score(X_train, y_train)"
   ]
  },
  {
   "cell_type": "code",
   "execution_count": 43,
   "metadata": {},
   "outputs": [
    {
     "data": {
      "text/plain": [
       "0.8161616161616162"
      ]
     },
     "execution_count": 43,
     "metadata": {},
     "output_type": "execute_result"
    }
   ],
   "source": [
    "model.score(X_test, y_test)"
   ]
  },
  {
   "cell_type": "markdown",
   "metadata": {},
   "source": [
    "## Visualización del Árbol"
   ]
  },
  {
   "cell_type": "markdown",
   "metadata": {},
   "source": [
    "> Interpretamos las precisiones a través de la visualización."
   ]
  },
  {
   "cell_type": "code",
   "execution_count": 44,
   "metadata": {},
   "outputs": [],
   "source": [
    "from sklearn.tree import plot_tree"
   ]
  },
  {
   "cell_type": "code",
   "execution_count": 45,
   "metadata": {},
   "outputs": [
    {
     "data": {
      "image/png": "[encoded data removed]",
      "text/plain": [
       "<Figure size 432x288 with 1 Axes>"
      ]
     },
     "metadata": {
      "needs_background": "light"
     },
     "output_type": "display_data"
    }
   ],
   "source": [
    "plot_tree(decision_tree=model, feature_names=X_train.columns, filled=True);"
   ]
  },
  {
   "cell_type": "markdown",
   "metadata": {},
   "source": [
    "## 3a Configuración"
   ]
  },
  {
   "cell_type": "code",
   "execution_count": 46,
   "metadata": {},
   "outputs": [],
   "source": [
    "model = DecisionTreeClassifier(min_samples_leaf=500)"
   ]
  },
  {
   "cell_type": "code",
   "execution_count": 47,
   "metadata": {},
   "outputs": [
    {
     "data": {
      "text/plain": [
       "DecisionTreeClassifier(min_samples_leaf=500)"
      ]
     },
     "execution_count": 47,
     "metadata": {},
     "output_type": "execute_result"
    }
   ],
   "source": [
    "model.fit(X_train, y_train)"
   ]
  },
  {
   "cell_type": "markdown",
   "metadata": {},
   "source": [
    "## Precisión"
   ]
  },
  {
   "cell_type": "markdown",
   "metadata": {},
   "source": [
    "> Tanto en los datos de `Entrenamiento` como de `Testeo`."
   ]
  },
  {
   "cell_type": "code",
   "execution_count": 48,
   "metadata": {},
   "outputs": [
    {
     "data": {
      "text/plain": [
       "0.8186567164179105"
      ]
     },
     "execution_count": 48,
     "metadata": {},
     "output_type": "execute_result"
    }
   ],
   "source": [
    "model.score(X_train, y_train)"
   ]
  },
  {
   "cell_type": "code",
   "execution_count": 49,
   "metadata": {},
   "outputs": [
    {
     "data": {
      "text/plain": [
       "0.8215151515151515"
      ]
     },
     "execution_count": 49,
     "metadata": {},
     "output_type": "execute_result"
    }
   ],
   "source": [
    "model.score(X_test, y_test)"
   ]
  },
  {
   "cell_type": "markdown",
   "metadata": {},
   "source": [
    "## Visualización del Árbol"
   ]
  },
  {
   "cell_type": "markdown",
   "metadata": {},
   "source": [
    "> Interpretamos las precisiones a través de la visualización."
   ]
  },
  {
   "cell_type": "code",
   "execution_count": 50,
   "metadata": {},
   "outputs": [],
   "source": [
    "from sklearn.tree import plot_tree"
   ]
  },
  {
   "cell_type": "code",
   "execution_count": 51,
   "metadata": {},
   "outputs": [
    {
     "data": {
      "image/png": "[encoded data removed]",
      "text/plain": [
       "<Figure size 432x288 with 1 Axes>"
      ]
     },
     "metadata": {
      "needs_background": "light"
     },
     "output_type": "display_data"
    }
   ],
   "source": [
    "plot_tree(decision_tree=model, feature_names=X_train.columns, filled=True);"
   ]
  },
  {
   "cell_type": "markdown",
   "metadata": {},
   "source": [
    "## 4a Configuración"
   ]
  },
  {
   "cell_type": "code",
   "execution_count": 52,
   "metadata": {},
   "outputs": [],
   "source": [
    "model = DecisionTreeClassifier(min_samples_leaf=700)"
   ]
  },
  {
   "cell_type": "code",
   "execution_count": 53,
   "metadata": {},
   "outputs": [
    {
     "data": {
      "text/plain": [
       "DecisionTreeClassifier(min_samples_leaf=700)"
      ]
     },
     "execution_count": 53,
     "metadata": {},
     "output_type": "execute_result"
    }
   ],
   "source": [
    "model.fit(X_train, y_train)"
   ]
  },
  {
   "cell_type": "markdown",
   "metadata": {},
   "source": [
    "## Precisión"
   ]
  },
  {
   "cell_type": "markdown",
   "metadata": {},
   "source": [
    "> Tanto en los datos de `Entrenamiento` como de `Testeo`."
   ]
  },
  {
   "cell_type": "code",
   "execution_count": 54,
   "metadata": {},
   "outputs": [
    {
     "data": {
      "text/plain": [
       "0.8186567164179105"
      ]
     },
     "execution_count": 54,
     "metadata": {},
     "output_type": "execute_result"
    }
   ],
   "source": [
    "model.score(X_train, y_train)"
   ]
  },
  {
   "cell_type": "code",
   "execution_count": 55,
   "metadata": {},
   "outputs": [
    {
     "data": {
      "text/plain": [
       "0.8215151515151515"
      ]
     },
     "execution_count": 55,
     "metadata": {},
     "output_type": "execute_result"
    }
   ],
   "source": [
    "model.score(X_test, y_test)"
   ]
  },
  {
   "cell_type": "markdown",
   "metadata": {},
   "source": [
    "## Visualización del Árbol"
   ]
  },
  {
   "cell_type": "markdown",
   "metadata": {},
   "source": [
    "> Interpretamos las precisiones a través de la visualización."
   ]
  },
  {
   "cell_type": "code",
   "execution_count": 56,
   "metadata": {},
   "outputs": [],
   "source": [
    "from sklearn.tree import plot_tree"
   ]
  },
  {
   "cell_type": "code",
   "execution_count": 57,
   "metadata": {},
   "outputs": [
    {
     "data": {
      "image/png": "[encoded data removed]",
      "text/plain": [
       "<Figure size 432x288 with 1 Axes>"
      ]
     },
     "metadata": {
      "needs_background": "light"
     },
     "output_type": "display_data"
    }
   ],
   "source": [
    "plot_tree(decision_tree=model, feature_names=X_train.columns, filled=True);"
   ]
  },
  {
   "cell_type": "markdown",
   "metadata": {},
   "source": [
    "## 5a Configuración"
   ]
  },
  {
   "cell_type": "code",
   "execution_count": 58,
   "metadata": {},
   "outputs": [],
   "source": [
    "model = DecisionTreeClassifier(max_depth=2)"
   ]
  },
  {
   "cell_type": "code",
   "execution_count": 59,
   "metadata": {},
   "outputs": [
    {
     "data": {
      "text/plain": [
       "DecisionTreeClassifier(max_depth=2)"
      ]
     },
     "execution_count": 59,
     "metadata": {},
     "output_type": "execute_result"
    }
   ],
   "source": [
    "model.fit(X_train, y_train)"
   ]
  },
  {
   "cell_type": "markdown",
   "metadata": {},
   "source": [
    "## Precisión"
   ]
  },
  {
   "cell_type": "markdown",
   "metadata": {},
   "source": [
    "> Tanto en los datos de `Entrenamiento` como de `Testeo`."
   ]
  },
  {
   "cell_type": "code",
   "execution_count": 60,
   "metadata": {},
   "outputs": [
    {
     "data": {
      "text/plain": [
       "0.819452736318408"
      ]
     },
     "execution_count": 60,
     "metadata": {},
     "output_type": "execute_result"
    }
   ],
   "source": [
    "model.score(X_train, y_train)"
   ]
  },
  {
   "cell_type": "code",
   "execution_count": 61,
   "metadata": {},
   "outputs": [
    {
     "data": {
      "text/plain": [
       "0.8215151515151515"
      ]
     },
     "execution_count": 61,
     "metadata": {},
     "output_type": "execute_result"
    }
   ],
   "source": [
    "model.score(X_test, y_test)"
   ]
  },
  {
   "cell_type": "markdown",
   "metadata": {},
   "source": [
    "## Visualización del Árbol"
   ]
  },
  {
   "cell_type": "markdown",
   "metadata": {},
   "source": [
    "> Interpretamos las precisiones a través de la visualización."
   ]
  },
  {
   "cell_type": "code",
   "execution_count": 62,
   "metadata": {},
   "outputs": [],
   "source": [
    "from sklearn.tree import plot_tree"
   ]
  },
  {
   "cell_type": "code",
   "execution_count": 63,
   "metadata": {},
   "outputs": [
    {
     "data": {
      "image/png": "[encoded data removed]",
      "text/plain": [
       "<Figure size 432x288 with 1 Axes>"
      ]
     },
     "metadata": {
      "needs_background": "light"
     },
     "output_type": "display_data"
    }
   ],
   "source": [
    "plot_tree(decision_tree=model, feature_names=X_train.columns, filled=True);"
   ]
  },
  {
   "cell_type": "markdown",
   "metadata": {},
   "source": [
    "# Cross Validation para Seleccionar Mejores Hiperparámetros del Árbol de Decisión"
   ]
  },
  {
   "cell_type": "markdown",
   "metadata": {},
   "source": [
    "> Obviamente, existe un método para probar diferentes configuraciones de hiperparámetros. Accedemos a él a través del objeto `GridSearchCV`."
   ]
  },
  {
   "cell_type": "code",
   "execution_count": 64,
   "metadata": {},
   "outputs": [],
   "source": [
    "from sklearn.model_selection import GridSearchCV"
   ]
  },
  {
   "cell_type": "code",
   "execution_count": 65,
   "metadata": {},
   "outputs": [],
   "source": [
    "dt = DecisionTreeClassifier()"
   ]
  },
  {
   "cell_type": "code",
   "execution_count": 68,
   "metadata": {},
   "outputs": [],
   "source": [
    "cv = GridSearchCV(estimator=dt, param_grid={'max_depth': [2,3,4,5,None], 'min_samples_leaf': [50, 100, 200, 400, 800]}, verbose=2)"
   ]
  },
  {
   "cell_type": "code",
   "execution_count": 69,
   "metadata": {},
   "outputs": [
    {
     "name": "stdout",
     "output_type": "stream",
     "text": [
      "Fitting 5 folds for each of 25 candidates, totalling 125 fits\n",
      "[CV] END ...................max_depth=2, min_samples_leaf=50; total time=   0.1s\n",
      "[CV] END ...................max_depth=2, min_samples_leaf=50; total time=   0.0s\n",
      "[CV] END ...................max_depth=2, min_samples_leaf=50; total time=   0.0s\n",
      "[CV] END ...................max_depth=2, min_samples_leaf=50; total time=   0.0s\n",
      "[CV] END ...................max_depth=2, min_samples_leaf=50; total time=   0.0s\n",
      "[CV] END ..................max_depth=2, min_samples_leaf=100; total time=   0.0s\n",
      "[CV] END ..................max_depth=2, min_samples_leaf=100; total time=   0.0s\n",
      "[CV] END ..................max_depth=2, min_samples_leaf=100; total time=   0.0s\n",
      "[CV] END ..................max_depth=2, min_samples_leaf=100; total time=   0.0s\n",
      "[CV] END ..................max_depth=2, min_samples_leaf=100; total time=   0.0s\n",
      "[CV] END ..................max_depth=2, min_samples_leaf=200; total time=   0.0s\n",
      "[CV] END ..................max_depth=2, min_samples_leaf=200; total time=   0.0s\n",
      "[CV] END ..................max_depth=2, min_samples_leaf=200; total time=   0.0s\n",
      "[CV] END ..................max_depth=2, min_samples_leaf=200; total time=   0.0s\n",
      "[CV] END ..................max_depth=2, min_samples_leaf=200; total time=   0.0s\n",
      "[CV] END ..................max_depth=2, min_samples_leaf=400; total time=   0.0s\n",
      "[CV] END ..................max_depth=2, min_samples_leaf=400; total time=   0.0s\n",
      "[CV] END ..................max_depth=2, min_samples_leaf=400; total time=   0.0s\n",
      "[CV] END ..................max_depth=2, min_samples_leaf=400; total time=   0.0s\n",
      "[CV] END ..................max_depth=2, min_samples_leaf=400; total time=   0.0s\n",
      "[CV] END ..................max_depth=2, min_samples_leaf=800; total time=   0.0s\n",
      "[CV] END ..................max_depth=2, min_samples_leaf=800; total time=   0.0s\n",
      "[CV] END ..................max_depth=2, min_samples_leaf=800; total time=   0.0s\n",
      "[CV] END ..................max_depth=2, min_samples_leaf=800; total time=   0.0s\n",
      "[CV] END ..................max_depth=2, min_samples_leaf=800; total time=   0.0s\n",
      "[CV] END ...................max_depth=3, min_samples_leaf=50; total time=   0.0s\n",
      "[CV] END ...................max_depth=3, min_samples_leaf=50; total time=   0.0s\n",
      "[CV] END ...................max_depth=3, min_samples_leaf=50; total time=   0.0s\n",
      "[CV] END ...................max_depth=3, min_samples_leaf=50; total time=   0.0s\n",
      "[CV] END ...................max_depth=3, min_samples_leaf=50; total time=   0.1s\n",
      "[CV] END ..................max_depth=3, min_samples_leaf=100; total time=   0.0s\n",
      "[CV] END ..................max_depth=3, min_samples_leaf=100; total time=   0.0s\n",
      "[CV] END ..................max_depth=3, min_samples_leaf=100; total time=   0.0s\n",
      "[CV] END ..................max_depth=3, min_samples_leaf=100; total time=   0.0s\n",
      "[CV] END ..................max_depth=3, min_samples_leaf=100; total time=   0.0s\n",
      "[CV] END ..................max_depth=3, min_samples_leaf=200; total time=   0.0s\n",
      "[CV] END ..................max_depth=3, min_samples_leaf=200; total time=   0.0s\n",
      "[CV] END ..................max_depth=3, min_samples_leaf=200; total time=   0.0s\n",
      "[CV] END ..................max_depth=3, min_samples_leaf=200; total time=   0.0s\n",
      "[CV] END ..................max_depth=3, min_samples_leaf=200; total time=   0.0s\n",
      "[CV] END ..................max_depth=3, min_samples_leaf=400; total time=   0.0s\n",
      "[CV] END ..................max_depth=3, min_samples_leaf=400; total time=   0.0s\n",
      "[CV] END ..................max_depth=3, min_samples_leaf=400; total time=   0.0s\n",
      "[CV] END ..................max_depth=3, min_samples_leaf=400; total time=   0.0s\n",
      "[CV] END ..................max_depth=3, min_samples_leaf=400; total time=   0.0s\n",
      "[CV] END ..................max_depth=3, min_samples_leaf=800; total time=   0.0s\n",
      "[CV] END ..................max_depth=3, min_samples_leaf=800; total time=   0.0s\n",
      "[CV] END ..................max_depth=3, min_samples_leaf=800; total time=   0.0s\n",
      "[CV] END ..................max_depth=3, min_samples_leaf=800; total time=   0.0s\n",
      "[CV] END ..................max_depth=3, min_samples_leaf=800; total time=   0.0s\n",
      "[CV] END ...................max_depth=4, min_samples_leaf=50; total time=   0.1s\n",
      "[CV] END ...................max_depth=4, min_samples_leaf=50; total time=   0.1s\n",
      "[CV] END ...................max_depth=4, min_samples_leaf=50; total time=   0.1s\n",
      "[CV] END ...................max_depth=4, min_samples_leaf=50; total time=   0.1s\n",
      "[CV] END ...................max_depth=4, min_samples_leaf=50; total time=   0.1s\n",
      "[CV] END ..................max_depth=4, min_samples_leaf=100; total time=   0.1s\n",
      "[CV] END ..................max_depth=4, min_samples_leaf=100; total time=   0.1s\n",
      "[CV] END ..................max_depth=4, min_samples_leaf=100; total time=   0.1s\n",
      "[CV] END ..................max_depth=4, min_samples_leaf=100; total time=   0.1s\n",
      "[CV] END ..................max_depth=4, min_samples_leaf=100; total time=   0.1s\n",
      "[CV] END ..................max_depth=4, min_samples_leaf=200; total time=   0.1s\n",
      "[CV] END ..................max_depth=4, min_samples_leaf=200; total time=   0.1s\n",
      "[CV] END ..................max_depth=4, min_samples_leaf=200; total time=   0.1s\n",
      "[CV] END ..................max_depth=4, min_samples_leaf=200; total time=   0.1s\n",
      "[CV] END ..................max_depth=4, min_samples_leaf=200; total time=   0.1s\n",
      "[CV] END ..................max_depth=4, min_samples_leaf=400; total time=   0.1s\n",
      "[CV] END ..................max_depth=4, min_samples_leaf=400; total time=   0.1s\n",
      "[CV] END ..................max_depth=4, min_samples_leaf=400; total time=   0.1s\n",
      "[CV] END ..................max_depth=4, min_samples_leaf=400; total time=   0.1s\n",
      "[CV] END ..................max_depth=4, min_samples_leaf=400; total time=   0.1s\n",
      "[CV] END ..................max_depth=4, min_samples_leaf=800; total time=   0.1s\n",
      "[CV] END ..................max_depth=4, min_samples_leaf=800; total time=   0.1s\n",
      "[CV] END ..................max_depth=4, min_samples_leaf=800; total time=   0.1s\n",
      "[CV] END ..................max_depth=4, min_samples_leaf=800; total time=   0.1s\n",
      "[CV] END ..................max_depth=4, min_samples_leaf=800; total time=   0.1s\n",
      "[CV] END ...................max_depth=5, min_samples_leaf=50; total time=   0.1s\n",
      "[CV] END ...................max_depth=5, min_samples_leaf=50; total time=   0.1s\n",
      "[CV] END ...................max_depth=5, min_samples_leaf=50; total time=   0.1s\n",
      "[CV] END ...................max_depth=5, min_samples_leaf=50; total time=   0.1s\n",
      "[CV] END ...................max_depth=5, min_samples_leaf=50; total time=   0.1s\n",
      "[CV] END ..................max_depth=5, min_samples_leaf=100; total time=   0.1s\n",
      "[CV] END ..................max_depth=5, min_samples_leaf=100; total time=   0.1s\n",
      "[CV] END ..................max_depth=5, min_samples_leaf=100; total time=   0.1s\n",
      "[CV] END ..................max_depth=5, min_samples_leaf=100; total time=   0.1s\n",
      "[CV] END ..................max_depth=5, min_samples_leaf=100; total time=   0.1s\n",
      "[CV] END ..................max_depth=5, min_samples_leaf=200; total time=   0.1s\n",
      "[CV] END ..................max_depth=5, min_samples_leaf=200; total time=   0.1s\n",
      "[CV] END ..................max_depth=5, min_samples_leaf=200; total time=   0.1s\n",
      "[CV] END ..................max_depth=5, min_samples_leaf=200; total time=   0.1s\n",
      "[CV] END ..................max_depth=5, min_samples_leaf=200; total time=   0.1s\n",
      "[CV] END ..................max_depth=5, min_samples_leaf=400; total time=   0.1s\n",
      "[CV] END ..................max_depth=5, min_samples_leaf=400; total time=   0.1s\n",
      "[CV] END ..................max_depth=5, min_samples_leaf=400; total time=   0.1s\n",
      "[CV] END ..................max_depth=5, min_samples_leaf=400; total time=   0.1s\n",
      "[CV] END ..................max_depth=5, min_samples_leaf=400; total time=   0.1s\n",
      "[CV] END ..................max_depth=5, min_samples_leaf=800; total time=   0.1s\n",
      "[CV] END ..................max_depth=5, min_samples_leaf=800; total time=   0.1s\n",
      "[CV] END ..................max_depth=5, min_samples_leaf=800; total time=   0.1s\n",
      "[CV] END ..................max_depth=5, min_samples_leaf=800; total time=   0.1s\n",
      "[CV] END ..................max_depth=5, min_samples_leaf=800; total time=   0.1s\n",
      "[CV] END ................max_depth=None, min_samples_leaf=50; total time=   0.2s\n",
      "[CV] END ................max_depth=None, min_samples_leaf=50; total time=   0.2s\n",
      "[CV] END ................max_depth=None, min_samples_leaf=50; total time=   0.2s\n",
      "[CV] END ................max_depth=None, min_samples_leaf=50; total time=   0.2s\n",
      "[CV] END ................max_depth=None, min_samples_leaf=50; total time=   0.2s\n",
      "[CV] END ...............max_depth=None, min_samples_leaf=100; total time=   0.1s\n",
      "[CV] END ...............max_depth=None, min_samples_leaf=100; total time=   0.2s\n",
      "[CV] END ...............max_depth=None, min_samples_leaf=100; total time=   0.1s\n",
      "[CV] END ...............max_depth=None, min_samples_leaf=100; total time=   0.1s\n",
      "[CV] END ...............max_depth=None, min_samples_leaf=100; total time=   0.1s\n",
      "[CV] END ...............max_depth=None, min_samples_leaf=200; total time=   0.1s\n",
      "[CV] END ...............max_depth=None, min_samples_leaf=200; total time=   0.1s\n",
      "[CV] END ...............max_depth=None, min_samples_leaf=200; total time=   0.1s\n",
      "[CV] END ...............max_depth=None, min_samples_leaf=200; total time=   0.1s\n",
      "[CV] END ...............max_depth=None, min_samples_leaf=200; total time=   0.1s\n",
      "[CV] END ...............max_depth=None, min_samples_leaf=400; total time=   0.1s\n",
      "[CV] END ...............max_depth=None, min_samples_leaf=400; total time=   0.1s\n",
      "[CV] END ...............max_depth=None, min_samples_leaf=400; total time=   0.1s\n",
      "[CV] END ...............max_depth=None, min_samples_leaf=400; total time=   0.1s\n",
      "[CV] END ...............max_depth=None, min_samples_leaf=400; total time=   0.1s\n",
      "[CV] END ...............max_depth=None, min_samples_leaf=800; total time=   0.1s\n",
      "[CV] END ...............max_depth=None, min_samples_leaf=800; total time=   0.1s\n",
      "[CV] END ...............max_depth=None, min_samples_leaf=800; total time=   0.1s\n",
      "[CV] END ...............max_depth=None, min_samples_leaf=800; total time=   0.1s\n",
      "[CV] END ...............max_depth=None, min_samples_leaf=800; total time=   0.1s\n"
     ]
    },
    {
     "data": {
      "text/plain": [
       "GridSearchCV(estimator=DecisionTreeClassifier(),\n",
       "             param_grid={'max_depth': [2, 3, 4, 5, None],\n",
       "                         'min_samples_leaf': [50, 100, 200, 400, 800]},\n",
       "             verbose=2)"
      ]
     },
     "execution_count": 69,
     "metadata": {},
     "output_type": "execute_result"
    }
   ],
   "source": [
    "cv.fit(X_train, y_train)"
   ]
  },
  {
   "cell_type": "code",
   "execution_count": 70,
   "metadata": {},
   "outputs": [
    {
     "data": {
      "text/plain": [
       "DecisionTreeClassifier(max_depth=5, min_samples_leaf=50)"
      ]
     },
     "execution_count": 70,
     "metadata": {},
     "output_type": "execute_result"
    }
   ],
   "source": [
    "cv.best_estimator_"
   ]
  },
  {
   "cell_type": "code",
   "execution_count": 71,
   "metadata": {},
   "outputs": [],
   "source": [
    "dt = DecisionTreeClassifier(max_depth=5, min_samples_leaf=50)"
   ]
  },
  {
   "cell_type": "code",
   "execution_count": 72,
   "metadata": {},
   "outputs": [
    {
     "data": {
      "text/plain": [
       "DecisionTreeClassifier(max_depth=5, min_samples_leaf=50)"
      ]
     },
     "execution_count": 72,
     "metadata": {},
     "output_type": "execute_result"
    }
   ],
   "source": [
    "dt.fit(X_train, y_train)"
   ]
  },
  {
   "cell_type": "code",
   "execution_count": 73,
   "metadata": {},
   "outputs": [
    {
     "data": {
      "text/plain": [
       "0.819452736318408"
      ]
     },
     "execution_count": 73,
     "metadata": {},
     "output_type": "execute_result"
    }
   ],
   "source": [
    "model.score(X_train, y_train)"
   ]
  },
  {
   "cell_type": "code",
   "execution_count": 74,
   "metadata": {},
   "outputs": [
    {
     "data": {
      "text/plain": [
       "0.8215151515151515"
      ]
     },
     "execution_count": 74,
     "metadata": {},
     "output_type": "execute_result"
    }
   ],
   "source": [
    "model.score(X_test, y_test)"
   ]
  },
  {
   "cell_type": "markdown",
   "metadata": {},
   "source": [
    "# Configurar Hiperparámetros de Otros Modelos"
   ]
  },
  {
   "cell_type": "markdown",
   "metadata": {},
   "source": [
    "## Support Vector Machines"
   ]
  },
  {
   "cell_type": "markdown",
   "metadata": {},
   "source": [
    "> Veamos cuál es la mejor configuración del objeto `SVC()` para predecir estos datos."
   ]
  },
  {
   "cell_type": "code",
   "execution_count": null,
   "metadata": {},
   "outputs": [],
   "source": [
    "from skl"
   ]
  },
  {
   "cell_type": "code",
   "execution_count": null,
   "metadata": {},
   "outputs": [],
   "source": []
  },
  {
   "cell_type": "markdown",
   "metadata": {},
   "source": [
    "## K Nearest Neighbours"
   ]
  },
  {
   "cell_type": "markdown",
   "metadata": {},
   "source": [
    "> Veamos cuál es la mejor configuración del objeto `KNeighborsClassifier()` para predecir estos datos."
   ]
  },
  {
   "cell_type": "code",
   "execution_count": 75,
   "metadata": {},
   "outputs": [],
   "source": [
    "from sklearn.neighbors import KNeighborsClassifier"
   ]
  },
  {
   "cell_type": "code",
   "execution_count": 76,
   "metadata": {},
   "outputs": [],
   "source": [
    "kn = KNeighborsClassifier()"
   ]
  },
  {
   "cell_type": "code",
   "execution_count": 77,
   "metadata": {},
   "outputs": [
    {
     "data": {
      "text/plain": [
       "{'algorithm': 'auto',\n",
       " 'leaf_size': 30,\n",
       " 'metric': 'minkowski',\n",
       " 'metric_params': None,\n",
       " 'n_jobs': None,\n",
       " 'n_neighbors': 5,\n",
       " 'p': 2,\n",
       " 'weights': 'uniform'}"
      ]
     },
     "execution_count": 77,
     "metadata": {},
     "output_type": "execute_result"
    }
   ],
   "source": [
    "kn.get_params()"
   ]
  },
  {
   "cell_type": "code",
   "execution_count": 79,
   "metadata": {},
   "outputs": [],
   "source": [
    "cvkn = GridSearchCV(estimator=kn, param_grid={'n_neighbors': [5,10,20,40,80]}, verbose=2)"
   ]
  },
  {
   "cell_type": "code",
   "execution_count": 80,
   "metadata": {},
   "outputs": [
    {
     "name": "stdout",
     "output_type": "stream",
     "text": [
      "Fitting 5 folds for each of 5 candidates, totalling 25 fits\n",
      "[CV] END ......................................n_neighbors=5; total time=   1.2s\n",
      "[CV] END ......................................n_neighbors=5; total time=   1.1s\n",
      "[CV] END ......................................n_neighbors=5; total time=   1.0s\n",
      "[CV] END ......................................n_neighbors=5; total time=   1.0s\n",
      "[CV] END ......................................n_neighbors=5; total time=   1.0s\n",
      "[CV] END .....................................n_neighbors=10; total time=   1.1s\n",
      "[CV] END .....................................n_neighbors=10; total time=   1.0s\n",
      "[CV] END .....................................n_neighbors=10; total time=   1.0s\n",
      "[CV] END .....................................n_neighbors=10; total time=   1.0s\n",
      "[CV] END .....................................n_neighbors=10; total time=   1.0s\n",
      "[CV] END .....................................n_neighbors=20; total time=   1.1s\n",
      "[CV] END .....................................n_neighbors=20; total time=   1.0s\n",
      "[CV] END .....................................n_neighbors=20; total time=   1.0s\n",
      "[CV] END .....................................n_neighbors=20; total time=   1.0s\n",
      "[CV] END .....................................n_neighbors=20; total time=   1.0s\n",
      "[CV] END .....................................n_neighbors=40; total time=   1.1s\n",
      "[CV] END .....................................n_neighbors=40; total time=   1.0s\n",
      "[CV] END .....................................n_neighbors=40; total time=   1.0s\n",
      "[CV] END .....................................n_neighbors=40; total time=   1.0s\n",
      "[CV] END .....................................n_neighbors=40; total time=   1.0s\n",
      "[CV] END .....................................n_neighbors=80; total time=   1.1s\n",
      "[CV] END .....................................n_neighbors=80; total time=   1.1s\n",
      "[CV] END .....................................n_neighbors=80; total time=   1.1s\n",
      "[CV] END .....................................n_neighbors=80; total time=   1.0s\n",
      "[CV] END .....................................n_neighbors=80; total time=   1.0s\n"
     ]
    },
    {
     "data": {
      "text/plain": [
       "GridSearchCV(estimator=KNeighborsClassifier(),\n",
       "             param_grid={'n_neighbors': [5, 10, 20, 40, 80]}, verbose=2)"
      ]
     },
     "execution_count": 80,
     "metadata": {},
     "output_type": "execute_result"
    }
   ],
   "source": [
    "cvkn.fit(X=X_train, y=y_train)"
   ]
  },
  {
   "cell_type": "markdown",
   "metadata": {},
   "source": [
    "# Comparación Final de los Modelos con los Mejores Hiperparámetros"
   ]
  },
  {
   "cell_type": "markdown",
   "metadata": {},
   "source": [
    "> Dentro de cada modelo hemos elegido su mejor configuración. Ahora tocaría preguntarnos cuál de los modelos es el mejor."
   ]
  },
  {
   "cell_type": "code",
   "execution_count": null,
   "metadata": {},
   "outputs": [],
   "source": []
  }
 ],
 "metadata": {
  "authors": [
   {
    "name": "Jesús López @sotastica"
   }
  ],
  "kernelspec": {
   "display_name": "Python 3",
   "language": "python",
   "name": "python3"
  },
  "language_info": {
   "codemirror_mode": {
    "name": "ipython",
    "version": 3
   },
   "file_extension": ".py",
   "mimetype": "text/x-python",
   "name": "python",
   "nbconvert_exporter": "python",
   "pygments_lexer": "ipython3",
   "version": "3.8.8"
  }
 },
 "nbformat": 4,
 "nbformat_minor": 4
}
