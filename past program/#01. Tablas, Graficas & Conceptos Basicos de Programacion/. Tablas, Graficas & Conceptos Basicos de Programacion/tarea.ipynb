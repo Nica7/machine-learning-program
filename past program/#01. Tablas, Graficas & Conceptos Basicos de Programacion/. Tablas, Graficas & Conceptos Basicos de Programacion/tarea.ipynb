{
 "cells": [
  {
   "cell_type": "markdown",
   "source": [
    "<font size=\"+5\">#01. Tablas, Gráficas & Conceptos Básicos de Programación</font>"
   ],
   "metadata": {}
  },
  {
   "cell_type": "markdown",
   "source": [
    "<table class=\"tfo-notebook-buttons\" align=\"left\"\n",
    "style='border-spacing: 20px;\n",
    "border-collapse: separate; font-family: -apple-system, BlinkMacSystemFont, \"Segoe UI\", Roboto,\n",
    "Oxygen, Ubuntu, Cantarell, \"Open Sans\", \"Helvetica Neue\", sans-serif; font-size: 15px'\n",
    ">\n",
    "<td style=\"padding-right: 100px;\">\n",
    "<div\n",
    "style=\"\n",
    "  display: flex;\n",
    "  flex-direction: row;\n",
    "  justify-content: center;\n",
    "  align-items: center;\n",
    "  padding: 0px;\n",
    "\"\n",
    ">\n",
    "<img\n",
    "  style=\"\n",
    "    position: static;\n",
    "    width: 33px;\n",
    "    height: 50px;\n",
    "    left: 0px;\n",
    "    top: 0px;\n",
    "  \"\n",
    "  src=\"https://res.cloudinary.com/sotastica-com/image/upload/v1629821503/logo%4072.png\"\n",
    "/>\n",
    "<a\n",
    "  style=\"\n",
    "    flex: none;\n",
    "    order: 1;\n",
    "    flex-grow: 0;\n",
    "    margin: 0px 10px;\n",
    "    font-size: 35px;\n",
    "    display: flex;\n",
    "    flex-direction: row;\n",
    "    justify-content: center;\n",
    "    align-items: center;\n",
    "    padding: 0px;\n",
    "    color: #000;\n",
    "    text-decoration-color: #000;\n",
    "    text-decoration-thickness: 1.5pt;\n",
    "    text-underline-position: under;\n",
    "  \"\n",
    "  target=\"_blank\"\n",
    "  href=\"https://sotastica.com\"\n",
    "  >sotastica</a\n",
    ">\n",
    "</div>\n",
    "</td>\n",
    "<td style=\"vertical-align: middle\">\n",
    "  <img\n",
    "    style=\"vertical-align: middle\"\n",
    "    width=\"36px\"\n",
    "    src=\"https://openmoji.org/php/download_asset.php?type=emoji&emoji_hexcode=E040&emoji_variant=color\"\n",
    "  />\n",
    "  <a\n",
    "    style=\"\n",
    "      color: #61b2e4;\n",
    "      text-decoration-color: #61b2e4;\n",
    "      text-decoration-thickness: 1.5pt;\n",
    "      text-underline-position: under;\n",
    "    \"\n",
    "    target=\"_blank\"\n",
    "    href=\"https://twitter.com/sotastica\"\n",
    "    >Follow me!</a\n",
    "  >\n",
    "</td>\n",
    "<td style=\"vertical-align: middle\">\n",
    "  <img\n",
    "    style=\"vertical-align: middle\"\n",
    "    width=\"36px\"\n",
    "    src=\"https://openmoji.org/php/download_asset.php?type=emoji&emoji_hexcode=E043&emoji_variant=color\"\n",
    "  />\n",
    "  <a\n",
    "    style=\"\n",
    "      color: #000;\n",
    "      text-decoration-color: #000;\n",
    "      text-decoration-thickness: 1.5pt;\n",
    "      text-underline-position: under;\n",
    "    \"\n",
    "    target=\"_blank\"\n",
    "    href=\"https://www.instagram.com/sotastica.com_/\"\n",
    "    >Sígueme</a\n",
    "  >\n",
    "</td>\n",
    "<td style=\"vertical-align: middle\">\n",
    "  <img\n",
    "    style=\"vertical-align: middle\"\n",
    "    width=\"36px\"\n",
    "    src=\"https://openmoji.org/php/download_asset.php?type=emoji&emoji_hexcode=E046&emoji_variant=color\"\n",
    "  />\n",
    "  <a\n",
    "    style=\"\n",
    "      color: #61b2e4;\n",
    "      text-decoration-color: #61b2e4;\n",
    "      text-decoration-thickness: 1.5pt;\n",
    "      text-underline-position: under;\n",
    "    \"\n",
    "    target=\"_blank\"\n",
    "    href=\"https://www.linkedin.com/in/jesusloplar/\"\n",
    "    >Conectamos?</a\n",
    "  >\n",
    "</td>\n",
    "<td style=\"vertical-align: middle\">\n",
    "  <img\n",
    "    style=\"vertical-align: middle\"\n",
    "    width=\"36px\"\n",
    "    src=\"https://openmoji.org/php/download_asset.php?type=emoji&emoji_hexcode=E044&emoji_variant=color\"\n",
    "  />\n",
    "  <a\n",
    "    style=\"\n",
    "      color: #ea5a47;\n",
    "      text-decoration-color: #ea5a47;\n",
    "      text-decoration-thickness: 1.5pt;\n",
    "      text-underline-position: under;\n",
    "    \"\n",
    "    target=\"_blank\"\n",
    "    href=\"https://www.youtube.com/channel/UCovCte2I3loteQE_kRsfQcw\"\n",
    "    >Suscríbete</a\n",
    "  >\n",
    "</td>\n",
    "</table>"
   ],
   "metadata": {}
  },
  {
   "cell_type": "markdown",
   "source": [
    "# Cargar Datos"
   ],
   "metadata": {}
  },
  {
   "cell_type": "markdown",
   "source": [
    "> Si ejecutamos los siguientes comandos:\n",
    "\n",
    "```python\n",
    "import seaborn as sns\n",
    "sns.get_dataset_names()\n",
    "```\n",
    "\n",
    "> Veremos una lista de posibles `datasets` que podemos descargar desde internet y convertirlos directamente a un `DataFrame` de `pandas`. Por ejemplo:\n",
    "\n",
    "```python\n",
    "sns.load_dataset(name='mpg')\n",
    "```"
   ],
   "metadata": {}
  },
  {
   "cell_type": "code",
   "execution_count": null,
   "source": [],
   "outputs": [],
   "metadata": {}
  },
  {
   "cell_type": "markdown",
   "source": [
    "# Scatterplot con 2 Variables"
   ],
   "metadata": {}
  },
  {
   "cell_type": "markdown",
   "source": [
    "> - Variable en Eje X\n",
    "> - Variable en Eje Y"
   ],
   "metadata": {}
  },
  {
   "cell_type": "code",
   "execution_count": null,
   "source": [],
   "outputs": [],
   "metadata": {}
  },
  {
   "cell_type": "markdown",
   "source": [
    "# Scatterplot con 3 variables"
   ],
   "metadata": {}
  },
  {
   "cell_type": "markdown",
   "source": [
    "> - Variable en Eje X\n",
    "> - Variable en Eje Y\n",
    "> - Variable en Color de los Puntos"
   ],
   "metadata": {}
  },
  {
   "cell_type": "code",
   "execution_count": null,
   "source": [],
   "outputs": [],
   "metadata": {}
  },
  {
   "cell_type": "markdown",
   "source": [
    "# Otras Gráficas"
   ],
   "metadata": {}
  },
  {
   "cell_type": "markdown",
   "source": [
    "> Ahora vamos a ir a las galerías de las 3 librerías que más se usan en la actualidad para visualizar datos en Python.\n",
    ">\n",
    "> Vamos a reproducir un ejemplo como mínimo de cada librería. Por tanto, en cada apartado:\n",
    ">\n",
    "> 1. Visiar la página web\n",
    "> 2. Seleccionar un ejemplo\n",
    "> 3. Copiar y pegar código\n",
    "> 4. Ejecutar"
   ],
   "metadata": {}
  },
  {
   "cell_type": "markdown",
   "source": [
    "## Seaborn Example Gallery"
   ],
   "metadata": {}
  },
  {
   "cell_type": "markdown",
   "source": [
    "> - https://seaborn.pydata.org/examples/index.html"
   ],
   "metadata": {}
  },
  {
   "cell_type": "code",
   "execution_count": null,
   "source": [],
   "outputs": [],
   "metadata": {}
  },
  {
   "cell_type": "markdown",
   "source": [
    "## Matplotlib Example Gallery"
   ],
   "metadata": {}
  },
  {
   "cell_type": "markdown",
   "source": [
    "> - https://matplotlib.org/stable/gallery/index.html"
   ],
   "metadata": {}
  },
  {
   "cell_type": "code",
   "execution_count": null,
   "source": [],
   "outputs": [],
   "metadata": {}
  },
  {
   "cell_type": "markdown",
   "source": [
    "## Plotly Example Gallery"
   ],
   "metadata": {}
  },
  {
   "cell_type": "markdown",
   "source": [
    "> - https://plotly.com/python/"
   ],
   "metadata": {}
  },
  {
   "cell_type": "code",
   "execution_count": null,
   "source": [],
   "outputs": [],
   "metadata": {}
  },
  {
   "cell_type": "markdown",
   "source": [
    "# Repetir Estilo de Gráficas Anteriores con tus Datos"
   ],
   "metadata": {}
  },
  {
   "cell_type": "markdown",
   "source": [
    "> Resulta muy fácil copiar y pegar. Sin embargo, debemos empezar a **copiar y pegar con criterio**: sabiendo qué copiar y donde pegarlo. Entonces:\n",
    ">\n",
    "> - Trataremos de emular cada una de las gráficas del apartado anterior con la tabla de datos que cargamos en el primer apartado de la tarea."
   ],
   "metadata": {}
  },
  {
   "cell_type": "markdown",
   "source": [
    "## Seaborn"
   ],
   "metadata": {}
  },
  {
   "cell_type": "code",
   "execution_count": null,
   "source": [],
   "outputs": [],
   "metadata": {}
  },
  {
   "cell_type": "markdown",
   "source": [
    "## Matplotlib"
   ],
   "metadata": {}
  },
  {
   "cell_type": "code",
   "execution_count": null,
   "source": [],
   "outputs": [],
   "metadata": {}
  },
  {
   "cell_type": "markdown",
   "source": [
    "## Plotly"
   ],
   "metadata": {}
  },
  {
   "cell_type": "code",
   "execution_count": null,
   "source": [],
   "outputs": [],
   "metadata": {}
  },
  {
   "cell_type": "markdown",
   "source": [
    "# Objetivos Alcanzados"
   ],
   "metadata": {}
  },
  {
   "cell_type": "markdown",
   "source": [
    "_Haz doble click sobre esta celda y pon una `X` dentro de las casillas [X] si crees que has superado los objetivos:_\n",
    "\n",
    "- [ ] Identificar los **Elementos de la Programación** gracias a la sintaxis.\n",
    "- [ ] Usar `funciones` que están contenidas en `librerías`.\n",
    "- [ ] Hacer que _la máquina trabaje para ti. No contra ti_. Existen trucos para ir **pidiéndole ayuda al ordenador** sin tener que buscar cosas en Internet o mirar tutoriales...\n",
    "- [ ] Entender que un `perro` NO `maulla()`. Sino que `ladra()`... de la misma manera que un `DataFrame` no `vuela()`.\n",
    "- [ ] Todos los caminos llevan a Roma. Entender que podemos obtener el **mismo resultado con diferentes líneas de código**.\n",
    "- [ ] **`Librerías` diferentes** que contienen `funciones` que hacen prácticamente **lo mismo**.\n",
    "- [ ] Entender que **el código es una cuestión de necesidad**. No una serie mecánica de pasos a seguir.\n",
    "- [ ] Entender que **no existe una solución única**. Sino que pueden ser diferentes e igualmente válidas (siempre y cuando se entienda y se razone lo que se hace)."
   ],
   "metadata": {}
  }
 ],
 "metadata": {
  "authors": [
   {
    "name": "Jesús López @sotastica"
   }
  ],
  "language_info": {
   "name": "python",
   "version": "3.8.11"
  },
  "kernelspec": {
   "name": "python3",
   "display_name": "Python 3.8.11 64-bit ('base': conda)"
  },
  "interpreter": {
   "hash": "0cdf01e8aee6d32f013b87a5cdf78a3ac1638b7c7d1ae32e12483b9cc510afe5"
  }
 },
 "nbformat": 4,
 "nbformat_minor": 5
}