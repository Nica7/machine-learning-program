{
 "cells": [
  {
   "cell_type": "markdown",
   "id": "f7052f36",
   "metadata": {},
   "source": [
    "<font size=\"+5\">#04. Comparacion de Modelos: Arboles de Decision vs Support Vector Machines vs Regresion Logistica</font>"
   ]
  },
  {
   "cell_type": "markdown",
   "id": "ea55132f",
   "metadata": {},
   "source": [
    "<ul>\n",
    "    <li>Resolver dudas → Pregunta en <img src=\"https://discord.com/assets/f9bb9c4af2b9c32a2c5ee0014661546d.png\" style=\"height: 1em; vertical-align: middle;\"> <a href=\"https://discord.gg/cmB3KGsqMy\">Discord</a></li>\n",
    "    <li>Tutoriales → <img src=\"https://openmoji.org/php/download_asset.php?type=emoji&emoji_hexcode=E044&emoji_variant=color\" style=\"height: 1em; vertical-align: middle;\"> <a href=\"https://www.youtube.com/channel/UCovCte2I3loteQE_kRsfQcw\">YouTube</a></li>\n",
    "    <li>Reservar Clases → <span style=\"color: orange\">@</span> <a href=\"https://sotastica.com/reservar\">sotastica</a></li>\n",
    "</ul>"
   ]
  },
  {
   "cell_type": "markdown",
   "id": "293621ca",
   "metadata": {},
   "source": [
    "# Cargar Datos"
   ]
  },
  {
   "cell_type": "markdown",
   "id": "f5c6b766",
   "metadata": {},
   "source": [
    "> Usaremos la base de datos del **CIS** sobre una muestra de 2455, cuyas características son de aspecto sociológico. El `objetivo es determinar si una persona usa internet o no`. Ejecutaríamos los siguientes comandos para cargar los datos en nuestro `entorno`.\n",
    "\n",
    "```python\n",
    "df = pd.read_csv('https://raw.githubusercontent.com/jesusloplar/data/main/uso_internet_espana.csv')\n",
    "df.head()\n",
    "```"
   ]
  },
  {
   "cell_type": "code",
   "execution_count": 2,
   "id": "18705266-d714-480f-b005-c09f7c721d9e",
   "metadata": {},
   "outputs": [],
   "source": [
    "import pandas as pd"
   ]
  },
  {
   "cell_type": "code",
   "execution_count": 3,
   "id": "71fad1c2",
   "metadata": {},
   "outputs": [
    {
     "data": {
      "text/html": [
       "<div>\n",
       "<style scoped>\n",
       "    .dataframe tbody tr th:only-of-type {\n",
       "        vertical-align: middle;\n",
       "    }\n",
       "\n",
       "    .dataframe tbody tr th {\n",
       "        vertical-align: top;\n",
       "    }\n",
       "\n",
       "    .dataframe thead th {\n",
       "        text-align: right;\n",
       "    }\n",
       "</style>\n",
       "<table border=\"1\" class=\"dataframe\">\n",
       "  <thead>\n",
       "    <tr style=\"text-align: right;\">\n",
       "      <th></th>\n",
       "      <th>uso_internet</th>\n",
       "      <th>sexo</th>\n",
       "      <th>edad</th>\n",
       "      <th>estudios</th>\n",
       "    </tr>\n",
       "  </thead>\n",
       "  <tbody>\n",
       "    <tr>\n",
       "      <th>0</th>\n",
       "      <td>0</td>\n",
       "      <td>Mujer</td>\n",
       "      <td>66</td>\n",
       "      <td>Primaria</td>\n",
       "    </tr>\n",
       "    <tr>\n",
       "      <th>1</th>\n",
       "      <td>1</td>\n",
       "      <td>Hombre</td>\n",
       "      <td>72</td>\n",
       "      <td>Primaria</td>\n",
       "    </tr>\n",
       "    <tr>\n",
       "      <th>2</th>\n",
       "      <td>1</td>\n",
       "      <td>Hombre</td>\n",
       "      <td>48</td>\n",
       "      <td>Medios universitarios</td>\n",
       "    </tr>\n",
       "    <tr>\n",
       "      <th>3</th>\n",
       "      <td>0</td>\n",
       "      <td>Hombre</td>\n",
       "      <td>59</td>\n",
       "      <td>Superiores</td>\n",
       "    </tr>\n",
       "    <tr>\n",
       "      <th>4</th>\n",
       "      <td>1</td>\n",
       "      <td>Mujer</td>\n",
       "      <td>44</td>\n",
       "      <td>Superiores</td>\n",
       "    </tr>\n",
       "  </tbody>\n",
       "</table>\n",
       "</div>"
      ],
      "text/plain": [
       "   uso_internet    sexo  edad               estudios\n",
       "0             0   Mujer    66               Primaria\n",
       "1             1  Hombre    72               Primaria\n",
       "2             1  Hombre    48  Medios universitarios\n",
       "3             0  Hombre    59             Superiores\n",
       "4             1   Mujer    44             Superiores"
      ]
     },
     "execution_count": 3,
     "metadata": {},
     "output_type": "execute_result"
    }
   ],
   "source": [
    "df = pd.read_csv('https://raw.githubusercontent.com/jesusloplar/data/main/uso_internet_espana.csv')\n",
    "df.head()"
   ]
  },
  {
   "cell_type": "markdown",
   "id": "88a8a914",
   "metadata": {},
   "source": [
    "# Seleccionar Variables para el Modelo"
   ]
  },
  {
   "cell_type": "markdown",
   "id": "51f5b5d8",
   "metadata": {},
   "source": [
    "> 1.  Explicativas/Features/Input `X`\n",
    "> 2.  Objetivo/Class/Target `y`"
   ]
  },
  {
   "cell_type": "code",
   "execution_count": 4,
   "id": "7245e35b",
   "metadata": {},
   "outputs": [],
   "source": [
    "explicativas = df.drop(columns='uso_internet')"
   ]
  },
  {
   "cell_type": "code",
   "execution_count": 5,
   "id": "bbbbe5ab-b03b-464f-bf86-ae628c3f1dd7",
   "metadata": {},
   "outputs": [],
   "source": [
    "objetivo = df.uso_internet"
   ]
  },
  {
   "cell_type": "markdown",
   "id": "f84c3de2",
   "metadata": {},
   "source": [
    "# Modelo de Árboles de Decisión en Python"
   ]
  },
  {
   "cell_type": "markdown",
   "id": "a045f035",
   "metadata": {},
   "source": [
    "> Vamos a aplicar la lógica natural que hemos seguido durante todo el programa. Por tanto, los pasos a seguir son:\n",
    "\n",
    "```python\n",
    "model.fit() # calcular los mejores números en la ecuación matemática\n",
    "model.score() # calcular cómo de bueno es el modelo: Realidad vs Predicción\n",
    "```"
   ]
  },
  {
   "cell_type": "code",
   "execution_count": 6,
   "id": "0d2991b7",
   "metadata": {},
   "outputs": [],
   "source": [
    "from sklearn.tree import DecisionTreeClassifier"
   ]
  },
  {
   "cell_type": "code",
   "execution_count": 7,
   "id": "85076385-4c3e-4792-8de4-a14089349b2a",
   "metadata": {},
   "outputs": [],
   "source": [
    "model = DecisionTreeClassifier()"
   ]
  },
  {
   "cell_type": "code",
   "execution_count": 8,
   "id": "4b9dfa1c-0181-47d6-99b1-f6ec53375731",
   "metadata": {},
   "outputs": [],
   "source": [
    "explicativas = pd.get_dummies(explicativas, drop_first=True)"
   ]
  },
  {
   "cell_type": "code",
   "execution_count": 9,
   "id": "8fbd9836-ecb7-4f54-84e1-636e85ba5299",
   "metadata": {},
   "outputs": [
    {
     "data": {
      "text/plain": [
       "DecisionTreeClassifier()"
      ]
     },
     "execution_count": 9,
     "metadata": {},
     "output_type": "execute_result"
    }
   ],
   "source": [
    "model.fit(X=explicativas, y=objetivo)"
   ]
  },
  {
   "cell_type": "code",
   "execution_count": 10,
   "id": "5686f47a-0250-4b25-8ba0-1d0f19a6c20e",
   "metadata": {},
   "outputs": [
    {
     "data": {
      "text/plain": [
       "0.859877800407332"
      ]
     },
     "execution_count": 10,
     "metadata": {},
     "output_type": "execute_result"
    }
   ],
   "source": [
    "model.score(X=explicativas, y=objetivo)"
   ]
  },
  {
   "cell_type": "markdown",
   "id": "8cae37e4",
   "metadata": {},
   "source": [
    "# Crear Funciones para Automatizar Procesos"
   ]
  },
  {
   "cell_type": "markdown",
   "id": "09383262",
   "metadata": {},
   "source": [
    "> El objetivo de este capítulo es comprender cómo se comparan los diferentes modelos de ML. En este punto concreto del programa, deberíamos saber que los modelos siempre funcionan igual:\n",
    "\n",
    "```python\n",
    "model.fit() # calcular los mejores números en la ecuación matemática\n",
    "model.score() # calcular cómo de bueno es el modelo: Realidad vs Predicción\n",
    "```\n",
    "\n",
    "> El modelo a usar es lo único que cambiaría. Por tanto, nos preguntamos lo siguiente: ¿por qué no **crear una función** que te calcule las predicciones directamente al **pasarle un modelo**, como `parametro`? De esta forma podríamos ejecutar las siguientes líneas y entrenar todos los modelos con la misma función.\n",
    "\n",
    "```python\n",
    "dt = DecisionTreeClassifier()\n",
    "calcular_precision(model=dt)\n",
    "\n",
    "svm = SVC()\n",
    "calcular_precision(model=svm)\n",
    "\n",
    "lr = LogisticRegression()\n",
    "calcular_precision(model = lr)\n",
    "```"
   ]
  },
  {
   "cell_type": "code",
   "execution_count": 11,
   "id": "cbdcd4d1-595f-41a8-b156-7ba6a3b6fb86",
   "metadata": {},
   "outputs": [],
   "source": [
    "def calcular_precision(model):\n",
    "\n",
    "    model.fit(X=explicativas, y=objetivo)\n",
    "\n",
    "    precision = model.score(X=explicativas, y=objetivo)\n",
    "    \n",
    "    return precision"
   ]
  },
  {
   "cell_type": "markdown",
   "id": "2f9fc9c7",
   "metadata": {},
   "source": [
    "## Modelo de Árboles de Decisión"
   ]
  },
  {
   "cell_type": "markdown",
   "id": "780d87ca",
   "metadata": {},
   "source": [
    "- Aplicamos la función que hemos creado anteriormente en el objeto `DecisionTreeClassifier()`"
   ]
  },
  {
   "cell_type": "code",
   "execution_count": 12,
   "id": "7b0c123f-82bb-4564-99e1-4f993cb70140",
   "metadata": {},
   "outputs": [],
   "source": [
    "dt = DecisionTreeClassifier()"
   ]
  },
  {
   "cell_type": "code",
   "execution_count": 13,
   "id": "c08adee0-db05-4d8b-bd59-b98be4b17a44",
   "metadata": {},
   "outputs": [
    {
     "data": {
      "text/plain": [
       "0.859877800407332"
      ]
     },
     "execution_count": 13,
     "metadata": {},
     "output_type": "execute_result"
    }
   ],
   "source": [
    "calcular_precision(model = dt)"
   ]
  },
  {
   "cell_type": "markdown",
   "id": "942e03e8",
   "metadata": {},
   "source": [
    "## Modelo de Support Vector Machine"
   ]
  },
  {
   "cell_type": "markdown",
   "id": "f7cf625c",
   "metadata": {},
   "source": [
    "- Aplicamos la función que hemos creado anteriormente en el objeto `SVC()`"
   ]
  },
  {
   "cell_type": "code",
   "execution_count": 14,
   "id": "6107b9ef-8287-49ab-914e-7e60b15b4036",
   "metadata": {},
   "outputs": [],
   "source": [
    "from sklearn.svm import SVC"
   ]
  },
  {
   "cell_type": "code",
   "execution_count": 15,
   "id": "8a3e045e-7a57-4aa1-8252-7d10f3ea8042",
   "metadata": {},
   "outputs": [],
   "source": [
    "svm = SVC()"
   ]
  },
  {
   "cell_type": "code",
   "execution_count": 16,
   "id": "52c44736-fa81-498a-b543-5a2753bab983",
   "metadata": {},
   "outputs": [
    {
     "data": {
      "text/plain": [
       "0.7934826883910387"
      ]
     },
     "execution_count": 16,
     "metadata": {},
     "output_type": "execute_result"
    }
   ],
   "source": [
    "calcular_precision(model = svm)"
   ]
  },
  {
   "cell_type": "markdown",
   "id": "dc82ffb3",
   "metadata": {},
   "source": [
    "## Modelo de Regresión Logística"
   ]
  },
  {
   "cell_type": "markdown",
   "id": "82915bfd",
   "metadata": {},
   "source": [
    "- Aplicamos la función que hemos creado anteriormente en el objeto `LogisticRegression()`"
   ]
  },
  {
   "cell_type": "code",
   "execution_count": 17,
   "id": "c38fc892-b41e-41a5-ad72-422825a084a4",
   "metadata": {},
   "outputs": [],
   "source": [
    "from sklearn.linear_model import LogisticRegression"
   ]
  },
  {
   "cell_type": "code",
   "execution_count": 18,
   "id": "36ab443a-27dc-41e1-bfd8-c54606849e66",
   "metadata": {},
   "outputs": [],
   "source": [
    "lr = LogisticRegression()"
   ]
  },
  {
   "cell_type": "code",
   "execution_count": 19,
   "id": "dea8a98d-28c0-45f6-8f95-eb4de6f0a8d2",
   "metadata": {},
   "outputs": [
    {
     "name": "stderr",
     "output_type": "stream",
     "text": [
      "/Users/sota/anaconda3/lib/python3.8/site-packages/sklearn/linear_model/_logistic.py:763: ConvergenceWarning: lbfgs failed to converge (status=1):\n",
      "STOP: TOTAL NO. of ITERATIONS REACHED LIMIT.\n",
      "\n",
      "Increase the number of iterations (max_iter) or scale the data as shown in:\n",
      "    https://scikit-learn.org/stable/modules/preprocessing.html\n",
      "Please also refer to the documentation for alternative solver options:\n",
      "    https://scikit-learn.org/stable/modules/linear_model.html#logistic-regression\n",
      "  n_iter_i = _check_optimize_result(\n"
     ]
    },
    {
     "data": {
      "text/plain": [
       "0.8334012219959267"
      ]
     },
     "execution_count": 19,
     "metadata": {},
     "output_type": "execute_result"
    }
   ],
   "source": [
    "calcular_precision(model = lr)"
   ]
  },
  {
   "cell_type": "markdown",
   "id": "b1fd4985",
   "metadata": {},
   "source": [
    "# ¿Cuál es el Mejor Modelo?"
   ]
  },
  {
   "cell_type": "markdown",
   "id": "4afccfa1",
   "metadata": {},
   "source": [
    "> Tomamos la decisión con el modelo que haya tenido mayor precisión porque nos indicaría que ha acertado más veces la realidad."
   ]
  },
  {
   "cell_type": "markdown",
   "id": "c289472a",
   "metadata": {},
   "source": [
    "## Analogía del Examen de Selectividad"
   ]
  },
  {
   "cell_type": "markdown",
   "id": "00c56be8",
   "metadata": {},
   "source": [
    "> Basándonos en el resultado anterior, elegiríamos el modelo `DecisionTreeClassifier()`. No obstante, los modelos no se están comparando correctamente porque el modelo conocía los datos que trata de predecir. Déjanos explicarte este fenómeno con la siguiente analogía:\n",
    ">\n",
    "> 1. Tenemos el examen de selectividad de matemáticas el próximo sábado.\n",
    "> 2. Disponemos de 100 preguntas con sus 100 soluciones de años anteriores para estudiar de cara a la prueba final.\n",
    "> 3. Hoy es lunes y debemos calibrar cómo de preparados estamos de cara al sábado para ver si estudiamos más o menos en los próximos días.\n",
    "> 4. Estudiamos las 100 preguntas con las soluciones al lado.\n",
    "> 5. Hacemos una prueba sin mirar a las soluciones y vemos que hemos acertado 90 preguntas. Por tanto, pensamos que sacaremos un 90 en el examen.\n",
    "> 6. Llega el examen y las preguntas no son las mismas con las que hemos estudiado.\n",
    "> 7. Sacamos 40 preguntas acertadas de 100.\n",
    "> 8. ¿Qué nos ha pasado?\n",
    "> 9. Hemos sobreentrenado las preguntas que conocíamos. Sin embargo, nos hubiera gustado ver cómo de preparados estábamos con preguntas con las que no hemos entrenado.\n",
    "> 10. De la misma manera, nos gustaría evaluar el modelo con datos que no ha usado durante el entrenamiento.\n",
    "> 11. **La solución**: vamos a separar los datos en Train & Test con la función `train_test_split()`."
   ]
  },
  {
   "cell_type": "markdown",
   "id": "9a226999",
   "metadata": {},
   "source": [
    "# Separar Datos en Train & Test"
   ]
  },
  {
   "cell_type": "markdown",
   "id": "5df720e4",
   "metadata": {},
   "source": [
    "> **1. Entrenar Modelo con Train**\n",
    ">\n",
    "> Al separar los datos en `Entreno` y `Testeo` nos encontraríamos en el siguiente supuesto según la analogía del examen de selectividad:\n",
    ">\n",
    "> Estudiamos/Entrenamos `.fit()` para el examen con 70 preguntas `X_train` y respectivas 70 soluciones `y_train`.\n",
    ">\n",
    "> - `model.fit(X_train, y_train)`\n",
    ">\n",
    "> **2. Realizar Predicciones en Test**\n",
    ">\n",
    "> Hacemos un examen `.predict()` de mentira **sin ver las soluciones `y_test`**. Tan solo con lo que sabemos de antes y las **30 nuevas preguntas que no vimos `X_test`** durante el estudio/entrenamiento.\n",
    ">\n",
    "> - `y_pred = model.predict(X_test)`\n",
    ">\n",
    "> **3. Comparar Predicciones vs Realidad de Test**\n",
    ">\n",
    "> Por último veríamos cómo de preparados estamos para el examen de selectividad al comprobar si las respuestas que hemos desarrollado `y_pred` coinciden con las soluciones reales `y_test`.\n",
    ">\n",
    "> - `y_pred == y_test`?"
   ]
  },
  {
   "cell_type": "markdown",
   "id": "a7e97387",
   "metadata": {},
   "source": [
    "# Optimizar Modelos y Comparar Otra Vez"
   ]
  },
  {
   "cell_type": "markdown",
   "id": "670a434c",
   "metadata": {},
   "source": [
    "> Ahora deberíamos entrenar un modelo aplicando la lógica que acabamos de exponer: ajustamos la ecuación matemática con los datos de entrenamiento y comprobamos **cómo de bueno es el modelo en los datos de testeo**."
   ]
  },
  {
   "cell_type": "code",
   "execution_count": 20,
   "id": "b3219545",
   "metadata": {},
   "outputs": [],
   "source": [
    "from sklearn.model_selection import train_test_split"
   ]
  },
  {
   "cell_type": "code",
   "execution_count": 23,
   "id": "0912b615-f047-4376-bc71-78a3a2908cb5",
   "metadata": {},
   "outputs": [],
   "source": [
    "a = train_test_split(explicativas, objetivo, test_size=0.30, random_state=42)"
   ]
  },
  {
   "cell_type": "code",
   "execution_count": 28,
   "id": "b68459bf-3cd0-4fdf-a4d2-8f86197b4321",
   "metadata": {},
   "outputs": [],
   "source": [
    "X_train, X_test, y_train, y_test = train_test_split(explicativas, objetivo, test_size=0.30, random_state=42)"
   ]
  },
  {
   "cell_type": "code",
   "execution_count": 24,
   "id": "a8b5cd02-6e5f-4fc9-a086-417a179789f8",
   "metadata": {},
   "outputs": [
    {
     "data": {
      "text/html": [
       "<div>\n",
       "<style scoped>\n",
       "    .dataframe tbody tr th:only-of-type {\n",
       "        vertical-align: middle;\n",
       "    }\n",
       "\n",
       "    .dataframe tbody tr th {\n",
       "        vertical-align: top;\n",
       "    }\n",
       "\n",
       "    .dataframe thead th {\n",
       "        text-align: right;\n",
       "    }\n",
       "</style>\n",
       "<table border=\"1\" class=\"dataframe\">\n",
       "  <thead>\n",
       "    <tr style=\"text-align: right;\">\n",
       "      <th></th>\n",
       "      <th>edad</th>\n",
       "      <th>sexo_Mujer</th>\n",
       "      <th>estudios_Medios universitarios</th>\n",
       "      <th>estudios_Primaria</th>\n",
       "      <th>estudios_Secundaria</th>\n",
       "      <th>estudios_Sin estudios</th>\n",
       "      <th>estudios_Superiores</th>\n",
       "    </tr>\n",
       "  </thead>\n",
       "  <tbody>\n",
       "    <tr>\n",
       "      <th>198</th>\n",
       "      <td>54</td>\n",
       "      <td>0</td>\n",
       "      <td>0</td>\n",
       "      <td>1</td>\n",
       "      <td>0</td>\n",
       "      <td>0</td>\n",
       "      <td>0</td>\n",
       "    </tr>\n",
       "    <tr>\n",
       "      <th>561</th>\n",
       "      <td>50</td>\n",
       "      <td>0</td>\n",
       "      <td>0</td>\n",
       "      <td>0</td>\n",
       "      <td>0</td>\n",
       "      <td>0</td>\n",
       "      <td>1</td>\n",
       "    </tr>\n",
       "    <tr>\n",
       "      <th>685</th>\n",
       "      <td>26</td>\n",
       "      <td>0</td>\n",
       "      <td>1</td>\n",
       "      <td>0</td>\n",
       "      <td>0</td>\n",
       "      <td>0</td>\n",
       "      <td>0</td>\n",
       "    </tr>\n",
       "    <tr>\n",
       "      <th>1321</th>\n",
       "      <td>62</td>\n",
       "      <td>0</td>\n",
       "      <td>1</td>\n",
       "      <td>0</td>\n",
       "      <td>0</td>\n",
       "      <td>0</td>\n",
       "      <td>0</td>\n",
       "    </tr>\n",
       "    <tr>\n",
       "      <th>590</th>\n",
       "      <td>86</td>\n",
       "      <td>1</td>\n",
       "      <td>0</td>\n",
       "      <td>0</td>\n",
       "      <td>0</td>\n",
       "      <td>1</td>\n",
       "      <td>0</td>\n",
       "    </tr>\n",
       "    <tr>\n",
       "      <th>...</th>\n",
       "      <td>...</td>\n",
       "      <td>...</td>\n",
       "      <td>...</td>\n",
       "      <td>...</td>\n",
       "      <td>...</td>\n",
       "      <td>...</td>\n",
       "      <td>...</td>\n",
       "    </tr>\n",
       "    <tr>\n",
       "      <th>1638</th>\n",
       "      <td>37</td>\n",
       "      <td>1</td>\n",
       "      <td>0</td>\n",
       "      <td>0</td>\n",
       "      <td>1</td>\n",
       "      <td>0</td>\n",
       "      <td>0</td>\n",
       "    </tr>\n",
       "    <tr>\n",
       "      <th>1095</th>\n",
       "      <td>35</td>\n",
       "      <td>1</td>\n",
       "      <td>0</td>\n",
       "      <td>0</td>\n",
       "      <td>0</td>\n",
       "      <td>0</td>\n",
       "      <td>0</td>\n",
       "    </tr>\n",
       "    <tr>\n",
       "      <th>1130</th>\n",
       "      <td>58</td>\n",
       "      <td>1</td>\n",
       "      <td>0</td>\n",
       "      <td>1</td>\n",
       "      <td>0</td>\n",
       "      <td>0</td>\n",
       "      <td>0</td>\n",
       "    </tr>\n",
       "    <tr>\n",
       "      <th>1294</th>\n",
       "      <td>52</td>\n",
       "      <td>1</td>\n",
       "      <td>0</td>\n",
       "      <td>1</td>\n",
       "      <td>0</td>\n",
       "      <td>0</td>\n",
       "      <td>0</td>\n",
       "    </tr>\n",
       "    <tr>\n",
       "      <th>860</th>\n",
       "      <td>46</td>\n",
       "      <td>1</td>\n",
       "      <td>0</td>\n",
       "      <td>1</td>\n",
       "      <td>0</td>\n",
       "      <td>0</td>\n",
       "      <td>0</td>\n",
       "    </tr>\n",
       "  </tbody>\n",
       "</table>\n",
       "<p>1718 rows × 7 columns</p>\n",
       "</div>"
      ],
      "text/plain": [
       "      edad  sexo_Mujer  estudios_Medios universitarios  estudios_Primaria  \\\n",
       "198     54           0                               0                  1   \n",
       "561     50           0                               0                  0   \n",
       "685     26           0                               1                  0   \n",
       "1321    62           0                               1                  0   \n",
       "590     86           1                               0                  0   \n",
       "...    ...         ...                             ...                ...   \n",
       "1638    37           1                               0                  0   \n",
       "1095    35           1                               0                  0   \n",
       "1130    58           1                               0                  1   \n",
       "1294    52           1                               0                  1   \n",
       "860     46           1                               0                  1   \n",
       "\n",
       "      estudios_Secundaria  estudios_Sin estudios  estudios_Superiores  \n",
       "198                     0                      0                    0  \n",
       "561                     0                      0                    1  \n",
       "685                     0                      0                    0  \n",
       "1321                    0                      0                    0  \n",
       "590                     0                      1                    0  \n",
       "...                   ...                    ...                  ...  \n",
       "1638                    1                      0                    0  \n",
       "1095                    0                      0                    0  \n",
       "1130                    0                      0                    0  \n",
       "1294                    0                      0                    0  \n",
       "860                     0                      0                    0  \n",
       "\n",
       "[1718 rows x 7 columns]"
      ]
     },
     "execution_count": 24,
     "metadata": {},
     "output_type": "execute_result"
    }
   ],
   "source": [
    "a[0]"
   ]
  },
  {
   "cell_type": "code",
   "execution_count": 25,
   "id": "f8bc2997-60d7-4f60-9195-30283b57842a",
   "metadata": {},
   "outputs": [
    {
     "data": {
      "text/html": [
       "<div>\n",
       "<style scoped>\n",
       "    .dataframe tbody tr th:only-of-type {\n",
       "        vertical-align: middle;\n",
       "    }\n",
       "\n",
       "    .dataframe tbody tr th {\n",
       "        vertical-align: top;\n",
       "    }\n",
       "\n",
       "    .dataframe thead th {\n",
       "        text-align: right;\n",
       "    }\n",
       "</style>\n",
       "<table border=\"1\" class=\"dataframe\">\n",
       "  <thead>\n",
       "    <tr style=\"text-align: right;\">\n",
       "      <th></th>\n",
       "      <th>edad</th>\n",
       "      <th>sexo_Mujer</th>\n",
       "      <th>estudios_Medios universitarios</th>\n",
       "      <th>estudios_Primaria</th>\n",
       "      <th>estudios_Secundaria</th>\n",
       "      <th>estudios_Sin estudios</th>\n",
       "      <th>estudios_Superiores</th>\n",
       "    </tr>\n",
       "  </thead>\n",
       "  <tbody>\n",
       "    <tr>\n",
       "      <th>1598</th>\n",
       "      <td>52</td>\n",
       "      <td>1</td>\n",
       "      <td>0</td>\n",
       "      <td>1</td>\n",
       "      <td>0</td>\n",
       "      <td>0</td>\n",
       "      <td>0</td>\n",
       "    </tr>\n",
       "    <tr>\n",
       "      <th>620</th>\n",
       "      <td>48</td>\n",
       "      <td>0</td>\n",
       "      <td>0</td>\n",
       "      <td>0</td>\n",
       "      <td>0</td>\n",
       "      <td>0</td>\n",
       "      <td>0</td>\n",
       "    </tr>\n",
       "    <tr>\n",
       "      <th>1266</th>\n",
       "      <td>53</td>\n",
       "      <td>1</td>\n",
       "      <td>0</td>\n",
       "      <td>0</td>\n",
       "      <td>0</td>\n",
       "      <td>0</td>\n",
       "      <td>1</td>\n",
       "    </tr>\n",
       "    <tr>\n",
       "      <th>649</th>\n",
       "      <td>43</td>\n",
       "      <td>0</td>\n",
       "      <td>1</td>\n",
       "      <td>0</td>\n",
       "      <td>0</td>\n",
       "      <td>0</td>\n",
       "      <td>0</td>\n",
       "    </tr>\n",
       "    <tr>\n",
       "      <th>1908</th>\n",
       "      <td>43</td>\n",
       "      <td>0</td>\n",
       "      <td>0</td>\n",
       "      <td>0</td>\n",
       "      <td>0</td>\n",
       "      <td>0</td>\n",
       "      <td>0</td>\n",
       "    </tr>\n",
       "    <tr>\n",
       "      <th>...</th>\n",
       "      <td>...</td>\n",
       "      <td>...</td>\n",
       "      <td>...</td>\n",
       "      <td>...</td>\n",
       "      <td>...</td>\n",
       "      <td>...</td>\n",
       "      <td>...</td>\n",
       "    </tr>\n",
       "    <tr>\n",
       "      <th>377</th>\n",
       "      <td>28</td>\n",
       "      <td>0</td>\n",
       "      <td>0</td>\n",
       "      <td>0</td>\n",
       "      <td>0</td>\n",
       "      <td>0</td>\n",
       "      <td>1</td>\n",
       "    </tr>\n",
       "    <tr>\n",
       "      <th>535</th>\n",
       "      <td>35</td>\n",
       "      <td>1</td>\n",
       "      <td>0</td>\n",
       "      <td>0</td>\n",
       "      <td>0</td>\n",
       "      <td>0</td>\n",
       "      <td>0</td>\n",
       "    </tr>\n",
       "    <tr>\n",
       "      <th>1535</th>\n",
       "      <td>23</td>\n",
       "      <td>0</td>\n",
       "      <td>0</td>\n",
       "      <td>0</td>\n",
       "      <td>1</td>\n",
       "      <td>0</td>\n",
       "      <td>0</td>\n",
       "    </tr>\n",
       "    <tr>\n",
       "      <th>902</th>\n",
       "      <td>38</td>\n",
       "      <td>0</td>\n",
       "      <td>1</td>\n",
       "      <td>0</td>\n",
       "      <td>0</td>\n",
       "      <td>0</td>\n",
       "      <td>0</td>\n",
       "    </tr>\n",
       "    <tr>\n",
       "      <th>1967</th>\n",
       "      <td>41</td>\n",
       "      <td>0</td>\n",
       "      <td>0</td>\n",
       "      <td>0</td>\n",
       "      <td>0</td>\n",
       "      <td>0</td>\n",
       "      <td>1</td>\n",
       "    </tr>\n",
       "  </tbody>\n",
       "</table>\n",
       "<p>737 rows × 7 columns</p>\n",
       "</div>"
      ],
      "text/plain": [
       "      edad  sexo_Mujer  estudios_Medios universitarios  estudios_Primaria  \\\n",
       "1598    52           1                               0                  1   \n",
       "620     48           0                               0                  0   \n",
       "1266    53           1                               0                  0   \n",
       "649     43           0                               1                  0   \n",
       "1908    43           0                               0                  0   \n",
       "...    ...         ...                             ...                ...   \n",
       "377     28           0                               0                  0   \n",
       "535     35           1                               0                  0   \n",
       "1535    23           0                               0                  0   \n",
       "902     38           0                               1                  0   \n",
       "1967    41           0                               0                  0   \n",
       "\n",
       "      estudios_Secundaria  estudios_Sin estudios  estudios_Superiores  \n",
       "1598                    0                      0                    0  \n",
       "620                     0                      0                    0  \n",
       "1266                    0                      0                    1  \n",
       "649                     0                      0                    0  \n",
       "1908                    0                      0                    0  \n",
       "...                   ...                    ...                  ...  \n",
       "377                     0                      0                    1  \n",
       "535                     0                      0                    0  \n",
       "1535                    1                      0                    0  \n",
       "902                     0                      0                    0  \n",
       "1967                    0                      0                    1  \n",
       "\n",
       "[737 rows x 7 columns]"
      ]
     },
     "execution_count": 25,
     "metadata": {},
     "output_type": "execute_result"
    }
   ],
   "source": [
    "a[1]"
   ]
  },
  {
   "cell_type": "code",
   "execution_count": 25,
   "id": "e4cc7a5d-31f6-46c2-8bab-6a36ada007c9",
   "metadata": {},
   "outputs": [
    {
     "data": {
      "text/plain": [
       "list"
      ]
     },
     "execution_count": 25,
     "metadata": {},
     "output_type": "execute_result"
    }
   ],
   "source": [
    "type(a)"
   ]
  },
  {
   "cell_type": "code",
   "execution_count": 26,
   "id": "bcb5fd52-6053-4076-8437-2defa9c472e1",
   "metadata": {},
   "outputs": [
    {
     "data": {
      "text/plain": [
       "4"
      ]
     },
     "execution_count": 26,
     "metadata": {},
     "output_type": "execute_result"
    }
   ],
   "source": [
    "len(a)"
   ]
  },
  {
   "cell_type": "code",
   "execution_count": 27,
   "id": "5581802d-0d19-4eda-b882-fc3247c44917",
   "metadata": {},
   "outputs": [
    {
     "data": {
      "text/html": [
       "<div>\n",
       "<style scoped>\n",
       "    .dataframe tbody tr th:only-of-type {\n",
       "        vertical-align: middle;\n",
       "    }\n",
       "\n",
       "    .dataframe tbody tr th {\n",
       "        vertical-align: top;\n",
       "    }\n",
       "\n",
       "    .dataframe thead th {\n",
       "        text-align: right;\n",
       "    }\n",
       "</style>\n",
       "<table border=\"1\" class=\"dataframe\">\n",
       "  <thead>\n",
       "    <tr style=\"text-align: right;\">\n",
       "      <th></th>\n",
       "      <th>edad</th>\n",
       "      <th>sexo_Mujer</th>\n",
       "      <th>estudios_Medios universitarios</th>\n",
       "      <th>estudios_Primaria</th>\n",
       "      <th>estudios_Secundaria</th>\n",
       "      <th>estudios_Sin estudios</th>\n",
       "      <th>estudios_Superiores</th>\n",
       "    </tr>\n",
       "  </thead>\n",
       "  <tbody>\n",
       "    <tr>\n",
       "      <th>198</th>\n",
       "      <td>54</td>\n",
       "      <td>0</td>\n",
       "      <td>0</td>\n",
       "      <td>1</td>\n",
       "      <td>0</td>\n",
       "      <td>0</td>\n",
       "      <td>0</td>\n",
       "    </tr>\n",
       "    <tr>\n",
       "      <th>561</th>\n",
       "      <td>50</td>\n",
       "      <td>0</td>\n",
       "      <td>0</td>\n",
       "      <td>0</td>\n",
       "      <td>0</td>\n",
       "      <td>0</td>\n",
       "      <td>1</td>\n",
       "    </tr>\n",
       "    <tr>\n",
       "      <th>685</th>\n",
       "      <td>26</td>\n",
       "      <td>0</td>\n",
       "      <td>1</td>\n",
       "      <td>0</td>\n",
       "      <td>0</td>\n",
       "      <td>0</td>\n",
       "      <td>0</td>\n",
       "    </tr>\n",
       "    <tr>\n",
       "      <th>1321</th>\n",
       "      <td>62</td>\n",
       "      <td>0</td>\n",
       "      <td>1</td>\n",
       "      <td>0</td>\n",
       "      <td>0</td>\n",
       "      <td>0</td>\n",
       "      <td>0</td>\n",
       "    </tr>\n",
       "    <tr>\n",
       "      <th>590</th>\n",
       "      <td>86</td>\n",
       "      <td>1</td>\n",
       "      <td>0</td>\n",
       "      <td>0</td>\n",
       "      <td>0</td>\n",
       "      <td>1</td>\n",
       "      <td>0</td>\n",
       "    </tr>\n",
       "    <tr>\n",
       "      <th>...</th>\n",
       "      <td>...</td>\n",
       "      <td>...</td>\n",
       "      <td>...</td>\n",
       "      <td>...</td>\n",
       "      <td>...</td>\n",
       "      <td>...</td>\n",
       "      <td>...</td>\n",
       "    </tr>\n",
       "    <tr>\n",
       "      <th>1638</th>\n",
       "      <td>37</td>\n",
       "      <td>1</td>\n",
       "      <td>0</td>\n",
       "      <td>0</td>\n",
       "      <td>1</td>\n",
       "      <td>0</td>\n",
       "      <td>0</td>\n",
       "    </tr>\n",
       "    <tr>\n",
       "      <th>1095</th>\n",
       "      <td>35</td>\n",
       "      <td>1</td>\n",
       "      <td>0</td>\n",
       "      <td>0</td>\n",
       "      <td>0</td>\n",
       "      <td>0</td>\n",
       "      <td>0</td>\n",
       "    </tr>\n",
       "    <tr>\n",
       "      <th>1130</th>\n",
       "      <td>58</td>\n",
       "      <td>1</td>\n",
       "      <td>0</td>\n",
       "      <td>1</td>\n",
       "      <td>0</td>\n",
       "      <td>0</td>\n",
       "      <td>0</td>\n",
       "    </tr>\n",
       "    <tr>\n",
       "      <th>1294</th>\n",
       "      <td>52</td>\n",
       "      <td>1</td>\n",
       "      <td>0</td>\n",
       "      <td>1</td>\n",
       "      <td>0</td>\n",
       "      <td>0</td>\n",
       "      <td>0</td>\n",
       "    </tr>\n",
       "    <tr>\n",
       "      <th>860</th>\n",
       "      <td>46</td>\n",
       "      <td>1</td>\n",
       "      <td>0</td>\n",
       "      <td>1</td>\n",
       "      <td>0</td>\n",
       "      <td>0</td>\n",
       "      <td>0</td>\n",
       "    </tr>\n",
       "  </tbody>\n",
       "</table>\n",
       "<p>1718 rows × 7 columns</p>\n",
       "</div>"
      ],
      "text/plain": [
       "      edad  sexo_Mujer  estudios_Medios universitarios  estudios_Primaria  \\\n",
       "198     54           0                               0                  1   \n",
       "561     50           0                               0                  0   \n",
       "685     26           0                               1                  0   \n",
       "1321    62           0                               1                  0   \n",
       "590     86           1                               0                  0   \n",
       "...    ...         ...                             ...                ...   \n",
       "1638    37           1                               0                  0   \n",
       "1095    35           1                               0                  0   \n",
       "1130    58           1                               0                  1   \n",
       "1294    52           1                               0                  1   \n",
       "860     46           1                               0                  1   \n",
       "\n",
       "      estudios_Secundaria  estudios_Sin estudios  estudios_Superiores  \n",
       "198                     0                      0                    0  \n",
       "561                     0                      0                    1  \n",
       "685                     0                      0                    0  \n",
       "1321                    0                      0                    0  \n",
       "590                     0                      1                    0  \n",
       "...                   ...                    ...                  ...  \n",
       "1638                    1                      0                    0  \n",
       "1095                    0                      0                    0  \n",
       "1130                    0                      0                    0  \n",
       "1294                    0                      0                    0  \n",
       "860                     0                      0                    0  \n",
       "\n",
       "[1718 rows x 7 columns]"
      ]
     },
     "execution_count": 27,
     "metadata": {},
     "output_type": "execute_result"
    }
   ],
   "source": [
    "a[0]"
   ]
  },
  {
   "cell_type": "code",
   "execution_count": 28,
   "id": "92aa76d1-d6ce-4b34-aceb-ba9c060af1b1",
   "metadata": {},
   "outputs": [
    {
     "data": {
      "text/html": [
       "<div>\n",
       "<style scoped>\n",
       "    .dataframe tbody tr th:only-of-type {\n",
       "        vertical-align: middle;\n",
       "    }\n",
       "\n",
       "    .dataframe tbody tr th {\n",
       "        vertical-align: top;\n",
       "    }\n",
       "\n",
       "    .dataframe thead th {\n",
       "        text-align: right;\n",
       "    }\n",
       "</style>\n",
       "<table border=\"1\" class=\"dataframe\">\n",
       "  <thead>\n",
       "    <tr style=\"text-align: right;\">\n",
       "      <th></th>\n",
       "      <th>edad</th>\n",
       "      <th>sexo_Mujer</th>\n",
       "      <th>estudios_Medios universitarios</th>\n",
       "      <th>estudios_Primaria</th>\n",
       "      <th>estudios_Secundaria</th>\n",
       "      <th>estudios_Sin estudios</th>\n",
       "      <th>estudios_Superiores</th>\n",
       "    </tr>\n",
       "  </thead>\n",
       "  <tbody>\n",
       "    <tr>\n",
       "      <th>1598</th>\n",
       "      <td>52</td>\n",
       "      <td>1</td>\n",
       "      <td>0</td>\n",
       "      <td>1</td>\n",
       "      <td>0</td>\n",
       "      <td>0</td>\n",
       "      <td>0</td>\n",
       "    </tr>\n",
       "    <tr>\n",
       "      <th>620</th>\n",
       "      <td>48</td>\n",
       "      <td>0</td>\n",
       "      <td>0</td>\n",
       "      <td>0</td>\n",
       "      <td>0</td>\n",
       "      <td>0</td>\n",
       "      <td>0</td>\n",
       "    </tr>\n",
       "    <tr>\n",
       "      <th>1266</th>\n",
       "      <td>53</td>\n",
       "      <td>1</td>\n",
       "      <td>0</td>\n",
       "      <td>0</td>\n",
       "      <td>0</td>\n",
       "      <td>0</td>\n",
       "      <td>1</td>\n",
       "    </tr>\n",
       "    <tr>\n",
       "      <th>649</th>\n",
       "      <td>43</td>\n",
       "      <td>0</td>\n",
       "      <td>1</td>\n",
       "      <td>0</td>\n",
       "      <td>0</td>\n",
       "      <td>0</td>\n",
       "      <td>0</td>\n",
       "    </tr>\n",
       "    <tr>\n",
       "      <th>1908</th>\n",
       "      <td>43</td>\n",
       "      <td>0</td>\n",
       "      <td>0</td>\n",
       "      <td>0</td>\n",
       "      <td>0</td>\n",
       "      <td>0</td>\n",
       "      <td>0</td>\n",
       "    </tr>\n",
       "    <tr>\n",
       "      <th>...</th>\n",
       "      <td>...</td>\n",
       "      <td>...</td>\n",
       "      <td>...</td>\n",
       "      <td>...</td>\n",
       "      <td>...</td>\n",
       "      <td>...</td>\n",
       "      <td>...</td>\n",
       "    </tr>\n",
       "    <tr>\n",
       "      <th>377</th>\n",
       "      <td>28</td>\n",
       "      <td>0</td>\n",
       "      <td>0</td>\n",
       "      <td>0</td>\n",
       "      <td>0</td>\n",
       "      <td>0</td>\n",
       "      <td>1</td>\n",
       "    </tr>\n",
       "    <tr>\n",
       "      <th>535</th>\n",
       "      <td>35</td>\n",
       "      <td>1</td>\n",
       "      <td>0</td>\n",
       "      <td>0</td>\n",
       "      <td>0</td>\n",
       "      <td>0</td>\n",
       "      <td>0</td>\n",
       "    </tr>\n",
       "    <tr>\n",
       "      <th>1535</th>\n",
       "      <td>23</td>\n",
       "      <td>0</td>\n",
       "      <td>0</td>\n",
       "      <td>0</td>\n",
       "      <td>1</td>\n",
       "      <td>0</td>\n",
       "      <td>0</td>\n",
       "    </tr>\n",
       "    <tr>\n",
       "      <th>902</th>\n",
       "      <td>38</td>\n",
       "      <td>0</td>\n",
       "      <td>1</td>\n",
       "      <td>0</td>\n",
       "      <td>0</td>\n",
       "      <td>0</td>\n",
       "      <td>0</td>\n",
       "    </tr>\n",
       "    <tr>\n",
       "      <th>1967</th>\n",
       "      <td>41</td>\n",
       "      <td>0</td>\n",
       "      <td>0</td>\n",
       "      <td>0</td>\n",
       "      <td>0</td>\n",
       "      <td>0</td>\n",
       "      <td>1</td>\n",
       "    </tr>\n",
       "  </tbody>\n",
       "</table>\n",
       "<p>737 rows × 7 columns</p>\n",
       "</div>"
      ],
      "text/plain": [
       "      edad  sexo_Mujer  estudios_Medios universitarios  estudios_Primaria  \\\n",
       "1598    52           1                               0                  1   \n",
       "620     48           0                               0                  0   \n",
       "1266    53           1                               0                  0   \n",
       "649     43           0                               1                  0   \n",
       "1908    43           0                               0                  0   \n",
       "...    ...         ...                             ...                ...   \n",
       "377     28           0                               0                  0   \n",
       "535     35           1                               0                  0   \n",
       "1535    23           0                               0                  0   \n",
       "902     38           0                               1                  0   \n",
       "1967    41           0                               0                  0   \n",
       "\n",
       "      estudios_Secundaria  estudios_Sin estudios  estudios_Superiores  \n",
       "1598                    0                      0                    0  \n",
       "620                     0                      0                    0  \n",
       "1266                    0                      0                    1  \n",
       "649                     0                      0                    0  \n",
       "1908                    0                      0                    0  \n",
       "...                   ...                    ...                  ...  \n",
       "377                     0                      0                    1  \n",
       "535                     0                      0                    0  \n",
       "1535                    1                      0                    0  \n",
       "902                     0                      0                    0  \n",
       "1967                    0                      0                    1  \n",
       "\n",
       "[737 rows x 7 columns]"
      ]
     },
     "execution_count": 28,
     "metadata": {},
     "output_type": "execute_result"
    }
   ],
   "source": [
    "a[1]"
   ]
  },
  {
   "cell_type": "code",
   "execution_count": 30,
   "id": "f07a809c-0259-4de6-9c47-776b5fe451d9",
   "metadata": {},
   "outputs": [
    {
     "data": {
      "text/plain": [
       "198     0\n",
       "561     1\n",
       "685     1\n",
       "1321    1\n",
       "590     0\n",
       "       ..\n",
       "1638    1\n",
       "1095    1\n",
       "1130    0\n",
       "1294    0\n",
       "860     1\n",
       "Name: uso_internet, Length: 1718, dtype: int64"
      ]
     },
     "execution_count": 30,
     "metadata": {},
     "output_type": "execute_result"
    }
   ],
   "source": [
    "a[2]"
   ]
  },
  {
   "cell_type": "code",
   "execution_count": 31,
   "id": "719e8939-defb-4b45-b1bf-e25c1242f4de",
   "metadata": {},
   "outputs": [
    {
     "data": {
      "text/plain": [
       "1598    0\n",
       "620     1\n",
       "1266    1\n",
       "649     1\n",
       "1908    1\n",
       "       ..\n",
       "377     1\n",
       "535     1\n",
       "1535    1\n",
       "902     1\n",
       "1967    1\n",
       "Name: uso_internet, Length: 737, dtype: int64"
      ]
     },
     "execution_count": 31,
     "metadata": {},
     "output_type": "execute_result"
    }
   ],
   "source": [
    "a[3]"
   ]
  },
  {
   "cell_type": "code",
   "execution_count": 29,
   "id": "69962a84-b5e4-4214-be63-3e8c6224e161",
   "metadata": {},
   "outputs": [],
   "source": [
    "X_train, X_test, y_train, y_test = a"
   ]
  },
  {
   "cell_type": "code",
   "execution_count": 39,
   "id": "4c658d88-498a-4fb8-b088-cffc68e7042a",
   "metadata": {},
   "outputs": [],
   "source": [
    "def calcular_precision(model):\n",
    "    model.fit(X_train, y_train)\n",
    "    y_pred = model.predict(X_test)\n",
    "    precision = (y_pred == y_test).mean()\n",
    "\n",
    "    return precision"
   ]
  },
  {
   "cell_type": "markdown",
   "id": "5383fbfb",
   "metadata": {
    "tags": []
   },
   "source": [
    "## Modelo de Árboles de Decisión con Train Test Split"
   ]
  },
  {
   "cell_type": "markdown",
   "id": "a4c9ece6",
   "metadata": {},
   "source": [
    "- Deberíamos obtener la precisión del `DecisionTreeClassifier()` con los datos de `Testeo`."
   ]
  },
  {
   "cell_type": "code",
   "execution_count": 40,
   "id": "cb6640ad",
   "metadata": {},
   "outputs": [
    {
     "data": {
      "text/plain": [
       "0.8086838534599728"
      ]
     },
     "execution_count": 40,
     "metadata": {},
     "output_type": "execute_result"
    }
   ],
   "source": [
    "calcular_precision(dt)"
   ]
  },
  {
   "cell_type": "markdown",
   "id": "dcdbce4e",
   "metadata": {},
   "source": [
    "## Modelo de Support Vector Machine con Train Test Split"
   ]
  },
  {
   "cell_type": "markdown",
   "id": "507571a6",
   "metadata": {},
   "source": [
    "- Deberíamos obtener la precisión del `SVC()` con los datos de `Testeo`."
   ]
  },
  {
   "cell_type": "code",
   "execution_count": 41,
   "id": "a3fd10e4-e38f-4e79-bfbf-0b982264c9ba",
   "metadata": {},
   "outputs": [
    {
     "data": {
      "text/plain": [
       "0.7801899592944369"
      ]
     },
     "execution_count": 41,
     "metadata": {},
     "output_type": "execute_result"
    }
   ],
   "source": [
    "calcular_precision(svm)"
   ]
  },
  {
   "cell_type": "markdown",
   "id": "72dd673b",
   "metadata": {},
   "source": [
    "## Modelo de Regresión Logística con Train Test Split"
   ]
  },
  {
   "cell_type": "markdown",
   "id": "61f3296b",
   "metadata": {},
   "source": [
    "- Deberíamos obtener la precisión del `LogisticRegression()` con los datos de `Testeo`."
   ]
  },
  {
   "cell_type": "code",
   "execution_count": 44,
   "id": "d71cd11b-728d-4669-b464-be54d5f59022",
   "metadata": {},
   "outputs": [],
   "source": [
    "lr = LogisticRegression(max_iter=1000)"
   ]
  },
  {
   "cell_type": "code",
   "execution_count": 45,
   "id": "2d332ed1-8ffd-4fed-bfd6-e102eb578d5b",
   "metadata": {},
   "outputs": [
    {
     "data": {
      "text/plain": [
       "0.8534599728629579"
      ]
     },
     "execution_count": 45,
     "metadata": {},
     "output_type": "execute_result"
    }
   ],
   "source": [
    "calcular_precision(lr)"
   ]
  },
  {
   "cell_type": "code",
   "execution_count": 46,
   "id": "1f327960-617f-416c-a20c-9761d82ca9ed",
   "metadata": {},
   "outputs": [
    {
     "data": {
      "text/html": [
       "<div>\n",
       "<style scoped>\n",
       "    .dataframe tbody tr th:only-of-type {\n",
       "        vertical-align: middle;\n",
       "    }\n",
       "\n",
       "    .dataframe tbody tr th {\n",
       "        vertical-align: top;\n",
       "    }\n",
       "\n",
       "    .dataframe thead th {\n",
       "        text-align: right;\n",
       "    }\n",
       "</style>\n",
       "<table border=\"1\" class=\"dataframe\">\n",
       "  <thead>\n",
       "    <tr style=\"text-align: right;\">\n",
       "      <th></th>\n",
       "      <th>uso_internet</th>\n",
       "      <th>sexo</th>\n",
       "      <th>edad</th>\n",
       "      <th>estudios</th>\n",
       "    </tr>\n",
       "  </thead>\n",
       "  <tbody>\n",
       "    <tr>\n",
       "      <th>0</th>\n",
       "      <td>0</td>\n",
       "      <td>Mujer</td>\n",
       "      <td>66</td>\n",
       "      <td>Primaria</td>\n",
       "    </tr>\n",
       "    <tr>\n",
       "      <th>1</th>\n",
       "      <td>1</td>\n",
       "      <td>Hombre</td>\n",
       "      <td>72</td>\n",
       "      <td>Primaria</td>\n",
       "    </tr>\n",
       "    <tr>\n",
       "      <th>2</th>\n",
       "      <td>1</td>\n",
       "      <td>Hombre</td>\n",
       "      <td>48</td>\n",
       "      <td>Medios universitarios</td>\n",
       "    </tr>\n",
       "    <tr>\n",
       "      <th>3</th>\n",
       "      <td>0</td>\n",
       "      <td>Hombre</td>\n",
       "      <td>59</td>\n",
       "      <td>Superiores</td>\n",
       "    </tr>\n",
       "    <tr>\n",
       "      <th>4</th>\n",
       "      <td>1</td>\n",
       "      <td>Mujer</td>\n",
       "      <td>44</td>\n",
       "      <td>Superiores</td>\n",
       "    </tr>\n",
       "    <tr>\n",
       "      <th>...</th>\n",
       "      <td>...</td>\n",
       "      <td>...</td>\n",
       "      <td>...</td>\n",
       "      <td>...</td>\n",
       "    </tr>\n",
       "    <tr>\n",
       "      <th>2450</th>\n",
       "      <td>1</td>\n",
       "      <td>Hombre</td>\n",
       "      <td>43</td>\n",
       "      <td>Primaria</td>\n",
       "    </tr>\n",
       "    <tr>\n",
       "      <th>2451</th>\n",
       "      <td>1</td>\n",
       "      <td>Mujer</td>\n",
       "      <td>18</td>\n",
       "      <td>Secundaria</td>\n",
       "    </tr>\n",
       "    <tr>\n",
       "      <th>2452</th>\n",
       "      <td>0</td>\n",
       "      <td>Mujer</td>\n",
       "      <td>54</td>\n",
       "      <td>Primaria</td>\n",
       "    </tr>\n",
       "    <tr>\n",
       "      <th>2453</th>\n",
       "      <td>1</td>\n",
       "      <td>Hombre</td>\n",
       "      <td>31</td>\n",
       "      <td>Secundaria</td>\n",
       "    </tr>\n",
       "    <tr>\n",
       "      <th>2454</th>\n",
       "      <td>0</td>\n",
       "      <td>Hombre</td>\n",
       "      <td>52</td>\n",
       "      <td>Primaria</td>\n",
       "    </tr>\n",
       "  </tbody>\n",
       "</table>\n",
       "<p>2455 rows × 4 columns</p>\n",
       "</div>"
      ],
      "text/plain": [
       "      uso_internet    sexo  edad               estudios\n",
       "0                0   Mujer    66               Primaria\n",
       "1                1  Hombre    72               Primaria\n",
       "2                1  Hombre    48  Medios universitarios\n",
       "3                0  Hombre    59             Superiores\n",
       "4                1   Mujer    44             Superiores\n",
       "...            ...     ...   ...                    ...\n",
       "2450             1  Hombre    43               Primaria\n",
       "2451             1   Mujer    18             Secundaria\n",
       "2452             0   Mujer    54               Primaria\n",
       "2453             1  Hombre    31             Secundaria\n",
       "2454             0  Hombre    52               Primaria\n",
       "\n",
       "[2455 rows x 4 columns]"
      ]
     },
     "execution_count": 46,
     "metadata": {},
     "output_type": "execute_result"
    }
   ],
   "source": [
    "df"
   ]
  },
  {
   "cell_type": "code",
   "execution_count": 63,
   "id": "8d916013-b23d-4cfd-a5d3-b35da0ae575b",
   "metadata": {},
   "outputs": [],
   "source": [
    "from sklearn.preprocessing import OneHotEncoder"
   ]
  },
  {
   "cell_type": "code",
   "execution_count": 65,
   "id": "66706190-6ad7-4cb6-b107-e710a7d376ae",
   "metadata": {},
   "outputs": [],
   "source": [
    "explicativas = df.drop(columns='uso_internet')"
   ]
  },
  {
   "cell_type": "code",
   "execution_count": 66,
   "id": "8e55b1c2-70d2-406d-a1ff-6495ddb08d66",
   "metadata": {},
   "outputs": [],
   "source": [
    "encoder = OneHotEncoder()"
   ]
  },
  {
   "cell_type": "code",
   "execution_count": 76,
   "id": "8918114a-8900-43ff-a9cf-6c72f26cc0be",
   "metadata": {},
   "outputs": [],
   "source": [
    "res = encoder.fit_transform(explicativas.loc[:,['sexo', 'estudios']])"
   ]
  },
  {
   "cell_type": "code",
   "execution_count": 80,
   "id": "2deae2c0-5615-46ee-9939-eca0a06c761f",
   "metadata": {},
   "outputs": [],
   "source": [
    "sexo = 'Hombre'"
   ]
  },
  {
   "cell_type": "code",
   "execution_count": 81,
   "id": "1d47a7f6-3160-405d-9d16-1f85d252e828",
   "metadata": {},
   "outputs": [],
   "source": [
    "estudios = 'Primaria'"
   ]
  },
  {
   "cell_type": "code",
   "execution_count": 85,
   "id": "862cd191-41ed-4c18-a532-2a21b61985dd",
   "metadata": {},
   "outputs": [],
   "source": [
    "to_predict = pd.DataFrame({'sexo': 'Hombre', 'estudios':'Primaria'}, index=['juan'])"
   ]
  },
  {
   "cell_type": "code",
   "execution_count": 92,
   "id": "38a3125b-ea94-451d-aa70-6140aa29a135",
   "metadata": {},
   "outputs": [],
   "source": [
    "a = encoder.transform(to_predict).toarray().tolist()"
   ]
  },
  {
   "cell_type": "code",
   "execution_count": 96,
   "id": "9e51b288-6507-41cb-9e30-c5675bb43caa",
   "metadata": {},
   "outputs": [],
   "source": [
    "a = [edad] + a[0]"
   ]
  },
  {
   "cell_type": "code",
   "execution_count": 102,
   "id": "d05c2277-227b-45c4-94b9-e6f69e93793f",
   "metadata": {},
   "outputs": [],
   "source": [
    "to_predict = pd.DataFrame(a).T"
   ]
  },
  {
   "cell_type": "code",
   "execution_count": 104,
   "id": "e70906e1-a110-4261-ba42-65714c5cd51d",
   "metadata": {},
   "outputs": [
    {
     "data": {
      "text/html": [
       "<div>\n",
       "<style scoped>\n",
       "    .dataframe tbody tr th:only-of-type {\n",
       "        vertical-align: middle;\n",
       "    }\n",
       "\n",
       "    .dataframe tbody tr th {\n",
       "        vertical-align: top;\n",
       "    }\n",
       "\n",
       "    .dataframe thead th {\n",
       "        text-align: right;\n",
       "    }\n",
       "</style>\n",
       "<table border=\"1\" class=\"dataframe\">\n",
       "  <thead>\n",
       "    <tr style=\"text-align: right;\">\n",
       "      <th></th>\n",
       "      <th>0</th>\n",
       "      <th>1</th>\n",
       "      <th>2</th>\n",
       "      <th>3</th>\n",
       "      <th>4</th>\n",
       "      <th>5</th>\n",
       "      <th>6</th>\n",
       "      <th>7</th>\n",
       "      <th>8</th>\n",
       "    </tr>\n",
       "  </thead>\n",
       "  <tbody>\n",
       "    <tr>\n",
       "      <th>0</th>\n",
       "      <td>89.0</td>\n",
       "      <td>1.0</td>\n",
       "      <td>0.0</td>\n",
       "      <td>0.0</td>\n",
       "      <td>0.0</td>\n",
       "      <td>1.0</td>\n",
       "      <td>0.0</td>\n",
       "      <td>0.0</td>\n",
       "      <td>0.0</td>\n",
       "    </tr>\n",
       "  </tbody>\n",
       "</table>\n",
       "</div>"
      ],
      "text/plain": [
       "      0    1    2    3    4    5    6    7    8\n",
       "0  89.0  1.0  0.0  0.0  0.0  1.0  0.0  0.0  0.0"
      ]
     },
     "execution_count": 104,
     "metadata": {},
     "output_type": "execute_result"
    }
   ],
   "source": [
    "to_predict"
   ]
  },
  {
   "cell_type": "code",
   "execution_count": 106,
   "id": "d637727b-b42d-48bd-aa61-963c48b1606e",
   "metadata": {},
   "outputs": [
    {
     "data": {
      "text/plain": [
       "(1718, 7)"
      ]
     },
     "execution_count": 106,
     "metadata": {},
     "output_type": "execute_result"
    }
   ],
   "source": [
    "X_train.shape"
   ]
  },
  {
   "cell_type": "code",
   "execution_count": 110,
   "id": "236fc655-a5c0-4fb5-befe-9f48523b379b",
   "metadata": {},
   "outputs": [],
   "source": [
    "df = pd.get_dummies(df)"
   ]
  },
  {
   "cell_type": "code",
   "execution_count": 112,
   "id": "b9f1e105-3a41-4ceb-b053-9d8cd83b1af2",
   "metadata": {},
   "outputs": [],
   "source": [
    "objetivo = df.uso_internet"
   ]
  },
  {
   "cell_type": "code",
   "execution_count": 113,
   "id": "bb426f76-3044-48e7-b548-de76536384b1",
   "metadata": {},
   "outputs": [],
   "source": [
    "explicativas = df.drop(columns='uso_internet')"
   ]
  },
  {
   "cell_type": "code",
   "execution_count": 114,
   "id": "9a365382-808f-4464-ae9c-747cd804e0fc",
   "metadata": {},
   "outputs": [],
   "source": [
    "X_train, X_test, y_train, y_test = train_test_split(explicativas, objetivo)"
   ]
  },
  {
   "cell_type": "code",
   "execution_count": 116,
   "id": "449730da-95a4-4211-9114-c1e17d320f86",
   "metadata": {},
   "outputs": [
    {
     "data": {
      "text/plain": [
       "0.8257328990228013"
      ]
     },
     "execution_count": 116,
     "metadata": {},
     "output_type": "execute_result"
    }
   ],
   "source": [
    "calcular_precision(lr)"
   ]
  },
  {
   "cell_type": "code",
   "execution_count": 117,
   "id": "bd4c7836-aca8-40ac-bc0c-a2b3ec9601bf",
   "metadata": {},
   "outputs": [
    {
     "data": {
      "text/plain": [
       "array([0])"
      ]
     },
     "execution_count": 117,
     "metadata": {},
     "output_type": "execute_result"
    }
   ],
   "source": [
    "lr.predict(to_predict)"
   ]
  },
  {
   "cell_type": "code",
   "execution_count": 118,
   "id": "a9ebb0f3-29ea-4d45-b6f0-e0f4e872fa24",
   "metadata": {},
   "outputs": [
    {
     "data": {
      "text/plain": [
       "array([[0.98509393, 0.01490607]])"
      ]
     },
     "execution_count": 118,
     "metadata": {},
     "output_type": "execute_result"
    }
   ],
   "source": [
    "lr.predict_proba(to_predict)"
   ]
  },
  {
   "cell_type": "code",
   "execution_count": null,
   "id": "7384968e-e406-4a09-ac1f-02bf17bfc391",
   "metadata": {},
   "outputs": [],
   "source": [
    "with open('modelo.pkl', 'w') as f:\n",
    "    pickle.dumps()"
   ]
  },
  {
   "cell_type": "code",
   "execution_count": 79,
   "id": "79f07558-2247-4044-b1cb-dcdcabe3c129",
   "metadata": {},
   "outputs": [
    {
     "data": {
      "text/html": [
       "<div>\n",
       "<style scoped>\n",
       "    .dataframe tbody tr th:only-of-type {\n",
       "        vertical-align: middle;\n",
       "    }\n",
       "\n",
       "    .dataframe tbody tr th {\n",
       "        vertical-align: top;\n",
       "    }\n",
       "\n",
       "    .dataframe thead th {\n",
       "        text-align: right;\n",
       "    }\n",
       "</style>\n",
       "<table border=\"1\" class=\"dataframe\">\n",
       "  <thead>\n",
       "    <tr style=\"text-align: right;\">\n",
       "      <th></th>\n",
       "      <th>edad</th>\n",
       "      <th>0</th>\n",
       "      <th>1</th>\n",
       "      <th>2</th>\n",
       "      <th>3</th>\n",
       "      <th>4</th>\n",
       "      <th>5</th>\n",
       "      <th>6</th>\n",
       "      <th>7</th>\n",
       "    </tr>\n",
       "  </thead>\n",
       "  <tbody>\n",
       "    <tr>\n",
       "      <th>0</th>\n",
       "      <td>66</td>\n",
       "      <td>0.0</td>\n",
       "      <td>1.0</td>\n",
       "      <td>0.0</td>\n",
       "      <td>0.0</td>\n",
       "      <td>1.0</td>\n",
       "      <td>0.0</td>\n",
       "      <td>0.0</td>\n",
       "      <td>0.0</td>\n",
       "    </tr>\n",
       "    <tr>\n",
       "      <th>1</th>\n",
       "      <td>72</td>\n",
       "      <td>1.0</td>\n",
       "      <td>0.0</td>\n",
       "      <td>0.0</td>\n",
       "      <td>0.0</td>\n",
       "      <td>1.0</td>\n",
       "      <td>0.0</td>\n",
       "      <td>0.0</td>\n",
       "      <td>0.0</td>\n",
       "    </tr>\n",
       "    <tr>\n",
       "      <th>2</th>\n",
       "      <td>48</td>\n",
       "      <td>1.0</td>\n",
       "      <td>0.0</td>\n",
       "      <td>0.0</td>\n",
       "      <td>1.0</td>\n",
       "      <td>0.0</td>\n",
       "      <td>0.0</td>\n",
       "      <td>0.0</td>\n",
       "      <td>0.0</td>\n",
       "    </tr>\n",
       "    <tr>\n",
       "      <th>3</th>\n",
       "      <td>59</td>\n",
       "      <td>1.0</td>\n",
       "      <td>0.0</td>\n",
       "      <td>0.0</td>\n",
       "      <td>0.0</td>\n",
       "      <td>0.0</td>\n",
       "      <td>0.0</td>\n",
       "      <td>0.0</td>\n",
       "      <td>1.0</td>\n",
       "    </tr>\n",
       "    <tr>\n",
       "      <th>4</th>\n",
       "      <td>44</td>\n",
       "      <td>0.0</td>\n",
       "      <td>1.0</td>\n",
       "      <td>0.0</td>\n",
       "      <td>0.0</td>\n",
       "      <td>0.0</td>\n",
       "      <td>0.0</td>\n",
       "      <td>0.0</td>\n",
       "      <td>1.0</td>\n",
       "    </tr>\n",
       "    <tr>\n",
       "      <th>...</th>\n",
       "      <td>...</td>\n",
       "      <td>...</td>\n",
       "      <td>...</td>\n",
       "      <td>...</td>\n",
       "      <td>...</td>\n",
       "      <td>...</td>\n",
       "      <td>...</td>\n",
       "      <td>...</td>\n",
       "      <td>...</td>\n",
       "    </tr>\n",
       "    <tr>\n",
       "      <th>2450</th>\n",
       "      <td>43</td>\n",
       "      <td>1.0</td>\n",
       "      <td>0.0</td>\n",
       "      <td>0.0</td>\n",
       "      <td>0.0</td>\n",
       "      <td>1.0</td>\n",
       "      <td>0.0</td>\n",
       "      <td>0.0</td>\n",
       "      <td>0.0</td>\n",
       "    </tr>\n",
       "    <tr>\n",
       "      <th>2451</th>\n",
       "      <td>18</td>\n",
       "      <td>0.0</td>\n",
       "      <td>1.0</td>\n",
       "      <td>0.0</td>\n",
       "      <td>0.0</td>\n",
       "      <td>0.0</td>\n",
       "      <td>1.0</td>\n",
       "      <td>0.0</td>\n",
       "      <td>0.0</td>\n",
       "    </tr>\n",
       "    <tr>\n",
       "      <th>2452</th>\n",
       "      <td>54</td>\n",
       "      <td>0.0</td>\n",
       "      <td>1.0</td>\n",
       "      <td>0.0</td>\n",
       "      <td>0.0</td>\n",
       "      <td>1.0</td>\n",
       "      <td>0.0</td>\n",
       "      <td>0.0</td>\n",
       "      <td>0.0</td>\n",
       "    </tr>\n",
       "    <tr>\n",
       "      <th>2453</th>\n",
       "      <td>31</td>\n",
       "      <td>1.0</td>\n",
       "      <td>0.0</td>\n",
       "      <td>0.0</td>\n",
       "      <td>0.0</td>\n",
       "      <td>0.0</td>\n",
       "      <td>1.0</td>\n",
       "      <td>0.0</td>\n",
       "      <td>0.0</td>\n",
       "    </tr>\n",
       "    <tr>\n",
       "      <th>2454</th>\n",
       "      <td>52</td>\n",
       "      <td>1.0</td>\n",
       "      <td>0.0</td>\n",
       "      <td>0.0</td>\n",
       "      <td>0.0</td>\n",
       "      <td>1.0</td>\n",
       "      <td>0.0</td>\n",
       "      <td>0.0</td>\n",
       "      <td>0.0</td>\n",
       "    </tr>\n",
       "  </tbody>\n",
       "</table>\n",
       "<p>2455 rows × 9 columns</p>\n",
       "</div>"
      ],
      "text/plain": [
       "      edad    0    1    2    3    4    5    6    7\n",
       "0       66  0.0  1.0  0.0  0.0  1.0  0.0  0.0  0.0\n",
       "1       72  1.0  0.0  0.0  0.0  1.0  0.0  0.0  0.0\n",
       "2       48  1.0  0.0  0.0  1.0  0.0  0.0  0.0  0.0\n",
       "3       59  1.0  0.0  0.0  0.0  0.0  0.0  0.0  1.0\n",
       "4       44  0.0  1.0  0.0  0.0  0.0  0.0  0.0  1.0\n",
       "...    ...  ...  ...  ...  ...  ...  ...  ...  ...\n",
       "2450    43  1.0  0.0  0.0  0.0  1.0  0.0  0.0  0.0\n",
       "2451    18  0.0  1.0  0.0  0.0  0.0  1.0  0.0  0.0\n",
       "2452    54  0.0  1.0  0.0  0.0  1.0  0.0  0.0  0.0\n",
       "2453    31  1.0  0.0  0.0  0.0  0.0  1.0  0.0  0.0\n",
       "2454    52  1.0  0.0  0.0  0.0  1.0  0.0  0.0  0.0\n",
       "\n",
       "[2455 rows x 9 columns]"
      ]
     },
     "execution_count": 79,
     "metadata": {},
     "output_type": "execute_result"
    }
   ],
   "source": [
    "pd.concat([explicativas[['edad']], pd.DataFrame(res.toarray())], axis=1)"
   ]
  },
  {
   "cell_type": "code",
   "execution_count": 62,
   "id": "809d33b1-a75a-4a48-ad93-11a3ea450d92",
   "metadata": {},
   "outputs": [
    {
     "data": {
      "text/html": [
       "<div>\n",
       "<style scoped>\n",
       "    .dataframe tbody tr th:only-of-type {\n",
       "        vertical-align: middle;\n",
       "    }\n",
       "\n",
       "    .dataframe tbody tr th {\n",
       "        vertical-align: top;\n",
       "    }\n",
       "\n",
       "    .dataframe thead th {\n",
       "        text-align: right;\n",
       "    }\n",
       "</style>\n",
       "<table border=\"1\" class=\"dataframe\">\n",
       "  <thead>\n",
       "    <tr style=\"text-align: right;\">\n",
       "      <th></th>\n",
       "      <th>edad</th>\n",
       "      <th>sexo_Mujer</th>\n",
       "      <th>estudios_Medios universitarios</th>\n",
       "      <th>estudios_Primaria</th>\n",
       "      <th>estudios_Secundaria</th>\n",
       "      <th>estudios_Sin estudios</th>\n",
       "      <th>estudios_Superiores</th>\n",
       "    </tr>\n",
       "  </thead>\n",
       "  <tbody>\n",
       "    <tr>\n",
       "      <th>0</th>\n",
       "      <td>66</td>\n",
       "      <td>1</td>\n",
       "      <td>0</td>\n",
       "      <td>1</td>\n",
       "      <td>0</td>\n",
       "      <td>0</td>\n",
       "      <td>0</td>\n",
       "    </tr>\n",
       "    <tr>\n",
       "      <th>1</th>\n",
       "      <td>72</td>\n",
       "      <td>0</td>\n",
       "      <td>0</td>\n",
       "      <td>1</td>\n",
       "      <td>0</td>\n",
       "      <td>0</td>\n",
       "      <td>0</td>\n",
       "    </tr>\n",
       "    <tr>\n",
       "      <th>2</th>\n",
       "      <td>48</td>\n",
       "      <td>0</td>\n",
       "      <td>1</td>\n",
       "      <td>0</td>\n",
       "      <td>0</td>\n",
       "      <td>0</td>\n",
       "      <td>0</td>\n",
       "    </tr>\n",
       "    <tr>\n",
       "      <th>3</th>\n",
       "      <td>59</td>\n",
       "      <td>0</td>\n",
       "      <td>0</td>\n",
       "      <td>0</td>\n",
       "      <td>0</td>\n",
       "      <td>0</td>\n",
       "      <td>1</td>\n",
       "    </tr>\n",
       "    <tr>\n",
       "      <th>4</th>\n",
       "      <td>44</td>\n",
       "      <td>1</td>\n",
       "      <td>0</td>\n",
       "      <td>0</td>\n",
       "      <td>0</td>\n",
       "      <td>0</td>\n",
       "      <td>1</td>\n",
       "    </tr>\n",
       "    <tr>\n",
       "      <th>...</th>\n",
       "      <td>...</td>\n",
       "      <td>...</td>\n",
       "      <td>...</td>\n",
       "      <td>...</td>\n",
       "      <td>...</td>\n",
       "      <td>...</td>\n",
       "      <td>...</td>\n",
       "    </tr>\n",
       "    <tr>\n",
       "      <th>2450</th>\n",
       "      <td>43</td>\n",
       "      <td>0</td>\n",
       "      <td>0</td>\n",
       "      <td>1</td>\n",
       "      <td>0</td>\n",
       "      <td>0</td>\n",
       "      <td>0</td>\n",
       "    </tr>\n",
       "    <tr>\n",
       "      <th>2451</th>\n",
       "      <td>18</td>\n",
       "      <td>1</td>\n",
       "      <td>0</td>\n",
       "      <td>0</td>\n",
       "      <td>1</td>\n",
       "      <td>0</td>\n",
       "      <td>0</td>\n",
       "    </tr>\n",
       "    <tr>\n",
       "      <th>2452</th>\n",
       "      <td>54</td>\n",
       "      <td>1</td>\n",
       "      <td>0</td>\n",
       "      <td>1</td>\n",
       "      <td>0</td>\n",
       "      <td>0</td>\n",
       "      <td>0</td>\n",
       "    </tr>\n",
       "    <tr>\n",
       "      <th>2453</th>\n",
       "      <td>31</td>\n",
       "      <td>0</td>\n",
       "      <td>0</td>\n",
       "      <td>0</td>\n",
       "      <td>1</td>\n",
       "      <td>0</td>\n",
       "      <td>0</td>\n",
       "    </tr>\n",
       "    <tr>\n",
       "      <th>2454</th>\n",
       "      <td>52</td>\n",
       "      <td>0</td>\n",
       "      <td>0</td>\n",
       "      <td>1</td>\n",
       "      <td>0</td>\n",
       "      <td>0</td>\n",
       "      <td>0</td>\n",
       "    </tr>\n",
       "  </tbody>\n",
       "</table>\n",
       "<p>2455 rows × 7 columns</p>\n",
       "</div>"
      ],
      "text/plain": [
       "      edad  sexo_Mujer  estudios_Medios universitarios  estudios_Primaria  \\\n",
       "0       66           1                               0                  1   \n",
       "1       72           0                               0                  1   \n",
       "2       48           0                               1                  0   \n",
       "3       59           0                               0                  0   \n",
       "4       44           1                               0                  0   \n",
       "...    ...         ...                             ...                ...   \n",
       "2450    43           0                               0                  1   \n",
       "2451    18           1                               0                  0   \n",
       "2452    54           1                               0                  1   \n",
       "2453    31           0                               0                  0   \n",
       "2454    52           0                               0                  1   \n",
       "\n",
       "      estudios_Secundaria  estudios_Sin estudios  estudios_Superiores  \n",
       "0                       0                      0                    0  \n",
       "1                       0                      0                    0  \n",
       "2                       0                      0                    0  \n",
       "3                       0                      0                    1  \n",
       "4                       0                      0                    1  \n",
       "...                   ...                    ...                  ...  \n",
       "2450                    0                      0                    0  \n",
       "2451                    1                      0                    0  \n",
       "2452                    0                      0                    0  \n",
       "2453                    1                      0                    0  \n",
       "2454                    0                      0                    0  \n",
       "\n",
       "[2455 rows x 7 columns]"
      ]
     },
     "execution_count": 62,
     "metadata": {},
     "output_type": "execute_result"
    }
   ],
   "source": [
    "explicativas"
   ]
  },
  {
   "cell_type": "code",
   "execution_count": 47,
   "id": "ba6099a8-f49e-4ff5-8b15-a2d0ddbe09be",
   "metadata": {},
   "outputs": [],
   "source": [
    "sexo = 'Hombre'"
   ]
  },
  {
   "cell_type": "code",
   "execution_count": 48,
   "id": "611e1657-dc03-406d-95a2-689603985b78",
   "metadata": {},
   "outputs": [],
   "source": [
    "edad = 89"
   ]
  },
  {
   "cell_type": "code",
   "execution_count": 49,
   "id": "940b7516-d5f6-4f62-bb4e-d8a985e15541",
   "metadata": {},
   "outputs": [],
   "source": [
    "estudios = 'Primaria'"
   ]
  },
  {
   "cell_type": "code",
   "execution_count": 54,
   "id": "77222048-ca3d-49bf-b492-4ca6782b5d86",
   "metadata": {},
   "outputs": [],
   "source": [
    "to_predict = pd.DataFrame({'sexo': sexo, 'edad': edad, 'estudios': estudios}, index=['Juan'])"
   ]
  },
  {
   "cell_type": "code",
   "execution_count": 55,
   "id": "b1835b9d-a12e-4fd2-b010-dbad55501f21",
   "metadata": {},
   "outputs": [
    {
     "data": {
      "text/html": [
       "<div>\n",
       "<style scoped>\n",
       "    .dataframe tbody tr th:only-of-type {\n",
       "        vertical-align: middle;\n",
       "    }\n",
       "\n",
       "    .dataframe tbody tr th {\n",
       "        vertical-align: top;\n",
       "    }\n",
       "\n",
       "    .dataframe thead th {\n",
       "        text-align: right;\n",
       "    }\n",
       "</style>\n",
       "<table border=\"1\" class=\"dataframe\">\n",
       "  <thead>\n",
       "    <tr style=\"text-align: right;\">\n",
       "      <th></th>\n",
       "      <th>sexo</th>\n",
       "      <th>edad</th>\n",
       "      <th>estudios</th>\n",
       "    </tr>\n",
       "  </thead>\n",
       "  <tbody>\n",
       "    <tr>\n",
       "      <th>Juan</th>\n",
       "      <td>Hombre</td>\n",
       "      <td>89</td>\n",
       "      <td>Primaria</td>\n",
       "    </tr>\n",
       "  </tbody>\n",
       "</table>\n",
       "</div>"
      ],
      "text/plain": [
       "        sexo  edad  estudios\n",
       "Juan  Hombre    89  Primaria"
      ]
     },
     "execution_count": 55,
     "metadata": {},
     "output_type": "execute_result"
    }
   ],
   "source": [
    "to_predict"
   ]
  },
  {
   "cell_type": "code",
   "execution_count": 57,
   "id": "b82cd283-ef89-48e7-9b5c-b0c548a8e7a4",
   "metadata": {},
   "outputs": [
    {
     "data": {
      "text/html": [
       "<div>\n",
       "<style scoped>\n",
       "    .dataframe tbody tr th:only-of-type {\n",
       "        vertical-align: middle;\n",
       "    }\n",
       "\n",
       "    .dataframe tbody tr th {\n",
       "        vertical-align: top;\n",
       "    }\n",
       "\n",
       "    .dataframe thead th {\n",
       "        text-align: right;\n",
       "    }\n",
       "</style>\n",
       "<table border=\"1\" class=\"dataframe\">\n",
       "  <thead>\n",
       "    <tr style=\"text-align: right;\">\n",
       "      <th></th>\n",
       "      <th>edad</th>\n",
       "      <th>sexo_Mujer</th>\n",
       "      <th>estudios_Medios universitarios</th>\n",
       "      <th>estudios_Primaria</th>\n",
       "      <th>estudios_Secundaria</th>\n",
       "      <th>estudios_Sin estudios</th>\n",
       "      <th>estudios_Superiores</th>\n",
       "    </tr>\n",
       "  </thead>\n",
       "  <tbody>\n",
       "    <tr>\n",
       "      <th>0</th>\n",
       "      <td>66</td>\n",
       "      <td>1</td>\n",
       "      <td>0</td>\n",
       "      <td>1</td>\n",
       "      <td>0</td>\n",
       "      <td>0</td>\n",
       "      <td>0</td>\n",
       "    </tr>\n",
       "    <tr>\n",
       "      <th>1</th>\n",
       "      <td>72</td>\n",
       "      <td>0</td>\n",
       "      <td>0</td>\n",
       "      <td>1</td>\n",
       "      <td>0</td>\n",
       "      <td>0</td>\n",
       "      <td>0</td>\n",
       "    </tr>\n",
       "    <tr>\n",
       "      <th>2</th>\n",
       "      <td>48</td>\n",
       "      <td>0</td>\n",
       "      <td>1</td>\n",
       "      <td>0</td>\n",
       "      <td>0</td>\n",
       "      <td>0</td>\n",
       "      <td>0</td>\n",
       "    </tr>\n",
       "    <tr>\n",
       "      <th>3</th>\n",
       "      <td>59</td>\n",
       "      <td>0</td>\n",
       "      <td>0</td>\n",
       "      <td>0</td>\n",
       "      <td>0</td>\n",
       "      <td>0</td>\n",
       "      <td>1</td>\n",
       "    </tr>\n",
       "    <tr>\n",
       "      <th>4</th>\n",
       "      <td>44</td>\n",
       "      <td>1</td>\n",
       "      <td>0</td>\n",
       "      <td>0</td>\n",
       "      <td>0</td>\n",
       "      <td>0</td>\n",
       "      <td>1</td>\n",
       "    </tr>\n",
       "  </tbody>\n",
       "</table>\n",
       "</div>"
      ],
      "text/plain": [
       "   edad  sexo_Mujer  estudios_Medios universitarios  estudios_Primaria  \\\n",
       "0    66           1                               0                  1   \n",
       "1    72           0                               0                  1   \n",
       "2    48           0                               1                  0   \n",
       "3    59           0                               0                  0   \n",
       "4    44           1                               0                  0   \n",
       "\n",
       "   estudios_Secundaria  estudios_Sin estudios  estudios_Superiores  \n",
       "0                    0                      0                    0  \n",
       "1                    0                      0                    0  \n",
       "2                    0                      0                    0  \n",
       "3                    0                      0                    1  \n",
       "4                    0                      0                    1  "
      ]
     },
     "execution_count": 57,
     "metadata": {},
     "output_type": "execute_result"
    }
   ],
   "source": [
    "explicativas.head()"
   ]
  },
  {
   "cell_type": "code",
   "execution_count": 58,
   "id": "f77adf05-3131-4b69-a077-52859225cfaf",
   "metadata": {},
   "outputs": [],
   "source": [
    "edad = 89"
   ]
  },
  {
   "cell_type": "code",
   "execution_count": 59,
   "id": "466b3d99-bb65-4709-aa6f-9926582351d1",
   "metadata": {},
   "outputs": [],
   "source": [
    "sexo_Mujer = 'Hombre'"
   ]
  },
  {
   "cell_type": "code",
   "execution_count": 60,
   "id": "421f88ab-588a-4755-a869-af9f78229eb4",
   "metadata": {},
   "outputs": [],
   "source": [
    "if sexo_Mujer == 'Hombre':\n",
    "    sexo_Mujer = 0\n",
    "else:\n",
    "    sexo_Mujer = 1"
   ]
  },
  {
   "cell_type": "code",
   "execution_count": 61,
   "id": "8652070f-b7dc-418e-8480-2cecb3355d47",
   "metadata": {},
   "outputs": [],
   "source": [
    "import numpy as np"
   ]
  },
  {
   "cell_type": "code",
   "execution_count": null,
   "id": "86f2a300-a36a-4e4b-87fc-92213f6e65c0",
   "metadata": {},
   "outputs": [],
   "source": [
    "np.rea"
   ]
  },
  {
   "cell_type": "code",
   "execution_count": 56,
   "id": "432fe43e-33fb-4da5-abf5-2fff7352ebf8",
   "metadata": {},
   "outputs": [
    {
     "ename": "ValueError",
     "evalue": "could not convert string to float: 'Hombre'",
     "output_type": "error",
     "traceback": [
      "\u001b[0;31m---------------------------------------------------------------------------\u001b[0m",
      "\u001b[0;31mValueError\u001b[0m                                Traceback (most recent call last)",
      "\u001b[0;32m/var/folders/24/tg28vxls25l9mjvqrnh0plc80000gn/T/ipykernel_95472/4225397800.py\u001b[0m in \u001b[0;36m<module>\u001b[0;34m\u001b[0m\n\u001b[0;32m----> 1\u001b[0;31m \u001b[0mmodel\u001b[0m\u001b[0;34m.\u001b[0m\u001b[0mpredict\u001b[0m\u001b[0;34m(\u001b[0m\u001b[0mto_predict\u001b[0m\u001b[0;34m)\u001b[0m\u001b[0;34m\u001b[0m\u001b[0;34m\u001b[0m\u001b[0m\n\u001b[0m",
      "\u001b[0;32m~/anaconda3/lib/python3.8/site-packages/sklearn/tree/_classes.py\u001b[0m in \u001b[0;36mpredict\u001b[0;34m(self, X, check_input)\u001b[0m\n\u001b[1;32m    440\u001b[0m         \"\"\"\n\u001b[1;32m    441\u001b[0m         \u001b[0mcheck_is_fitted\u001b[0m\u001b[0;34m(\u001b[0m\u001b[0mself\u001b[0m\u001b[0;34m)\u001b[0m\u001b[0;34m\u001b[0m\u001b[0;34m\u001b[0m\u001b[0m\n\u001b[0;32m--> 442\u001b[0;31m         \u001b[0mX\u001b[0m \u001b[0;34m=\u001b[0m \u001b[0mself\u001b[0m\u001b[0;34m.\u001b[0m\u001b[0m_validate_X_predict\u001b[0m\u001b[0;34m(\u001b[0m\u001b[0mX\u001b[0m\u001b[0;34m,\u001b[0m \u001b[0mcheck_input\u001b[0m\u001b[0;34m)\u001b[0m\u001b[0;34m\u001b[0m\u001b[0;34m\u001b[0m\u001b[0m\n\u001b[0m\u001b[1;32m    443\u001b[0m         \u001b[0mproba\u001b[0m \u001b[0;34m=\u001b[0m \u001b[0mself\u001b[0m\u001b[0;34m.\u001b[0m\u001b[0mtree_\u001b[0m\u001b[0;34m.\u001b[0m\u001b[0mpredict\u001b[0m\u001b[0;34m(\u001b[0m\u001b[0mX\u001b[0m\u001b[0;34m)\u001b[0m\u001b[0;34m\u001b[0m\u001b[0;34m\u001b[0m\u001b[0m\n\u001b[1;32m    444\u001b[0m         \u001b[0mn_samples\u001b[0m \u001b[0;34m=\u001b[0m \u001b[0mX\u001b[0m\u001b[0;34m.\u001b[0m\u001b[0mshape\u001b[0m\u001b[0;34m[\u001b[0m\u001b[0;36m0\u001b[0m\u001b[0;34m]\u001b[0m\u001b[0;34m\u001b[0m\u001b[0;34m\u001b[0m\u001b[0m\n",
      "\u001b[0;32m~/anaconda3/lib/python3.8/site-packages/sklearn/tree/_classes.py\u001b[0m in \u001b[0;36m_validate_X_predict\u001b[0;34m(self, X, check_input)\u001b[0m\n\u001b[1;32m    405\u001b[0m         \u001b[0;34m\"\"\"Validate the training data on predict (probabilities).\"\"\"\u001b[0m\u001b[0;34m\u001b[0m\u001b[0;34m\u001b[0m\u001b[0m\n\u001b[1;32m    406\u001b[0m         \u001b[0;32mif\u001b[0m \u001b[0mcheck_input\u001b[0m\u001b[0;34m:\u001b[0m\u001b[0;34m\u001b[0m\u001b[0;34m\u001b[0m\u001b[0m\n\u001b[0;32m--> 407\u001b[0;31m             X = self._validate_data(X, dtype=DTYPE, accept_sparse=\"csr\",\n\u001b[0m\u001b[1;32m    408\u001b[0m                                     reset=False)\n\u001b[1;32m    409\u001b[0m             if issparse(X) and (X.indices.dtype != np.intc or\n",
      "\u001b[0;32m~/anaconda3/lib/python3.8/site-packages/sklearn/base.py\u001b[0m in \u001b[0;36m_validate_data\u001b[0;34m(self, X, y, reset, validate_separately, **check_params)\u001b[0m\n\u001b[1;32m    419\u001b[0m             \u001b[0mout\u001b[0m \u001b[0;34m=\u001b[0m \u001b[0mX\u001b[0m\u001b[0;34m\u001b[0m\u001b[0;34m\u001b[0m\u001b[0m\n\u001b[1;32m    420\u001b[0m         \u001b[0;32melif\u001b[0m \u001b[0misinstance\u001b[0m\u001b[0;34m(\u001b[0m\u001b[0my\u001b[0m\u001b[0;34m,\u001b[0m \u001b[0mstr\u001b[0m\u001b[0;34m)\u001b[0m \u001b[0;32mand\u001b[0m \u001b[0my\u001b[0m \u001b[0;34m==\u001b[0m \u001b[0;34m'no_validation'\u001b[0m\u001b[0;34m:\u001b[0m\u001b[0;34m\u001b[0m\u001b[0;34m\u001b[0m\u001b[0m\n\u001b[0;32m--> 421\u001b[0;31m             \u001b[0mX\u001b[0m \u001b[0;34m=\u001b[0m \u001b[0mcheck_array\u001b[0m\u001b[0;34m(\u001b[0m\u001b[0mX\u001b[0m\u001b[0;34m,\u001b[0m \u001b[0;34m**\u001b[0m\u001b[0mcheck_params\u001b[0m\u001b[0;34m)\u001b[0m\u001b[0;34m\u001b[0m\u001b[0;34m\u001b[0m\u001b[0m\n\u001b[0m\u001b[1;32m    422\u001b[0m             \u001b[0mout\u001b[0m \u001b[0;34m=\u001b[0m \u001b[0mX\u001b[0m\u001b[0;34m\u001b[0m\u001b[0;34m\u001b[0m\u001b[0m\n\u001b[1;32m    423\u001b[0m         \u001b[0;32melse\u001b[0m\u001b[0;34m:\u001b[0m\u001b[0;34m\u001b[0m\u001b[0;34m\u001b[0m\u001b[0m\n",
      "\u001b[0;32m~/anaconda3/lib/python3.8/site-packages/sklearn/utils/validation.py\u001b[0m in \u001b[0;36minner_f\u001b[0;34m(*args, **kwargs)\u001b[0m\n\u001b[1;32m     61\u001b[0m             \u001b[0mextra_args\u001b[0m \u001b[0;34m=\u001b[0m \u001b[0mlen\u001b[0m\u001b[0;34m(\u001b[0m\u001b[0margs\u001b[0m\u001b[0;34m)\u001b[0m \u001b[0;34m-\u001b[0m \u001b[0mlen\u001b[0m\u001b[0;34m(\u001b[0m\u001b[0mall_args\u001b[0m\u001b[0;34m)\u001b[0m\u001b[0;34m\u001b[0m\u001b[0;34m\u001b[0m\u001b[0m\n\u001b[1;32m     62\u001b[0m             \u001b[0;32mif\u001b[0m \u001b[0mextra_args\u001b[0m \u001b[0;34m<=\u001b[0m \u001b[0;36m0\u001b[0m\u001b[0;34m:\u001b[0m\u001b[0;34m\u001b[0m\u001b[0;34m\u001b[0m\u001b[0m\n\u001b[0;32m---> 63\u001b[0;31m                 \u001b[0;32mreturn\u001b[0m \u001b[0mf\u001b[0m\u001b[0;34m(\u001b[0m\u001b[0;34m*\u001b[0m\u001b[0margs\u001b[0m\u001b[0;34m,\u001b[0m \u001b[0;34m**\u001b[0m\u001b[0mkwargs\u001b[0m\u001b[0;34m)\u001b[0m\u001b[0;34m\u001b[0m\u001b[0;34m\u001b[0m\u001b[0m\n\u001b[0m\u001b[1;32m     64\u001b[0m \u001b[0;34m\u001b[0m\u001b[0m\n\u001b[1;32m     65\u001b[0m             \u001b[0;31m# extra_args > 0\u001b[0m\u001b[0;34m\u001b[0m\u001b[0;34m\u001b[0m\u001b[0;34m\u001b[0m\u001b[0m\n",
      "\u001b[0;32m~/anaconda3/lib/python3.8/site-packages/sklearn/utils/validation.py\u001b[0m in \u001b[0;36mcheck_array\u001b[0;34m(array, accept_sparse, accept_large_sparse, dtype, order, copy, force_all_finite, ensure_2d, allow_nd, ensure_min_samples, ensure_min_features, estimator)\u001b[0m\n\u001b[1;32m    671\u001b[0m                     \u001b[0marray\u001b[0m \u001b[0;34m=\u001b[0m \u001b[0marray\u001b[0m\u001b[0;34m.\u001b[0m\u001b[0mastype\u001b[0m\u001b[0;34m(\u001b[0m\u001b[0mdtype\u001b[0m\u001b[0;34m,\u001b[0m \u001b[0mcasting\u001b[0m\u001b[0;34m=\u001b[0m\u001b[0;34m\"unsafe\"\u001b[0m\u001b[0;34m,\u001b[0m \u001b[0mcopy\u001b[0m\u001b[0;34m=\u001b[0m\u001b[0;32mFalse\u001b[0m\u001b[0;34m)\u001b[0m\u001b[0;34m\u001b[0m\u001b[0;34m\u001b[0m\u001b[0m\n\u001b[1;32m    672\u001b[0m                 \u001b[0;32melse\u001b[0m\u001b[0;34m:\u001b[0m\u001b[0;34m\u001b[0m\u001b[0;34m\u001b[0m\u001b[0m\n\u001b[0;32m--> 673\u001b[0;31m                     \u001b[0marray\u001b[0m \u001b[0;34m=\u001b[0m \u001b[0mnp\u001b[0m\u001b[0;34m.\u001b[0m\u001b[0masarray\u001b[0m\u001b[0;34m(\u001b[0m\u001b[0marray\u001b[0m\u001b[0;34m,\u001b[0m \u001b[0morder\u001b[0m\u001b[0;34m=\u001b[0m\u001b[0morder\u001b[0m\u001b[0;34m,\u001b[0m \u001b[0mdtype\u001b[0m\u001b[0;34m=\u001b[0m\u001b[0mdtype\u001b[0m\u001b[0;34m)\u001b[0m\u001b[0;34m\u001b[0m\u001b[0;34m\u001b[0m\u001b[0m\n\u001b[0m\u001b[1;32m    674\u001b[0m             \u001b[0;32mexcept\u001b[0m \u001b[0mComplexWarning\u001b[0m \u001b[0;32mas\u001b[0m \u001b[0mcomplex_warning\u001b[0m\u001b[0;34m:\u001b[0m\u001b[0;34m\u001b[0m\u001b[0;34m\u001b[0m\u001b[0m\n\u001b[1;32m    675\u001b[0m                 raise ValueError(\"Complex data not supported\\n\"\n",
      "\u001b[0;32m~/anaconda3/lib/python3.8/site-packages/numpy/core/_asarray.py\u001b[0m in \u001b[0;36masarray\u001b[0;34m(a, dtype, order, like)\u001b[0m\n\u001b[1;32m    100\u001b[0m         \u001b[0;32mreturn\u001b[0m \u001b[0m_asarray_with_like\u001b[0m\u001b[0;34m(\u001b[0m\u001b[0ma\u001b[0m\u001b[0;34m,\u001b[0m \u001b[0mdtype\u001b[0m\u001b[0;34m=\u001b[0m\u001b[0mdtype\u001b[0m\u001b[0;34m,\u001b[0m \u001b[0morder\u001b[0m\u001b[0;34m=\u001b[0m\u001b[0morder\u001b[0m\u001b[0;34m,\u001b[0m \u001b[0mlike\u001b[0m\u001b[0;34m=\u001b[0m\u001b[0mlike\u001b[0m\u001b[0;34m)\u001b[0m\u001b[0;34m\u001b[0m\u001b[0;34m\u001b[0m\u001b[0m\n\u001b[1;32m    101\u001b[0m \u001b[0;34m\u001b[0m\u001b[0m\n\u001b[0;32m--> 102\u001b[0;31m     \u001b[0;32mreturn\u001b[0m \u001b[0marray\u001b[0m\u001b[0;34m(\u001b[0m\u001b[0ma\u001b[0m\u001b[0;34m,\u001b[0m \u001b[0mdtype\u001b[0m\u001b[0;34m,\u001b[0m \u001b[0mcopy\u001b[0m\u001b[0;34m=\u001b[0m\u001b[0;32mFalse\u001b[0m\u001b[0;34m,\u001b[0m \u001b[0morder\u001b[0m\u001b[0;34m=\u001b[0m\u001b[0morder\u001b[0m\u001b[0;34m)\u001b[0m\u001b[0;34m\u001b[0m\u001b[0;34m\u001b[0m\u001b[0m\n\u001b[0m\u001b[1;32m    103\u001b[0m \u001b[0;34m\u001b[0m\u001b[0m\n\u001b[1;32m    104\u001b[0m \u001b[0;34m\u001b[0m\u001b[0m\n",
      "\u001b[0;32m~/anaconda3/lib/python3.8/site-packages/pandas/core/generic.py\u001b[0m in \u001b[0;36m__array__\u001b[0;34m(self, dtype)\u001b[0m\n\u001b[1;32m   1991\u001b[0m \u001b[0;34m\u001b[0m\u001b[0m\n\u001b[1;32m   1992\u001b[0m     \u001b[0;32mdef\u001b[0m \u001b[0m__array__\u001b[0m\u001b[0;34m(\u001b[0m\u001b[0mself\u001b[0m\u001b[0;34m,\u001b[0m \u001b[0mdtype\u001b[0m\u001b[0;34m:\u001b[0m \u001b[0mNpDtype\u001b[0m \u001b[0;34m|\u001b[0m \u001b[0;32mNone\u001b[0m \u001b[0;34m=\u001b[0m \u001b[0;32mNone\u001b[0m\u001b[0;34m)\u001b[0m \u001b[0;34m->\u001b[0m \u001b[0mnp\u001b[0m\u001b[0;34m.\u001b[0m\u001b[0mndarray\u001b[0m\u001b[0;34m:\u001b[0m\u001b[0;34m\u001b[0m\u001b[0;34m\u001b[0m\u001b[0m\n\u001b[0;32m-> 1993\u001b[0;31m         \u001b[0;32mreturn\u001b[0m \u001b[0mnp\u001b[0m\u001b[0;34m.\u001b[0m\u001b[0masarray\u001b[0m\u001b[0;34m(\u001b[0m\u001b[0mself\u001b[0m\u001b[0;34m.\u001b[0m\u001b[0m_values\u001b[0m\u001b[0;34m,\u001b[0m \u001b[0mdtype\u001b[0m\u001b[0;34m=\u001b[0m\u001b[0mdtype\u001b[0m\u001b[0;34m)\u001b[0m\u001b[0;34m\u001b[0m\u001b[0;34m\u001b[0m\u001b[0m\n\u001b[0m\u001b[1;32m   1994\u001b[0m \u001b[0;34m\u001b[0m\u001b[0m\n\u001b[1;32m   1995\u001b[0m     def __array_wrap__(\n",
      "\u001b[0;32m~/anaconda3/lib/python3.8/site-packages/numpy/core/_asarray.py\u001b[0m in \u001b[0;36masarray\u001b[0;34m(a, dtype, order, like)\u001b[0m\n\u001b[1;32m    100\u001b[0m         \u001b[0;32mreturn\u001b[0m \u001b[0m_asarray_with_like\u001b[0m\u001b[0;34m(\u001b[0m\u001b[0ma\u001b[0m\u001b[0;34m,\u001b[0m \u001b[0mdtype\u001b[0m\u001b[0;34m=\u001b[0m\u001b[0mdtype\u001b[0m\u001b[0;34m,\u001b[0m \u001b[0morder\u001b[0m\u001b[0;34m=\u001b[0m\u001b[0morder\u001b[0m\u001b[0;34m,\u001b[0m \u001b[0mlike\u001b[0m\u001b[0;34m=\u001b[0m\u001b[0mlike\u001b[0m\u001b[0;34m)\u001b[0m\u001b[0;34m\u001b[0m\u001b[0;34m\u001b[0m\u001b[0m\n\u001b[1;32m    101\u001b[0m \u001b[0;34m\u001b[0m\u001b[0m\n\u001b[0;32m--> 102\u001b[0;31m     \u001b[0;32mreturn\u001b[0m \u001b[0marray\u001b[0m\u001b[0;34m(\u001b[0m\u001b[0ma\u001b[0m\u001b[0;34m,\u001b[0m \u001b[0mdtype\u001b[0m\u001b[0;34m,\u001b[0m \u001b[0mcopy\u001b[0m\u001b[0;34m=\u001b[0m\u001b[0;32mFalse\u001b[0m\u001b[0;34m,\u001b[0m \u001b[0morder\u001b[0m\u001b[0;34m=\u001b[0m\u001b[0morder\u001b[0m\u001b[0;34m)\u001b[0m\u001b[0;34m\u001b[0m\u001b[0;34m\u001b[0m\u001b[0m\n\u001b[0m\u001b[1;32m    103\u001b[0m \u001b[0;34m\u001b[0m\u001b[0m\n\u001b[1;32m    104\u001b[0m \u001b[0;34m\u001b[0m\u001b[0m\n",
      "\u001b[0;31mValueError\u001b[0m: could not convert string to float: 'Hombre'"
     ]
    }
   ],
   "source": [
    "model.predict(to_predict)"
   ]
  },
  {
   "cell_type": "code",
   "execution_count": null,
   "id": "638c4fcf-e494-43c8-8584-4fab72b70203",
   "metadata": {},
   "outputs": [],
   "source": []
  },
  {
   "cell_type": "markdown",
   "id": "726d0906",
   "metadata": {},
   "source": [
    "# ¿Cuál es el Mejor Modelo con Train Test Split?"
   ]
  },
  {
   "cell_type": "markdown",
   "id": "96be2a77",
   "metadata": {},
   "source": [
    "> Tomamos la decisión con el modelo que haya tenido mayor precisión porque nos indicaría que ha acertado más veces la realidad en los datos de `Testeo`."
   ]
  },
  {
   "cell_type": "code",
   "execution_count": null,
   "id": "8c919de0",
   "metadata": {},
   "outputs": [],
   "source": []
  },
  {
   "cell_type": "markdown",
   "id": "859b0986",
   "metadata": {},
   "source": [
    "# La Importancia del Remuestreo"
   ]
  },
  {
   "cell_type": "markdown",
   "id": "efd163d0",
   "metadata": {},
   "source": [
    "> Las métricas nos dicen ahora que el mejor modelo es otro...\n",
    ">\n",
    "> Qué hubiera pasado si, por cada centésima de fallo `0.01` en datos que no conoce, perdemos 1 Millón de Euros. No sabría deciros en vuestro caso, pero con lo que da la diferencia yo me retiro...\n",
    ">\n",
    "> Los modelos pueden ser muy buenos en datos que conocen de antemano durante el entrenamiento. Sin embargo, quisiéramos emplear el modelo en datos que no conoció durante el entrenamiento (predecir si un cliente futuro afrontará un préstamo).\n",
    ">\n",
    "> El hecho de haber calibrado nuestro modelo, de ver lo bueno que es nuestro modelo en datos que no conoció **(Test)** durante el entrenamiento **(Train)** hace que nos fiemos mejor de su rendimiento frente a datos que no conoce.\n",
    ">\n",
    "> Por tanto, la técnica `train test split` debemos usarla siempre que queramos calibrar cómo de bueno es nuestro modelo."
   ]
  },
  {
   "cell_type": "code",
   "execution_count": null,
   "id": "a3b6f837",
   "metadata": {},
   "outputs": [],
   "source": []
  }
 ],
 "metadata": {
  "authors": [
   {
    "name": "Jesús López @sotastica"
   }
  ],
  "kernelspec": {
   "display_name": "Python 3 (ipykernel)",
   "language": "python",
   "name": "python3"
  },
  "language_info": {
   "codemirror_mode": {
    "name": "ipython",
    "version": 3
   },
   "file_extension": ".py",
   "mimetype": "text/x-python",
   "name": "python",
   "nbconvert_exporter": "python",
   "pygments_lexer": "ipython3",
   "version": "3.8.11"
  }
 },
 "nbformat": 4,
 "nbformat_minor": 5
}
